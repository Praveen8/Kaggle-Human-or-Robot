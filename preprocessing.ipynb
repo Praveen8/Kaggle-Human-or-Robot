{
 "cells": [
  {
   "cell_type": "code",
   "execution_count": null,
   "metadata": {},
   "outputs": [],
   "source": [
    "import numpy as np\n",
    "import pandas as pd\n",
    "import scipy as sp\n",
    "import seaborn as sns\n",
    "import matplotlib.pyplot as plt"
   ]
  },
  {
   "cell_type": "markdown",
   "metadata": {},
   "source": [
    "# Import data"
   ]
  },
  {
   "cell_type": "code",
   "execution_count": null,
   "metadata": {},
   "outputs": [],
   "source": [
    "#bids = pd.read_csv('data/bids.csv', sep=',')\n",
    "#print('bids: OK {}'.format(bids.shape))\n",
    "#bids.head()\n",
    "bids = pd.read_csv('data/bids_normalized.csv', sep=',')\n",
    "print('bids: OK {}'.format(bids.shape))\n",
    "bids.head()"
   ]
  },
  {
   "cell_type": "code",
   "execution_count": null,
   "metadata": {},
   "outputs": [],
   "source": [
    "bids_sorted = pd.read_csv('data/bids_sorted.csv', sep=',')\n",
    "print('bids_sorted: OK {}'.format(bids_sorted.shape))\n",
    "bids_sorted.head()"
   ]
  },
  {
   "cell_type": "code",
   "execution_count": null,
   "metadata": {},
   "outputs": [],
   "source": [
    "#b_train = pd.read_csv('data/train.csv', sep=',')\n",
    "#print('b_train: OK: {}'.format(b_train.shape))\n",
    "#b_train.head()\n",
    "b_train = pd.read_csv('data/b_train.csv', sep=',')\n",
    "print('b_train: OK: {}'.format(b_train.shape))\n",
    "b_train.head()"
   ]
  },
  {
   "cell_type": "code",
   "execution_count": null,
   "metadata": {},
   "outputs": [],
   "source": [
    "#b_test = pd.read_csv('data/test.csv', sep=',')\n",
    "#print('b_test: OK: {}'.format(b_test.shape))\n",
    "#b_test.head()\n",
    "b_test = pd.read_csv('data/b_test.csv', sep=',')\n",
    "print('b_test: OK: {}'.format(b_test.shape))\n",
    "b_test.head()"
   ]
  },
  {
   "cell_type": "markdown",
   "metadata": {},
   "source": [
    "# PREPROCESSING"
   ]
  },
  {
   "cell_type": "markdown",
   "metadata": {},
   "source": [
    "# bids_normalized table"
   ]
  },
  {
   "cell_type": "code",
   "execution_count": null,
   "metadata": {},
   "outputs": [],
   "source": [
    "bids.head()"
   ]
  },
  {
   "cell_type": "markdown",
   "metadata": {},
   "source": [
    "### 1. time_normalized"
   ]
  },
  {
   "cell_type": "code",
   "execution_count": null,
   "metadata": {},
   "outputs": [],
   "source": [
    "min_time = bids['time'].min()\n",
    "bids['time_normalized'] = round((bids['time'] - min_time) * 19 / 1e9,2)"
   ]
  },
  {
   "cell_type": "code",
   "execution_count": null,
   "metadata": {},
   "outputs": [],
   "source": [
    "pd.DataFrame(bids.time_normalized.unique())\n",
    "bids.head()"
   ]
  },
  {
   "cell_type": "markdown",
   "metadata": {},
   "source": [
    "### 2. outcome"
   ]
  },
  {
   "cell_type": "code",
   "execution_count": null,
   "metadata": {},
   "outputs": [],
   "source": [
    "bids['outcome'] = bids.merge(b_train, how='left', on='bidder_id').outcome"
   ]
  },
  {
   "cell_type": "markdown",
   "metadata": {},
   "source": [
    "### other"
   ]
  },
  {
   "cell_type": "code",
   "execution_count": null,
   "metadata": {},
   "outputs": [],
   "source": [
    "del bids['merchandise']"
   ]
  },
  {
   "cell_type": "code",
   "execution_count": null,
   "metadata": {},
   "outputs": [],
   "source": [
    "del bids['device']\n",
    "del bids['country']\n",
    "del bids['ip']\n",
    "del bids['url']"
   ]
  },
  {
   "cell_type": "code",
   "execution_count": null,
   "metadata": {},
   "outputs": [],
   "source": [
    "bids.to_csv('data/bids_normalized_short.csv', sep=',', header=True, index=False)"
   ]
  },
  {
   "cell_type": "markdown",
   "metadata": {},
   "source": [
    "# b_train table"
   ]
  },
  {
   "cell_type": "code",
   "execution_count": null,
   "metadata": {},
   "outputs": [],
   "source": [
    "del b_train['address']\n",
    "del b_train['payment_account']"
   ]
  },
  {
   "cell_type": "markdown",
   "metadata": {},
   "source": [
    "### 1. mean_time_diff"
   ]
  },
  {
   "cell_type": "code",
   "execution_count": null,
   "metadata": {},
   "outputs": [],
   "source": [
    "b_train['mean_time_diff'] = 0"
   ]
  },
  {
   "cell_type": "code",
   "execution_count": null,
   "metadata": {},
   "outputs": [],
   "source": [
    "b_train.head()"
   ]
  },
  {
   "cell_type": "code",
   "execution_count": null,
   "metadata": {},
   "outputs": [],
   "source": [
    "for bidder in b_train['bidder_id']:\n",
    "    #d = bids[bids.bidder_id == bidder].sort_values('time_normalized')[['time_normalized']] - bids[bids.bidder_id == bidder].sort_values('time_normalized')[['time_normalized']].shift(1)\n",
    "    #print(d.mean())\n",
    "    #b_train.loc[b_train[b_train.bidder_id == bidder].index,'mean_time_diff'] = (bids[bids.bidder_id == bidder].sort_values('time_normalized')[['time_normalized']] - bids[bids.bidder_id == bidder].sort_values('time_normalized')[['time_normalized']].shift(1)).mean()\n",
    "    \n",
    "    m = (bids[bids.bidder_id == bidder].sort_values('time_normalized')[['time_normalized']] - \n",
    "         bids[bids.bidder_id == bidder].sort_values('time_normalized')[['time_normalized']].shift(1)).mean()[0]\n",
    "    b_train.loc[b_train[b_train.bidder_id == bidder].index, 'mean_time_diff'] = m\n",
    "    \n",
    "#d['shifted'] = d.shift(1)\n",
    "#d['difference'] = d['time'] - d['shifted']\n",
    "#d\n",
    "    #plt.plot(d)\n",
    "#plt.show()\n",
    "#d"
   ]
  },
  {
   "cell_type": "code",
   "execution_count": null,
   "metadata": {},
   "outputs": [],
   "source": [
    "b_train.loc[:,'mean_time_diff'] = round(b_train.mean_time_diff,5)"
   ]
  },
  {
   "cell_type": "markdown",
   "metadata": {},
   "source": [
    "### 2. total_bids_count"
   ]
  },
  {
   "cell_type": "code",
   "execution_count": null,
   "metadata": {},
   "outputs": [],
   "source": [
    "b_train['total_bids_count'] = 0"
   ]
  },
  {
   "cell_type": "code",
   "execution_count": null,
   "metadata": {},
   "outputs": [],
   "source": [
    "b_train.head()"
   ]
  },
  {
   "cell_type": "code",
   "execution_count": null,
   "metadata": {},
   "outputs": [],
   "source": [
    "i = 0\n",
    "for bidder in b_train['bidder_id']:\n",
    "    if i % 100 == 0:\n",
    "        print(i)\n",
    "    i += 1\n",
    "    c = bids[bids.bidder_id == bidder].count()[0]\n",
    "    b_train.loc[b_train[b_train.bidder_id == bidder].index, 'total_bids_count'] = c"
   ]
  },
  {
   "cell_type": "markdown",
   "metadata": {},
   "source": [
    "### 3. total_auctions_count"
   ]
  },
  {
   "cell_type": "code",
   "execution_count": null,
   "metadata": {},
   "outputs": [],
   "source": [
    "b_train['total_auctions_count'] = 0"
   ]
  },
  {
   "cell_type": "code",
   "execution_count": null,
   "metadata": {
    "scrolled": true
   },
   "outputs": [],
   "source": [
    "b_train.head()"
   ]
  },
  {
   "cell_type": "code",
   "execution_count": null,
   "metadata": {},
   "outputs": [],
   "source": [
    "i = 0\n",
    "for bidder in b_train['bidder_id']:\n",
    "    if i % 100 == 0:\n",
    "        print(i)\n",
    "    i += 1\n",
    "    c = bids[bids.bidder_id == bidder]['auction'].nunique()\n",
    "    b_train.loc[b_train[b_train.bidder_id == bidder].index, 'total_auctions_count'] = c"
   ]
  },
  {
   "cell_type": "code",
   "execution_count": null,
   "metadata": {},
   "outputs": [],
   "source": [
    "b_train.to_csv('data/b_train.csv', sep=',', header=True, index=False)"
   ]
  },
  {
   "cell_type": "markdown",
   "metadata": {},
   "source": [
    "### 4. mean_time_diff2"
   ]
  },
  {
   "cell_type": "code",
   "execution_count": null,
   "metadata": {},
   "outputs": [],
   "source": [
    "b_train['mean_time_diff2'] = 0"
   ]
  },
  {
   "cell_type": "code",
   "execution_count": null,
   "metadata": {},
   "outputs": [],
   "source": [
    "b_train.head()"
   ]
  },
  {
   "cell_type": "code",
   "execution_count": null,
   "metadata": {},
   "outputs": [],
   "source": [
    "i = 0\n",
    "for bidder in b_train['bidder_id'][:1]:\n",
    "    if i % 10 == 0:\n",
    "        print(i)\n",
    "        print('bidder:', bidder)\n",
    "        print(bids[bids.bidder_id == bidder].sort_values(by='time_normalized')[['auction','time_normalized']].count()[0])\n",
    "    i += 1\n",
    "    time_diffs = []\n",
    "    for auction in bids[bids.bidder_id == bidder].sort_values(by='time_normalized')[['auction','time_normalized']].values:\n",
    "        print(auction)\n",
    "        df = bids[bids.auction == auction[0]].sort_values(by='time_normalized')[['bidder_id', 'time_normalized']]\n",
    "        df['diff'] = bids[bids.auction == auction[0]].sort_values(by='time_normalized')['time_normalized'] - bids[bids.auction == auction[0]].sort_values(by='time_normalized')['time_normalized'].shift(1)\n",
    "        c = np.array(df[(df.bidder_id == bidder) & (df.time_normalized == auction[1])]['diff'])[0]\n",
    "        time_diffs.append(c)\n",
    "    b_train.loc[b_train[b_train.bidder_id == bidder].index, 'mean_time_diff2'] = np.array(time_diffs).mean()"
   ]
  },
  {
   "cell_type": "code",
   "execution_count": null,
   "metadata": {},
   "outputs": [],
   "source": [
    "bids_sorted = bids.sort_values(by=['auction', 'time'])\n",
    "del bids_sorted['time']\n",
    "del bids_sorted['outcome']\n",
    "bids_sorted['diff'] = bids_sorted.time_normalized - bids_sorted.time_normalized.shift(1)"
   ]
  },
  {
   "cell_type": "code",
   "execution_count": null,
   "metadata": {},
   "outputs": [],
   "source": [
    "i = 0\n",
    "for auc in bids_sorted.auction.unique():\n",
    "    print(i)\n",
    "    i += 1\n",
    "    bids_sorted.loc[bids_sorted[bids_sorted.auction == auc].index, 'diff2'] = bids_sorted[bids_sorted.auction == auc].time_normalized - bids_sorted[bids_sorted.auction == auc].time_normalized.shift(1)"
   ]
  },
  {
   "cell_type": "code",
   "execution_count": null,
   "metadata": {},
   "outputs": [],
   "source": [
    "bids_sorted.to_csv('data/bids_sorted.csv', sep=',', header=True, index=False)"
   ]
  },
  {
   "cell_type": "code",
   "execution_count": null,
   "metadata": {},
   "outputs": [],
   "source": [
    "i = 0\n",
    "for auc in bids_sorted.auction.unique():\n",
    "    if i % 200 == 0:\n",
    "        print(i)\n",
    "    i += 1\n",
    "    bids_sorted.loc[bids_sorted[bids_sorted.auction == auc].index[0], 'diff'] = np.NaN\n",
    "    #bids_sorted.loc[bids_sorted[bids_sorted.auction == auc].index, 'diff'] = bids_sorted[bids_sorted.auction == auc].time_normalized - bids_sorted[bids_sorted.auction == auc].time_normalized.shift(1)"
   ]
  },
  {
   "cell_type": "code",
   "execution_count": null,
   "metadata": {},
   "outputs": [],
   "source": [
    "bids_sorted.head()"
   ]
  },
  {
   "cell_type": "markdown",
   "metadata": {},
   "source": [
    "# 2) b_test table"
   ]
  },
  {
   "cell_type": "code",
   "execution_count": 27,
   "metadata": {
    "collapsed": true
   },
   "outputs": [],
   "source": [
    "del b_test['address']\n",
    "del b_test['payment_account']"
   ]
  },
  {
   "cell_type": "markdown",
   "metadata": {},
   "source": [
    "### 1. mean_time_diff"
   ]
  },
  {
   "cell_type": "code",
   "execution_count": 28,
   "metadata": {
    "collapsed": true
   },
   "outputs": [],
   "source": [
    "#b_test['mean_time_diff'] = 0"
   ]
  },
  {
   "cell_type": "code",
   "execution_count": 26,
   "metadata": {},
   "outputs": [],
   "source": [
    "i = 0\n",
    "#for bidder in b_test['bidder_id']:\n",
    "    if i % 200 == 0:\n",
    "        print(i)\n",
    "    i += 1\n",
    "    #d = bids[bids.bidder_id == bidder].sort_values('time_normalized')[['time_normalized']] - bids[bids.bidder_id == bidder].sort_values('time_normalized')[['time_normalized']].shift(1)\n",
    "    #print(d.mean())\n",
    "    #b_test.loc[b_test[b_test.bidder_id == bidder].index,'mean_time_diff'] = (bids[bids.bidder_id == bidder].sort_values('time_normalized')[['time_normalized']] - bids[bids.bidder_id == bidder].sort_values('time_normalized')[['time_normalized']].shift(1)).mean()\n",
    "    \n",
    "    m = (bids[bids.bidder_id == bidder].sort_values('time_normalized')[['time_normalized']] - \n",
    "         bids[bids.bidder_id == bidder].sort_values('time_normalized')[['time_normalized']].shift(1)).mean()[0]\n",
    "    b_test.loc[b_test[b_test.bidder_id == bidder].index, 'mean_time_diff'] = m\n",
    "    \n",
    "#d['shifted'] = d.shift(1)\n",
    "#d['difference'] = d['time'] - d['shifted']\n",
    "#d\n",
    "    #plt.plot(d)\n",
    "#plt.show()\n",
    "#d"
   ]
  },
  {
   "cell_type": "code",
   "execution_count": 10,
   "metadata": {
    "collapsed": true
   },
   "outputs": [],
   "source": [
    "b_test.loc[:,'mean_time_diff'] = round(b_test.mean_time_diff, 5)"
   ]
  },
  {
   "cell_type": "markdown",
   "metadata": {},
   "source": [
    "### 2. total_bids_count"
   ]
  },
  {
   "cell_type": "code",
   "execution_count": 32,
   "metadata": {
    "collapsed": true
   },
   "outputs": [],
   "source": [
    "b_test['total_bids_count'] = 0"
   ]
  },
  {
   "cell_type": "code",
   "execution_count": 36,
   "metadata": {},
   "outputs": [
    {
     "data": {
      "text/html": [
       "<div>\n",
       "<style>\n",
       "    .dataframe thead tr:only-child th {\n",
       "        text-align: right;\n",
       "    }\n",
       "\n",
       "    .dataframe thead th {\n",
       "        text-align: left;\n",
       "    }\n",
       "\n",
       "    .dataframe tbody tr th {\n",
       "        vertical-align: top;\n",
       "    }\n",
       "</style>\n",
       "<table border=\"1\" class=\"dataframe\">\n",
       "  <thead>\n",
       "    <tr style=\"text-align: right;\">\n",
       "      <th></th>\n",
       "      <th>bidder_id</th>\n",
       "      <th>mean_time_diff</th>\n",
       "      <th>total_bids_count</th>\n",
       "    </tr>\n",
       "  </thead>\n",
       "  <tbody>\n",
       "    <tr>\n",
       "      <th>0</th>\n",
       "      <td>49bb5a3c944b8fc337981cc7a9ccae41u31d7</td>\n",
       "      <td>444750.00000</td>\n",
       "      <td>4</td>\n",
       "    </tr>\n",
       "    <tr>\n",
       "      <th>1</th>\n",
       "      <td>a921612b85a1494456e74c09393ccb65ylp4y</td>\n",
       "      <td>722019.50000</td>\n",
       "      <td>3</td>\n",
       "    </tr>\n",
       "    <tr>\n",
       "      <th>2</th>\n",
       "      <td>6b601e72a4d264dab9ace9d7b229b47479v6i</td>\n",
       "      <td>345.62500</td>\n",
       "      <td>17</td>\n",
       "    </tr>\n",
       "    <tr>\n",
       "      <th>3</th>\n",
       "      <td>eaf0ed0afc9689779417274b4791726cn5udi</td>\n",
       "      <td>9890.55102</td>\n",
       "      <td>148</td>\n",
       "    </tr>\n",
       "    <tr>\n",
       "      <th>4</th>\n",
       "      <td>cdecd8d02ed8c6037e38042c7745f688mx5sf</td>\n",
       "      <td>5678.22727</td>\n",
       "      <td>23</td>\n",
       "    </tr>\n",
       "  </tbody>\n",
       "</table>\n",
       "</div>"
      ],
      "text/plain": [
       "                               bidder_id  mean_time_diff  total_bids_count\n",
       "0  49bb5a3c944b8fc337981cc7a9ccae41u31d7    444750.00000                 4\n",
       "1  a921612b85a1494456e74c09393ccb65ylp4y    722019.50000                 3\n",
       "2  6b601e72a4d264dab9ace9d7b229b47479v6i       345.62500                17\n",
       "3  eaf0ed0afc9689779417274b4791726cn5udi      9890.55102               148\n",
       "4  cdecd8d02ed8c6037e38042c7745f688mx5sf      5678.22727                23"
      ]
     },
     "execution_count": 36,
     "metadata": {},
     "output_type": "execute_result"
    }
   ],
   "source": [
    "b_test.head()"
   ]
  },
  {
   "cell_type": "code",
   "execution_count": null,
   "metadata": {},
   "outputs": [],
   "source": [
    "i = 0\n",
    "for bidder in b_test['bidder_id']:\n",
    "    if i % 100 == 0:\n",
    "        print(i)\n",
    "    i += 1\n",
    "    c = bids[bids.bidder_id == bidder].count()[0]\n",
    "    b_test.loc[b_test[b_test.bidder_id == bidder].index, 'total_bids_count'] = c"
   ]
  },
  {
   "cell_type": "markdown",
   "metadata": {},
   "source": [
    "### 3. total_auctions_count"
   ]
  },
  {
   "cell_type": "code",
   "execution_count": 37,
   "metadata": {
    "collapsed": true
   },
   "outputs": [],
   "source": [
    "b_test['total_auctions_count'] = 0"
   ]
  },
  {
   "cell_type": "code",
   "execution_count": 38,
   "metadata": {
    "scrolled": true
   },
   "outputs": [
    {
     "data": {
      "text/html": [
       "<div>\n",
       "<style>\n",
       "    .dataframe thead tr:only-child th {\n",
       "        text-align: right;\n",
       "    }\n",
       "\n",
       "    .dataframe thead th {\n",
       "        text-align: left;\n",
       "    }\n",
       "\n",
       "    .dataframe tbody tr th {\n",
       "        vertical-align: top;\n",
       "    }\n",
       "</style>\n",
       "<table border=\"1\" class=\"dataframe\">\n",
       "  <thead>\n",
       "    <tr style=\"text-align: right;\">\n",
       "      <th></th>\n",
       "      <th>bidder_id</th>\n",
       "      <th>mean_time_diff</th>\n",
       "      <th>total_bids_count</th>\n",
       "      <th>total_auctions_count</th>\n",
       "    </tr>\n",
       "  </thead>\n",
       "  <tbody>\n",
       "    <tr>\n",
       "      <th>0</th>\n",
       "      <td>49bb5a3c944b8fc337981cc7a9ccae41u31d7</td>\n",
       "      <td>444750.00000</td>\n",
       "      <td>4</td>\n",
       "      <td>0</td>\n",
       "    </tr>\n",
       "    <tr>\n",
       "      <th>1</th>\n",
       "      <td>a921612b85a1494456e74c09393ccb65ylp4y</td>\n",
       "      <td>722019.50000</td>\n",
       "      <td>3</td>\n",
       "      <td>0</td>\n",
       "    </tr>\n",
       "    <tr>\n",
       "      <th>2</th>\n",
       "      <td>6b601e72a4d264dab9ace9d7b229b47479v6i</td>\n",
       "      <td>345.62500</td>\n",
       "      <td>17</td>\n",
       "      <td>0</td>\n",
       "    </tr>\n",
       "    <tr>\n",
       "      <th>3</th>\n",
       "      <td>eaf0ed0afc9689779417274b4791726cn5udi</td>\n",
       "      <td>9890.55102</td>\n",
       "      <td>148</td>\n",
       "      <td>0</td>\n",
       "    </tr>\n",
       "    <tr>\n",
       "      <th>4</th>\n",
       "      <td>cdecd8d02ed8c6037e38042c7745f688mx5sf</td>\n",
       "      <td>5678.22727</td>\n",
       "      <td>23</td>\n",
       "      <td>0</td>\n",
       "    </tr>\n",
       "  </tbody>\n",
       "</table>\n",
       "</div>"
      ],
      "text/plain": [
       "                               bidder_id  mean_time_diff  total_bids_count  \\\n",
       "0  49bb5a3c944b8fc337981cc7a9ccae41u31d7    444750.00000                 4   \n",
       "1  a921612b85a1494456e74c09393ccb65ylp4y    722019.50000                 3   \n",
       "2  6b601e72a4d264dab9ace9d7b229b47479v6i       345.62500                17   \n",
       "3  eaf0ed0afc9689779417274b4791726cn5udi      9890.55102               148   \n",
       "4  cdecd8d02ed8c6037e38042c7745f688mx5sf      5678.22727                23   \n",
       "\n",
       "   total_auctions_count  \n",
       "0                     0  \n",
       "1                     0  \n",
       "2                     0  \n",
       "3                     0  \n",
       "4                     0  "
      ]
     },
     "execution_count": 38,
     "metadata": {},
     "output_type": "execute_result"
    }
   ],
   "source": [
    "b_test.head()"
   ]
  },
  {
   "cell_type": "code",
   "execution_count": null,
   "metadata": {
    "scrolled": true
   },
   "outputs": [],
   "source": [
    "i = 0\n",
    "for bidder in b_test['bidder_id']:\n",
    "    if i % 100 == 0:\n",
    "        print(i)\n",
    "    i += 1\n",
    "    c = bids[bids.bidder_id == bidder]['auction'].nunique()\n",
    "    b_test.loc[b_test[b_test.bidder_id == bidder].index, 'total_auctions_count'] = c"
   ]
  },
  {
   "cell_type": "code",
   "execution_count": 35,
   "metadata": {
    "collapsed": true
   },
   "outputs": [],
   "source": [
    "b_test.to_csv('data/b_test.csv', sep=',', header=True, index=False)"
   ]
  },
  {
   "cell_type": "code",
   "execution_count": null,
   "metadata": {},
   "outputs": [],
   "source": []
  }
 ],
 "metadata": {
  "kernelspec": {
   "display_name": "Python 3",
   "language": "python",
   "name": "python3"
  },
  "language_info": {
   "codemirror_mode": {
    "name": "ipython",
    "version": 3
   },
   "file_extension": ".py",
   "mimetype": "text/x-python",
   "name": "python",
   "nbconvert_exporter": "python",
   "pygments_lexer": "ipython3",
   "version": "3.6.1"
  }
 },
 "nbformat": 4,
 "nbformat_minor": 2
}
