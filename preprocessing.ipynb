{
 "cells": [
  {
   "cell_type": "code",
   "execution_count": 166,
   "metadata": {},
   "outputs": [],
   "source": [
    "import numpy as np\n",
    "import pandas as pd\n",
    "from scipy.stats import entropy\n",
    "import seaborn as sns\n",
    "import matplotlib.pyplot as plt"
   ]
  },
  {
   "cell_type": "markdown",
   "metadata": {},
   "source": [
    "# Import data"
   ]
  },
  {
   "cell_type": "code",
   "execution_count": 167,
   "metadata": {},
   "outputs": [
    {
     "name": "stdout",
     "output_type": "stream",
     "text": [
      "bids: OK (7656334, 9)\n"
     ]
    },
    {
     "data": {
      "text/html": [
       "<div>\n",
       "<style>\n",
       "    .dataframe thead tr:only-child th {\n",
       "        text-align: right;\n",
       "    }\n",
       "\n",
       "    .dataframe thead th {\n",
       "        text-align: left;\n",
       "    }\n",
       "\n",
       "    .dataframe tbody tr th {\n",
       "        vertical-align: top;\n",
       "    }\n",
       "</style>\n",
       "<table border=\"1\" class=\"dataframe\">\n",
       "  <thead>\n",
       "    <tr style=\"text-align: right;\">\n",
       "      <th></th>\n",
       "      <th>bid_id</th>\n",
       "      <th>bidder_id</th>\n",
       "      <th>auction</th>\n",
       "      <th>device</th>\n",
       "      <th>country</th>\n",
       "      <th>ip</th>\n",
       "      <th>url</th>\n",
       "      <th>time_normalized</th>\n",
       "      <th>outcome</th>\n",
       "    </tr>\n",
       "  </thead>\n",
       "  <tbody>\n",
       "    <tr>\n",
       "      <th>0</th>\n",
       "      <td>0</td>\n",
       "      <td>8dac2b259fd1c6d1120e519fb1ac14fbqvax8</td>\n",
       "      <td>ewmzr</td>\n",
       "      <td>phone0</td>\n",
       "      <td>us</td>\n",
       "      <td>69.166.231.58</td>\n",
       "      <td>vasstdc27m7nks3</td>\n",
       "      <td>2419200.0</td>\n",
       "      <td>NaN</td>\n",
       "    </tr>\n",
       "    <tr>\n",
       "      <th>1</th>\n",
       "      <td>1</td>\n",
       "      <td>668d393e858e8126275433046bbd35c6tywop</td>\n",
       "      <td>aeqok</td>\n",
       "      <td>phone1</td>\n",
       "      <td>in</td>\n",
       "      <td>50.201.125.84</td>\n",
       "      <td>jmqlhflrzwuay9c</td>\n",
       "      <td>2419200.0</td>\n",
       "      <td>0.0</td>\n",
       "    </tr>\n",
       "    <tr>\n",
       "      <th>2</th>\n",
       "      <td>2</td>\n",
       "      <td>aa5f360084278b35d746fa6af3a7a1a5ra3xe</td>\n",
       "      <td>wa00e</td>\n",
       "      <td>phone2</td>\n",
       "      <td>py</td>\n",
       "      <td>112.54.208.157</td>\n",
       "      <td>vasstdc27m7nks3</td>\n",
       "      <td>2419200.0</td>\n",
       "      <td>NaN</td>\n",
       "    </tr>\n",
       "    <tr>\n",
       "      <th>3</th>\n",
       "      <td>3</td>\n",
       "      <td>3939ac3ef7d472a59a9c5f893dd3e39fh9ofi</td>\n",
       "      <td>jefix</td>\n",
       "      <td>phone4</td>\n",
       "      <td>in</td>\n",
       "      <td>18.99.175.133</td>\n",
       "      <td>vasstdc27m7nks3</td>\n",
       "      <td>2419200.0</td>\n",
       "      <td>NaN</td>\n",
       "    </tr>\n",
       "    <tr>\n",
       "      <th>4</th>\n",
       "      <td>4</td>\n",
       "      <td>8393c48eaf4b8fa96886edc7cf27b372dsibi</td>\n",
       "      <td>jefix</td>\n",
       "      <td>phone5</td>\n",
       "      <td>in</td>\n",
       "      <td>145.138.5.37</td>\n",
       "      <td>vasstdc27m7nks3</td>\n",
       "      <td>2419200.0</td>\n",
       "      <td>NaN</td>\n",
       "    </tr>\n",
       "  </tbody>\n",
       "</table>\n",
       "</div>"
      ],
      "text/plain": [
       "   bid_id                              bidder_id auction  device country  \\\n",
       "0       0  8dac2b259fd1c6d1120e519fb1ac14fbqvax8   ewmzr  phone0      us   \n",
       "1       1  668d393e858e8126275433046bbd35c6tywop   aeqok  phone1      in   \n",
       "2       2  aa5f360084278b35d746fa6af3a7a1a5ra3xe   wa00e  phone2      py   \n",
       "3       3  3939ac3ef7d472a59a9c5f893dd3e39fh9ofi   jefix  phone4      in   \n",
       "4       4  8393c48eaf4b8fa96886edc7cf27b372dsibi   jefix  phone5      in   \n",
       "\n",
       "               ip              url  time_normalized  outcome  \n",
       "0   69.166.231.58  vasstdc27m7nks3        2419200.0      NaN  \n",
       "1   50.201.125.84  jmqlhflrzwuay9c        2419200.0      0.0  \n",
       "2  112.54.208.157  vasstdc27m7nks3        2419200.0      NaN  \n",
       "3   18.99.175.133  vasstdc27m7nks3        2419200.0      NaN  \n",
       "4    145.138.5.37  vasstdc27m7nks3        2419200.0      NaN  "
      ]
     },
     "execution_count": 167,
     "metadata": {},
     "output_type": "execute_result"
    }
   ],
   "source": [
    "#bids = pd.read_csv('data/bids.csv', sep=',')\n",
    "#print('bids: OK {}'.format(bids.shape))\n",
    "#bids.head()\n",
    "bids = pd.read_csv('data/bids_normalized.csv', sep=',')\n",
    "print('bids: OK {}'.format(bids.shape))\n",
    "bids.head()s"
   ]
  },
  {
   "cell_type": "code",
   "execution_count": 168,
   "metadata": {},
   "outputs": [
    {
     "name": "stdout",
     "output_type": "stream",
     "text": [
      "b_train: OK: (2013, 10)\n"
     ]
    },
    {
     "data": {
      "text/html": [
       "<div>\n",
       "<style>\n",
       "    .dataframe thead tr:only-child th {\n",
       "        text-align: right;\n",
       "    }\n",
       "\n",
       "    .dataframe thead th {\n",
       "        text-align: left;\n",
       "    }\n",
       "\n",
       "    .dataframe tbody tr th {\n",
       "        vertical-align: top;\n",
       "    }\n",
       "</style>\n",
       "<table border=\"1\" class=\"dataframe\">\n",
       "  <thead>\n",
       "    <tr style=\"text-align: right;\">\n",
       "      <th></th>\n",
       "      <th>bidder_id</th>\n",
       "      <th>outcome</th>\n",
       "      <th>total_bids</th>\n",
       "      <th>total_auctions</th>\n",
       "      <th>bids_per_auction</th>\n",
       "      <th>mean_time_diff</th>\n",
       "      <th>mean_response</th>\n",
       "      <th>min_response</th>\n",
       "      <th>ip_entropy</th>\n",
       "      <th>url_entropy</th>\n",
       "    </tr>\n",
       "  </thead>\n",
       "  <tbody>\n",
       "    <tr>\n",
       "      <th>0</th>\n",
       "      <td>91a3c57b13234af24875c56fb7e2b2f4rb56a</td>\n",
       "      <td>0.0</td>\n",
       "      <td>24</td>\n",
       "      <td>18</td>\n",
       "      <td>1.3333</td>\n",
       "      <td>10851.13</td>\n",
       "      <td>10673.3750</td>\n",
       "      <td>0.0</td>\n",
       "      <td>49.8149</td>\n",
       "      <td>0.0000</td>\n",
       "    </tr>\n",
       "    <tr>\n",
       "      <th>1</th>\n",
       "      <td>624f258b49e77713fc34034560f93fb3hu3jo</td>\n",
       "      <td>0.0</td>\n",
       "      <td>3</td>\n",
       "      <td>1</td>\n",
       "      <td>3.0000</td>\n",
       "      <td>61438.00</td>\n",
       "      <td>2.3333</td>\n",
       "      <td>0.0</td>\n",
       "      <td>0.6931</td>\n",
       "      <td>0.6931</td>\n",
       "    </tr>\n",
       "    <tr>\n",
       "      <th>2</th>\n",
       "      <td>1c5f4fc669099bfbfac515cd26997bd12ruaj</td>\n",
       "      <td>0.0</td>\n",
       "      <td>4</td>\n",
       "      <td>4</td>\n",
       "      <td>1.0000</td>\n",
       "      <td>45201.00</td>\n",
       "      <td>219.0000</td>\n",
       "      <td>79.0</td>\n",
       "      <td>1.7918</td>\n",
       "      <td>1.0986</td>\n",
       "    </tr>\n",
       "    <tr>\n",
       "      <th>3</th>\n",
       "      <td>4bee9aba2abda51bf43d639013d6efe12iycd</td>\n",
       "      <td>0.0</td>\n",
       "      <td>1</td>\n",
       "      <td>1</td>\n",
       "      <td>1.0000</td>\n",
       "      <td>NaN</td>\n",
       "      <td>330.0000</td>\n",
       "      <td>330.0</td>\n",
       "      <td>0.0000</td>\n",
       "      <td>0.0000</td>\n",
       "    </tr>\n",
       "    <tr>\n",
       "      <th>4</th>\n",
       "      <td>4ab12bc61c82ddd9c2d65e60555808acqgos1</td>\n",
       "      <td>0.0</td>\n",
       "      <td>155</td>\n",
       "      <td>23</td>\n",
       "      <td>6.7391</td>\n",
       "      <td>1477.80</td>\n",
       "      <td>35.2258</td>\n",
       "      <td>0.0</td>\n",
       "      <td>601.0291</td>\n",
       "      <td>460.9263</td>\n",
       "    </tr>\n",
       "  </tbody>\n",
       "</table>\n",
       "</div>"
      ],
      "text/plain": [
       "                               bidder_id  outcome  total_bids  total_auctions  \\\n",
       "0  91a3c57b13234af24875c56fb7e2b2f4rb56a      0.0          24              18   \n",
       "1  624f258b49e77713fc34034560f93fb3hu3jo      0.0           3               1   \n",
       "2  1c5f4fc669099bfbfac515cd26997bd12ruaj      0.0           4               4   \n",
       "3  4bee9aba2abda51bf43d639013d6efe12iycd      0.0           1               1   \n",
       "4  4ab12bc61c82ddd9c2d65e60555808acqgos1      0.0         155              23   \n",
       "\n",
       "   bids_per_auction  mean_time_diff  mean_response  min_response  ip_entropy  \\\n",
       "0            1.3333        10851.13     10673.3750           0.0     49.8149   \n",
       "1            3.0000        61438.00         2.3333           0.0      0.6931   \n",
       "2            1.0000        45201.00       219.0000          79.0      1.7918   \n",
       "3            1.0000             NaN       330.0000         330.0      0.0000   \n",
       "4            6.7391         1477.80        35.2258           0.0    601.0291   \n",
       "\n",
       "   url_entropy  \n",
       "0       0.0000  \n",
       "1       0.6931  \n",
       "2       1.0986  \n",
       "3       0.0000  \n",
       "4     460.9263  "
      ]
     },
     "execution_count": 168,
     "metadata": {},
     "output_type": "execute_result"
    }
   ],
   "source": [
    "#b_train = pd.read_csv('data/train.csv', sep=',')\n",
    "#print('b_train: OK: {}'.format(b_train.shape))\n",
    "#b_train.head()\n",
    "b_train = pd.read_csv('data/b_train.csv', sep=',')\n",
    "print('b_train: OK: {}'.format(b_train.shape))\n",
    "b_train.head()"
   ]
  },
  {
   "cell_type": "code",
   "execution_count": 169,
   "metadata": {},
   "outputs": [
    {
     "name": "stdout",
     "output_type": "stream",
     "text": [
      "b_test: OK: (4700, 9)\n"
     ]
    },
    {
     "data": {
      "text/html": [
       "<div>\n",
       "<style>\n",
       "    .dataframe thead tr:only-child th {\n",
       "        text-align: right;\n",
       "    }\n",
       "\n",
       "    .dataframe thead th {\n",
       "        text-align: left;\n",
       "    }\n",
       "\n",
       "    .dataframe tbody tr th {\n",
       "        vertical-align: top;\n",
       "    }\n",
       "</style>\n",
       "<table border=\"1\" class=\"dataframe\">\n",
       "  <thead>\n",
       "    <tr style=\"text-align: right;\">\n",
       "      <th></th>\n",
       "      <th>bidder_id</th>\n",
       "      <th>total_bids</th>\n",
       "      <th>total_auctions</th>\n",
       "      <th>bids_per_auction</th>\n",
       "      <th>mean_time_diff</th>\n",
       "      <th>mean_response</th>\n",
       "      <th>min_response</th>\n",
       "      <th>ip_entropy</th>\n",
       "      <th>url_entropy</th>\n",
       "    </tr>\n",
       "  </thead>\n",
       "  <tbody>\n",
       "    <tr>\n",
       "      <th>0</th>\n",
       "      <td>49bb5a3c944b8fc337981cc7a9ccae41u31d7</td>\n",
       "      <td>4</td>\n",
       "      <td>3</td>\n",
       "      <td>1.3333</td>\n",
       "      <td>444750.0000</td>\n",
       "      <td>16.7500</td>\n",
       "      <td>0.0</td>\n",
       "      <td>1.7918</td>\n",
       "      <td>1.7918</td>\n",
       "    </tr>\n",
       "    <tr>\n",
       "      <th>1</th>\n",
       "      <td>a921612b85a1494456e74c09393ccb65ylp4y</td>\n",
       "      <td>3</td>\n",
       "      <td>2</td>\n",
       "      <td>1.5000</td>\n",
       "      <td>722019.5000</td>\n",
       "      <td>371.3333</td>\n",
       "      <td>2.0</td>\n",
       "      <td>0.6931</td>\n",
       "      <td>0.0000</td>\n",
       "    </tr>\n",
       "    <tr>\n",
       "      <th>2</th>\n",
       "      <td>6b601e72a4d264dab9ace9d7b229b47479v6i</td>\n",
       "      <td>17</td>\n",
       "      <td>14</td>\n",
       "      <td>1.2143</td>\n",
       "      <td>345.6250</td>\n",
       "      <td>186.3529</td>\n",
       "      <td>0.0</td>\n",
       "      <td>17.3592</td>\n",
       "      <td>8.8929</td>\n",
       "    </tr>\n",
       "    <tr>\n",
       "      <th>3</th>\n",
       "      <td>eaf0ed0afc9689779417274b4791726cn5udi</td>\n",
       "      <td>148</td>\n",
       "      <td>90</td>\n",
       "      <td>1.6444</td>\n",
       "      <td>9890.5510</td>\n",
       "      <td>7762.0946</td>\n",
       "      <td>0.0</td>\n",
       "      <td>580.2510</td>\n",
       "      <td>384.8401</td>\n",
       "    </tr>\n",
       "    <tr>\n",
       "      <th>4</th>\n",
       "      <td>cdecd8d02ed8c6037e38042c7745f688mx5sf</td>\n",
       "      <td>23</td>\n",
       "      <td>20</td>\n",
       "      <td>1.1500</td>\n",
       "      <td>5678.2273</td>\n",
       "      <td>9168.6957</td>\n",
       "      <td>16.0</td>\n",
       "      <td>48.4712</td>\n",
       "      <td>0.0000</td>\n",
       "    </tr>\n",
       "  </tbody>\n",
       "</table>\n",
       "</div>"
      ],
      "text/plain": [
       "                               bidder_id  total_bids  total_auctions  \\\n",
       "0  49bb5a3c944b8fc337981cc7a9ccae41u31d7           4               3   \n",
       "1  a921612b85a1494456e74c09393ccb65ylp4y           3               2   \n",
       "2  6b601e72a4d264dab9ace9d7b229b47479v6i          17              14   \n",
       "3  eaf0ed0afc9689779417274b4791726cn5udi         148              90   \n",
       "4  cdecd8d02ed8c6037e38042c7745f688mx5sf          23              20   \n",
       "\n",
       "   bids_per_auction  mean_time_diff  mean_response  min_response  ip_entropy  \\\n",
       "0            1.3333     444750.0000        16.7500           0.0      1.7918   \n",
       "1            1.5000     722019.5000       371.3333           2.0      0.6931   \n",
       "2            1.2143        345.6250       186.3529           0.0     17.3592   \n",
       "3            1.6444       9890.5510      7762.0946           0.0    580.2510   \n",
       "4            1.1500       5678.2273      9168.6957          16.0     48.4712   \n",
       "\n",
       "   url_entropy  \n",
       "0       1.7918  \n",
       "1       0.0000  \n",
       "2       8.8929  \n",
       "3     384.8401  \n",
       "4       0.0000  "
      ]
     },
     "execution_count": 169,
     "metadata": {},
     "output_type": "execute_result"
    }
   ],
   "source": [
    "#b_test = pd.read_csv('data/test.csv', sep=',')\n",
    "#print('b_test: OK: {}'.format(b_test.shape))\n",
    "#b_test.head()\n",
    "b_test = pd.read_csv('data/b_test.csv', sep=',')\n",
    "print('b_test: OK: {}'.format(b_test.shape))\n",
    "b_test.head()"
   ]
  },
  {
   "cell_type": "markdown",
   "metadata": {},
   "source": [
    "# PREPROCESSING"
   ]
  },
  {
   "cell_type": "markdown",
   "metadata": {},
   "source": [
    "# bids_normalized table"
   ]
  },
  {
   "cell_type": "code",
   "execution_count": null,
   "metadata": {},
   "outputs": [],
   "source": [
    "bids.head()"
   ]
  },
  {
   "cell_type": "markdown",
   "metadata": {},
   "source": [
    "### 1. time_normalized"
   ]
  },
  {
   "cell_type": "code",
   "execution_count": null,
   "metadata": {},
   "outputs": [],
   "source": [
    "min_time = bids['time'].min()\n",
    "bids['time_normalized'] = round((bids['time'] - min_time) * 19 / 1e9,2)"
   ]
  },
  {
   "cell_type": "code",
   "execution_count": null,
   "metadata": {},
   "outputs": [],
   "source": [
    "pd.DataFrame(bids.time_normalized.unique())\n",
    "bids.head()"
   ]
  },
  {
   "cell_type": "markdown",
   "metadata": {},
   "source": [
    "### 2. outcome"
   ]
  },
  {
   "cell_type": "code",
   "execution_count": null,
   "metadata": {},
   "outputs": [],
   "source": [
    "bids['outcome'] = bids.merge(b_train, how='left', on='bidder_id').outcome"
   ]
  },
  {
   "cell_type": "markdown",
   "metadata": {},
   "source": [
    "### other"
   ]
  },
  {
   "cell_type": "code",
   "execution_count": null,
   "metadata": {},
   "outputs": [],
   "source": [
    "del bids['merchandise']"
   ]
  },
  {
   "cell_type": "code",
   "execution_count": null,
   "metadata": {},
   "outputs": [],
   "source": [
    "del bids['device']\n",
    "del bids['country']\n",
    "del bids['ip']\n",
    "del bids['url']"
   ]
  },
  {
   "cell_type": "code",
   "execution_count": null,
   "metadata": {},
   "outputs": [],
   "source": [
    "bids.to_csv('data/bids_normalized_short.csv', sep=',', header=True, index=False)"
   ]
  },
  {
   "cell_type": "markdown",
   "metadata": {},
   "source": [
    "# features for b_train & b_test table"
   ]
  },
  {
   "cell_type": "code",
   "execution_count": null,
   "metadata": {},
   "outputs": [],
   "source": [
    "del b_train['address']\n",
    "del b_train['payment_account']\n",
    "\n",
    "del b_test['address']\n",
    "del b_test['payment_account']"
   ]
  },
  {
   "cell_type": "markdown",
   "metadata": {},
   "source": [
    "### 1. mean_time_diff"
   ]
  },
  {
   "cell_type": "code",
   "execution_count": null,
   "metadata": {},
   "outputs": [],
   "source": [
    "b_train['mean_time_diff'] = 0\n",
    "for bidder in b_train['bidder_id']:\n",
    "    #d = bids[bids.bidder_id == bidder].sort_values('time_normalized')[['time_normalized']] - bids[bids.bidder_id == bidder].sort_values('time_normalized')[['time_normalized']].shift(1)\n",
    "    #b_train.loc[b_train[b_train.bidder_id == bidder].index,'mean_time_diff'] = (bids[bids.bidder_id == bidder].sort_values('time_normalized')[['time_normalized']] - bids[bids.bidder_id == bidder].sort_values('time_normalized')[['time_normalized']].shift(1)).mean()\n",
    "    \n",
    "    m = (bids[bids.bidder_id == bidder].sort_values('time_normalized')[['time_normalized']] - \n",
    "         bids[bids.bidder_id == bidder].sort_values('time_normalized')[['time_normalized']].shift(1)).mean()[0]\n",
    "    b_train.loc[b_train[b_train.bidder_id == bidder].index, 'mean_time_diff'] = m\n",
    "    # b_train.to_csv('data/b_train.csv', sep=',', header=True, index=False)\n",
    "b_train.loc[:,'mean_time_diff'] = round(b_train.mean_time_diff, 4)"
   ]
  },
  {
   "cell_type": "code",
   "execution_count": null,
   "metadata": {
    "code_folding": []
   },
   "outputs": [],
   "source": [
    "b_test['mean_time_diff'] = 0\n",
    "i = 0\n",
    "for bidder in b_test['bidder_id']:\n",
    "    if i % 200 == 0:\n",
    "        print(i)\n",
    "    i += 1\n",
    "    m = (bids[bids.bidder_id == bidder].sort_values('time_normalized')[['time_normalized']] - \n",
    "         bids[bids.bidder_id == bidder].sort_values('time_normalized')[['time_normalized']].shift(1)).mean()[0]\n",
    "    b_test.loc[b_test[b_test.bidder_id == bidder].index, 'mean_time_diff'] = m\n",
    "    # b_test.to_csv('data/b_test.csv', sep=',', header=True, index=False)\n",
    "b_test.loc[:,'mean_time_diff'] = round(b_test.mean_time_diff, 4)"
   ]
  },
  {
   "cell_type": "markdown",
   "metadata": {},
   "source": [
    "### 2. total_bids"
   ]
  },
  {
   "cell_type": "code",
   "execution_count": null,
   "metadata": {},
   "outputs": [],
   "source": [
    "b_train['total_bids'] = 0\n",
    "i = 0\n",
    "for bidder in b_train['bidder_id']:\n",
    "    if i % 100 == 0:\n",
    "        print(i)\n",
    "    i += 1\n",
    "    c = bids[bids.bidder_id == bidder].count()[0]\n",
    "    b_train.loc[b_train[b_train.bidder_id == bidder].index, 'total_bids'] = c\n",
    "    # b_train.to_csv('data/b_train.csv', sep=',', header=True, index=False)"
   ]
  },
  {
   "cell_type": "code",
   "execution_count": null,
   "metadata": {},
   "outputs": [],
   "source": [
    "b_test['total_bids'] = 0\n",
    "i = 0\n",
    "for bidder in b_test['bidder_id']:\n",
    "    if i % 100 == 0:\n",
    "        print(i)\n",
    "    i += 1\n",
    "    c = bids[bids.bidder_id == bidder].count()[0]\n",
    "    b_test.loc[b_test[b_test.bidder_id == bidder].index, 'total_bids'] = c\n",
    "    # b_test.to_csv('data/b_test.csv', sep=',', header=True, index=False)"
   ]
  },
  {
   "cell_type": "markdown",
   "metadata": {},
   "source": [
    "### 3. total_auctions"
   ]
  },
  {
   "cell_type": "code",
   "execution_count": null,
   "metadata": {},
   "outputs": [],
   "source": [
    "b_train['total_auctions'] = 0\n",
    "i = 0\n",
    "for bidder in b_train['bidder_id']:\n",
    "    if i % 100 == 0:\n",
    "        print(i)\n",
    "    i += 1\n",
    "    c = bids[bids.bidder_id == bidder]['auction'].nunique()\n",
    "    b_train.loc[b_train[b_train.bidder_id == bidder].index, 'total_auctions'] = c\n",
    "    # b_train.to_csv('data/b_train.csv', sep=',', header=True, index=False)"
   ]
  },
  {
   "cell_type": "code",
   "execution_count": null,
   "metadata": {
    "scrolled": true
   },
   "outputs": [],
   "source": [
    "b_test['total_auctions'] = 0\n",
    "i = 0\n",
    "for bidder in b_test['bidder_id']:\n",
    "    if i % 100 == 0:\n",
    "        print(i)\n",
    "    i += 1\n",
    "    c = bids[bids.bidder_id == bidder]['auction'].nunique()\n",
    "    b_test.loc[b_test[b_test.bidder_id == bidder].index, 'total_auctions'] = c\n",
    "    # b_test.to_csv('data/b_test.csv', sep=',', header=True, index=False)"
   ]
  },
  {
   "cell_type": "markdown",
   "metadata": {},
   "source": [
    "### 4. bids_per_auction"
   ]
  },
  {
   "cell_type": "code",
   "execution_count": 143,
   "metadata": {},
   "outputs": [],
   "source": [
    "b_train['bids_per_auction'] = b_train.total_bids.divide(b_train.total_auctions)\n",
    "b_train['bids_per_auction'] = round(b_train['bids_per_auction'], 4) "
   ]
  },
  {
   "cell_type": "code",
   "execution_count": 144,
   "metadata": {},
   "outputs": [],
   "source": [
    "b_test['bids_per_auction'] = b_test.total_bids.divide(b_test.total_auctions)\n",
    "b_test['bids_per_auction'] = round(b_test['bids_per_auction'], 4)"
   ]
  },
  {
   "cell_type": "markdown",
   "metadata": {},
   "source": [
    "### 5-6. mean_response & min_response"
   ]
  },
  {
   "cell_type": "code",
   "execution_count": null,
   "metadata": {},
   "outputs": [],
   "source": [
    "# create additional dataset bids_sorted to generate values for feature mean_response & min_response\n",
    "# already created\n",
    "\n",
    "bids_sorted = bids.sort_values(by=['auction', 'time'])\n",
    "del bids_sorted['time']\n",
    "del bids_sorted['outcome']\n",
    "bids_sorted['diff'] = bids_sorted.time_normalized - bids_sorted.time_normalized.shift(1)\n",
    "i = 0\n",
    "for auc in bids_sorted.auction.unique():\n",
    "    if i % 200 == 0:\n",
    "        print(i)\n",
    "    i += 1\n",
    "    bids_sorted.loc[bids_sorted[bids_sorted.auction == auc].index, 'diff'] = bids_sorted[bids_sorted.auction == auc].time_normalized - bids_sorted[bids_sorted.auction == auc].time_normalized.shift(1)\n",
    "    bids_sorted.loc[bids_sorted[bids_sorted.auction == auc].index[0], 'diff'] = np.NaN\n",
    "bids_sorted.to_csv('data/bids_sorted.csv', sep=',', header=True, index=False)"
   ]
  },
  {
   "cell_type": "code",
   "execution_count": 14,
   "metadata": {},
   "outputs": [
    {
     "name": "stdout",
     "output_type": "stream",
     "text": [
      "bids_sorted: OK (7656334, 5)\n"
     ]
    },
    {
     "data": {
      "text/html": [
       "<div>\n",
       "<style>\n",
       "    .dataframe thead tr:only-child th {\n",
       "        text-align: right;\n",
       "    }\n",
       "\n",
       "    .dataframe thead th {\n",
       "        text-align: left;\n",
       "    }\n",
       "\n",
       "    .dataframe tbody tr th {\n",
       "        vertical-align: top;\n",
       "    }\n",
       "</style>\n",
       "<table border=\"1\" class=\"dataframe\">\n",
       "  <thead>\n",
       "    <tr style=\"text-align: right;\">\n",
       "      <th></th>\n",
       "      <th>bid_id</th>\n",
       "      <th>bidder_id</th>\n",
       "      <th>auction</th>\n",
       "      <th>time_normalized</th>\n",
       "      <th>diff</th>\n",
       "    </tr>\n",
       "  </thead>\n",
       "  <tbody>\n",
       "    <tr>\n",
       "      <th>0</th>\n",
       "      <td>5826422</td>\n",
       "      <td>92af1e40713e077ef87f5352fb56772fjnzm7</td>\n",
       "      <td>00270</td>\n",
       "      <td>1275528.0</td>\n",
       "      <td>NaN</td>\n",
       "    </tr>\n",
       "    <tr>\n",
       "      <th>1</th>\n",
       "      <td>5834284</td>\n",
       "      <td>a939f51234ad2c44eb9ccc84e754f41foiv7g</td>\n",
       "      <td>00270</td>\n",
       "      <td>1276446.0</td>\n",
       "      <td>918.0</td>\n",
       "    </tr>\n",
       "    <tr>\n",
       "      <th>2</th>\n",
       "      <td>5850448</td>\n",
       "      <td>92af1e40713e077ef87f5352fb56772fjnzm7</td>\n",
       "      <td>00270</td>\n",
       "      <td>1278300.0</td>\n",
       "      <td>1854.0</td>\n",
       "    </tr>\n",
       "    <tr>\n",
       "      <th>3</th>\n",
       "      <td>5884054</td>\n",
       "      <td>9655ccc7c0c193f1549475f02c54dce45kjw7</td>\n",
       "      <td>00270</td>\n",
       "      <td>1282037.0</td>\n",
       "      <td>3737.0</td>\n",
       "    </tr>\n",
       "    <tr>\n",
       "      <th>4</th>\n",
       "      <td>5898318</td>\n",
       "      <td>9655ccc7c0c193f1549475f02c54dce45kjw7</td>\n",
       "      <td>00270</td>\n",
       "      <td>1283595.0</td>\n",
       "      <td>1558.0</td>\n",
       "    </tr>\n",
       "  </tbody>\n",
       "</table>\n",
       "</div>"
      ],
      "text/plain": [
       "    bid_id                              bidder_id auction  time_normalized  \\\n",
       "0  5826422  92af1e40713e077ef87f5352fb56772fjnzm7   00270        1275528.0   \n",
       "1  5834284  a939f51234ad2c44eb9ccc84e754f41foiv7g   00270        1276446.0   \n",
       "2  5850448  92af1e40713e077ef87f5352fb56772fjnzm7   00270        1278300.0   \n",
       "3  5884054  9655ccc7c0c193f1549475f02c54dce45kjw7   00270        1282037.0   \n",
       "4  5898318  9655ccc7c0c193f1549475f02c54dce45kjw7   00270        1283595.0   \n",
       "\n",
       "     diff  \n",
       "0     NaN  \n",
       "1   918.0  \n",
       "2  1854.0  \n",
       "3  3737.0  \n",
       "4  1558.0  "
      ]
     },
     "execution_count": 14,
     "metadata": {},
     "output_type": "execute_result"
    }
   ],
   "source": [
    "bids_sorted = pd.read_csv('data/bids_sorted.csv', sep=',')\n",
    "print('bids_sorted: OK {}'.format(bids_sorted.shape))\n",
    "bids_sorted.head()"
   ]
  },
  {
   "cell_type": "code",
   "execution_count": null,
   "metadata": {},
   "outputs": [],
   "source": [
    "b_train['mean_response'] = 0\n",
    "i = 0\n",
    "for bidder in b_train['bidder_id'][i:]:\n",
    "    if i % 100 == 0:\n",
    "        print(i)\n",
    "    i += 1\n",
    "    temp = bids_sorted[bids_sorted.bidder_id == bidder]['diff']\n",
    "    b_train.loc[b_train[b_train.bidder_id == bidder].index, ['mean_response', 'min_response']] = \\\n",
    "        round(temp.mean(), 4), round(temp.min(), 4)\n",
    "    # b_train.to_csv('data/b_train.csv', sep=',', header=True, index=False)"
   ]
  },
  {
   "cell_type": "code",
   "execution_count": null,
   "metadata": {},
   "outputs": [],
   "source": [
    "b_test['mean_response'] = 0\n",
    "i = 0\n",
    "for bidder in b_test['bidder_id'][i:]:\n",
    "    if i % 100 == 0:\n",
    "        print(i)\n",
    "    i += 1\n",
    "    temp = bids_sorted[bids_sorted.bidder_id == bidder]['diff']\n",
    "    b_test.loc[b_test[b_test.bidder_id == bidder].index, ['mean_response', 'min_response']] = \\\n",
    "        round(temp.mean(), 4), round(temp.min(), 4)\n",
    "    # b_test.to_csv('data/b_test.csv', sep=',', header=True, index=False)"
   ]
  },
  {
   "cell_type": "markdown",
   "metadata": {},
   "source": [
    "### 7-8. ip_entropy, url_entropy"
   ]
  },
  {
   "cell_type": "code",
   "execution_count": 86,
   "metadata": {},
   "outputs": [],
   "source": [
    "def log_entropy(x):\n",
    "    e = np.sum(np.log(np.array(range(1,np.sum(x)))))\n",
    "    for i in x:\n",
    "        e -= np.sum(np.log(np.array(range(1,i))))\n",
    "    return e"
   ]
  },
  {
   "cell_type": "code",
   "execution_count": 136,
   "metadata": {},
   "outputs": [
    {
     "name": "stdout",
     "output_type": "stream",
     "text": [
      "0\n"
     ]
    },
    {
     "ename": "KeyboardInterrupt",
     "evalue": "",
     "output_type": "error",
     "traceback": [
      "\u001b[0;31m---------------------------------------------------------------------------\u001b[0m",
      "\u001b[0;31mKeyboardInterrupt\u001b[0m                         Traceback (most recent call last)",
      "\u001b[0;32m<ipython-input-136-ffef2a254686>\u001b[0m in \u001b[0;36m<module>\u001b[0;34m()\u001b[0m\n\u001b[1;32m      6\u001b[0m         \u001b[0mprint\u001b[0m\u001b[0;34m(\u001b[0m\u001b[0mi\u001b[0m\u001b[0;34m)\u001b[0m\u001b[0;34m\u001b[0m\u001b[0m\n\u001b[1;32m      7\u001b[0m     \u001b[0mi\u001b[0m \u001b[0;34m+=\u001b[0m \u001b[0;36m1\u001b[0m\u001b[0;34m\u001b[0m\u001b[0m\n\u001b[0;32m----> 8\u001b[0;31m     \u001b[0mtemp_df\u001b[0m \u001b[0;34m=\u001b[0m \u001b[0mbids\u001b[0m\u001b[0;34m[\u001b[0m\u001b[0mbids\u001b[0m\u001b[0;34m.\u001b[0m\u001b[0mbidder_id\u001b[0m \u001b[0;34m==\u001b[0m \u001b[0mbidder\u001b[0m\u001b[0;34m]\u001b[0m\u001b[0;34m[\u001b[0m\u001b[0;34m[\u001b[0m\u001b[0;34m'ip'\u001b[0m\u001b[0;34m,\u001b[0m\u001b[0;34m'url'\u001b[0m\u001b[0;34m]\u001b[0m\u001b[0;34m]\u001b[0m\u001b[0;34m\u001b[0m\u001b[0m\n\u001b[0m\u001b[1;32m      9\u001b[0m     \u001b[0mb_train\u001b[0m\u001b[0;34m.\u001b[0m\u001b[0mloc\u001b[0m\u001b[0;34m[\u001b[0m\u001b[0mb_train\u001b[0m\u001b[0;34m[\u001b[0m\u001b[0mb_train\u001b[0m\u001b[0;34m.\u001b[0m\u001b[0mbidder_id\u001b[0m \u001b[0;34m==\u001b[0m \u001b[0mbidder\u001b[0m\u001b[0;34m]\u001b[0m\u001b[0;34m.\u001b[0m\u001b[0mindex\u001b[0m\u001b[0;34m,\u001b[0m \u001b[0;34m[\u001b[0m\u001b[0;34m'ip_entropy'\u001b[0m\u001b[0;34m,\u001b[0m \u001b[0;34m'url_entropy'\u001b[0m\u001b[0;34m]\u001b[0m\u001b[0;34m]\u001b[0m \u001b[0;34m=\u001b[0m                     \u001b[0mround\u001b[0m\u001b[0;34m(\u001b[0m\u001b[0mlog_entropy\u001b[0m\u001b[0;34m(\u001b[0m\u001b[0mtemp_df\u001b[0m\u001b[0;34m.\u001b[0m\u001b[0mip\u001b[0m\u001b[0;34m.\u001b[0m\u001b[0mgroupby\u001b[0m\u001b[0;34m(\u001b[0m\u001b[0mtemp_df\u001b[0m\u001b[0;34m.\u001b[0m\u001b[0mip\u001b[0m\u001b[0;34m)\u001b[0m\u001b[0;34m.\u001b[0m\u001b[0mcount\u001b[0m\u001b[0;34m(\u001b[0m\u001b[0;34m)\u001b[0m\u001b[0;34m)\u001b[0m\u001b[0;34m,\u001b[0m\u001b[0;36m4\u001b[0m\u001b[0;34m)\u001b[0m\u001b[0;34m,\u001b[0m                     \u001b[0mround\u001b[0m\u001b[0;34m(\u001b[0m\u001b[0mlog_entropy\u001b[0m\u001b[0;34m(\u001b[0m\u001b[0mtemp_df\u001b[0m\u001b[0;34m.\u001b[0m\u001b[0murl\u001b[0m\u001b[0;34m.\u001b[0m\u001b[0mgroupby\u001b[0m\u001b[0;34m(\u001b[0m\u001b[0mtemp_df\u001b[0m\u001b[0;34m.\u001b[0m\u001b[0murl\u001b[0m\u001b[0;34m)\u001b[0m\u001b[0;34m.\u001b[0m\u001b[0mcount\u001b[0m\u001b[0;34m(\u001b[0m\u001b[0;34m)\u001b[0m\u001b[0;34m)\u001b[0m\u001b[0;34m,\u001b[0m\u001b[0;36m4\u001b[0m\u001b[0;34m)\u001b[0m\u001b[0;34m\u001b[0m\u001b[0m\n\u001b[1;32m     10\u001b[0m     \u001b[0mb_train\u001b[0m\u001b[0;34m.\u001b[0m\u001b[0mto_csv\u001b[0m\u001b[0;34m(\u001b[0m\u001b[0;34m'data/b_train.csv'\u001b[0m\u001b[0;34m,\u001b[0m \u001b[0msep\u001b[0m\u001b[0;34m=\u001b[0m\u001b[0;34m','\u001b[0m\u001b[0;34m,\u001b[0m \u001b[0mheader\u001b[0m\u001b[0;34m=\u001b[0m\u001b[0;32mTrue\u001b[0m\u001b[0;34m,\u001b[0m \u001b[0mindex\u001b[0m\u001b[0;34m=\u001b[0m\u001b[0;32mFalse\u001b[0m\u001b[0;34m)\u001b[0m\u001b[0;34m\u001b[0m\u001b[0m\n",
      "\u001b[0;32m~/anaconda/lib/python3.6/site-packages/pandas/core/ops.py\u001b[0m in \u001b[0;36mwrapper\u001b[0;34m(self, other, axis)\u001b[0m\n\u001b[1;32m    859\u001b[0m \u001b[0;34m\u001b[0m\u001b[0m\n\u001b[1;32m    860\u001b[0m             \u001b[0;32mwith\u001b[0m \u001b[0mnp\u001b[0m\u001b[0;34m.\u001b[0m\u001b[0merrstate\u001b[0m\u001b[0;34m(\u001b[0m\u001b[0mall\u001b[0m\u001b[0;34m=\u001b[0m\u001b[0;34m'ignore'\u001b[0m\u001b[0;34m)\u001b[0m\u001b[0;34m:\u001b[0m\u001b[0;34m\u001b[0m\u001b[0m\n\u001b[0;32m--> 861\u001b[0;31m                 \u001b[0mres\u001b[0m \u001b[0;34m=\u001b[0m \u001b[0mna_op\u001b[0m\u001b[0;34m(\u001b[0m\u001b[0mvalues\u001b[0m\u001b[0;34m,\u001b[0m \u001b[0mother\u001b[0m\u001b[0;34m)\u001b[0m\u001b[0;34m\u001b[0m\u001b[0m\n\u001b[0m\u001b[1;32m    862\u001b[0m             \u001b[0;32mif\u001b[0m \u001b[0mis_scalar\u001b[0m\u001b[0;34m(\u001b[0m\u001b[0mres\u001b[0m\u001b[0;34m)\u001b[0m\u001b[0;34m:\u001b[0m\u001b[0;34m\u001b[0m\u001b[0m\n\u001b[1;32m    863\u001b[0m                 raise TypeError('Could not compare %s type with Series' %\n",
      "\u001b[0;32m~/anaconda/lib/python3.6/site-packages/pandas/core/ops.py\u001b[0m in \u001b[0;36mna_op\u001b[0;34m(x, y)\u001b[0m\n\u001b[1;32m    763\u001b[0m \u001b[0;34m\u001b[0m\u001b[0m\n\u001b[1;32m    764\u001b[0m         \u001b[0;32mif\u001b[0m \u001b[0mis_object_dtype\u001b[0m\u001b[0;34m(\u001b[0m\u001b[0mx\u001b[0m\u001b[0;34m.\u001b[0m\u001b[0mdtype\u001b[0m\u001b[0;34m)\u001b[0m\u001b[0;34m:\u001b[0m\u001b[0;34m\u001b[0m\u001b[0m\n\u001b[0;32m--> 765\u001b[0;31m             \u001b[0mresult\u001b[0m \u001b[0;34m=\u001b[0m \u001b[0m_comp_method_OBJECT_ARRAY\u001b[0m\u001b[0;34m(\u001b[0m\u001b[0mop\u001b[0m\u001b[0;34m,\u001b[0m \u001b[0mx\u001b[0m\u001b[0;34m,\u001b[0m \u001b[0my\u001b[0m\u001b[0;34m)\u001b[0m\u001b[0;34m\u001b[0m\u001b[0m\n\u001b[0m\u001b[1;32m    766\u001b[0m         \u001b[0;32melse\u001b[0m\u001b[0;34m:\u001b[0m\u001b[0;34m\u001b[0m\u001b[0m\n\u001b[1;32m    767\u001b[0m \u001b[0;34m\u001b[0m\u001b[0m\n",
      "\u001b[0;32m~/anaconda/lib/python3.6/site-packages/pandas/core/ops.py\u001b[0m in \u001b[0;36m_comp_method_OBJECT_ARRAY\u001b[0;34m(op, x, y)\u001b[0m\n\u001b[1;32m    743\u001b[0m         \u001b[0mresult\u001b[0m \u001b[0;34m=\u001b[0m \u001b[0mlib\u001b[0m\u001b[0;34m.\u001b[0m\u001b[0mvec_compare\u001b[0m\u001b[0;34m(\u001b[0m\u001b[0mx\u001b[0m\u001b[0;34m,\u001b[0m \u001b[0my\u001b[0m\u001b[0;34m,\u001b[0m \u001b[0mop\u001b[0m\u001b[0;34m)\u001b[0m\u001b[0;34m\u001b[0m\u001b[0m\n\u001b[1;32m    744\u001b[0m     \u001b[0;32melse\u001b[0m\u001b[0;34m:\u001b[0m\u001b[0;34m\u001b[0m\u001b[0m\n\u001b[0;32m--> 745\u001b[0;31m         \u001b[0mresult\u001b[0m \u001b[0;34m=\u001b[0m \u001b[0mlib\u001b[0m\u001b[0;34m.\u001b[0m\u001b[0mscalar_compare\u001b[0m\u001b[0;34m(\u001b[0m\u001b[0mx\u001b[0m\u001b[0;34m,\u001b[0m \u001b[0my\u001b[0m\u001b[0;34m,\u001b[0m \u001b[0mop\u001b[0m\u001b[0;34m)\u001b[0m\u001b[0;34m\u001b[0m\u001b[0m\n\u001b[0m\u001b[1;32m    746\u001b[0m     \u001b[0;32mreturn\u001b[0m \u001b[0mresult\u001b[0m\u001b[0;34m\u001b[0m\u001b[0m\n\u001b[1;32m    747\u001b[0m \u001b[0;34m\u001b[0m\u001b[0m\n",
      "\u001b[0;31mKeyboardInterrupt\u001b[0m: "
     ]
    }
   ],
   "source": [
    "b_train['ip_entropy'] = 0\n",
    "b_train['url_entropy'] = 0\n",
    "i = 0\n",
    "for bidder in b_train['bidder_id'][i:]:\n",
    "    if i % 100 == 0:\n",
    "        print(i)\n",
    "    i += 1\n",
    "    temp_df = bids[bids.bidder_id == bidder][['ip','url']]\n",
    "    b_train.loc[b_train[b_train.bidder_id == bidder].index, ['ip_entropy', 'url_entropy']] = \\\n",
    "                    round(log_entropy(temp_df.ip.groupby(temp_df.ip).count()),4), \\\n",
    "                    round(log_entropy(temp_df.url.groupby(temp_df.url).count()),4)\n",
    "    b_train.to_csv('data/b_train.csv', sep=',', header=True, index=False)"
   ]
  },
  {
   "cell_type": "code",
   "execution_count": 138,
   "metadata": {},
   "outputs": [
    {
     "name": "stdout",
     "output_type": "stream",
     "text": [
      "0\n"
     ]
    },
    {
     "ename": "KeyboardInterrupt",
     "evalue": "",
     "output_type": "error",
     "traceback": [
      "\u001b[0;31m---------------------------------------------------------------------------\u001b[0m",
      "\u001b[0;31mKeyboardInterrupt\u001b[0m                         Traceback (most recent call last)",
      "\u001b[0;32m<ipython-input-138-558aac794960>\u001b[0m in \u001b[0;36m<module>\u001b[0;34m()\u001b[0m\n\u001b[1;32m      6\u001b[0m         \u001b[0mprint\u001b[0m\u001b[0;34m(\u001b[0m\u001b[0mi\u001b[0m\u001b[0;34m)\u001b[0m\u001b[0;34m\u001b[0m\u001b[0m\n\u001b[1;32m      7\u001b[0m     \u001b[0mi\u001b[0m \u001b[0;34m+=\u001b[0m \u001b[0;36m1\u001b[0m\u001b[0;34m\u001b[0m\u001b[0m\n\u001b[0;32m----> 8\u001b[0;31m     \u001b[0mtemp_df\u001b[0m \u001b[0;34m=\u001b[0m \u001b[0mbids\u001b[0m\u001b[0;34m[\u001b[0m\u001b[0mbids\u001b[0m\u001b[0;34m.\u001b[0m\u001b[0mbidder_id\u001b[0m \u001b[0;34m==\u001b[0m \u001b[0mbidder\u001b[0m\u001b[0;34m]\u001b[0m\u001b[0;34m[\u001b[0m\u001b[0;34m[\u001b[0m\u001b[0;34m'ip'\u001b[0m\u001b[0;34m,\u001b[0m\u001b[0;34m'url'\u001b[0m\u001b[0;34m]\u001b[0m\u001b[0;34m]\u001b[0m\u001b[0;34m\u001b[0m\u001b[0m\n\u001b[0m\u001b[1;32m      9\u001b[0m     \u001b[0mb_test\u001b[0m\u001b[0;34m.\u001b[0m\u001b[0mloc\u001b[0m\u001b[0;34m[\u001b[0m\u001b[0mb_test\u001b[0m\u001b[0;34m[\u001b[0m\u001b[0mb_test\u001b[0m\u001b[0;34m.\u001b[0m\u001b[0mbidder_id\u001b[0m \u001b[0;34m==\u001b[0m \u001b[0mbidder\u001b[0m\u001b[0;34m]\u001b[0m\u001b[0;34m.\u001b[0m\u001b[0mindex\u001b[0m\u001b[0;34m,\u001b[0m \u001b[0;34m[\u001b[0m\u001b[0;34m'ip_entropy'\u001b[0m\u001b[0;34m,\u001b[0m \u001b[0;34m'url_entropy'\u001b[0m\u001b[0;34m]\u001b[0m\u001b[0;34m]\u001b[0m \u001b[0;34m=\u001b[0m                     \u001b[0mround\u001b[0m\u001b[0;34m(\u001b[0m\u001b[0mlog_entropy\u001b[0m\u001b[0;34m(\u001b[0m\u001b[0mtemp_df\u001b[0m\u001b[0;34m.\u001b[0m\u001b[0mip\u001b[0m\u001b[0;34m.\u001b[0m\u001b[0mgroupby\u001b[0m\u001b[0;34m(\u001b[0m\u001b[0mtemp_df\u001b[0m\u001b[0;34m.\u001b[0m\u001b[0mip\u001b[0m\u001b[0;34m)\u001b[0m\u001b[0;34m.\u001b[0m\u001b[0mcount\u001b[0m\u001b[0;34m(\u001b[0m\u001b[0;34m)\u001b[0m\u001b[0;34m)\u001b[0m\u001b[0;34m,\u001b[0m\u001b[0;36m4\u001b[0m\u001b[0;34m)\u001b[0m\u001b[0;34m,\u001b[0m                     \u001b[0mround\u001b[0m\u001b[0;34m(\u001b[0m\u001b[0mlog_entropy\u001b[0m\u001b[0;34m(\u001b[0m\u001b[0mtemp_df\u001b[0m\u001b[0;34m.\u001b[0m\u001b[0murl\u001b[0m\u001b[0;34m.\u001b[0m\u001b[0mgroupby\u001b[0m\u001b[0;34m(\u001b[0m\u001b[0mtemp_df\u001b[0m\u001b[0;34m.\u001b[0m\u001b[0murl\u001b[0m\u001b[0;34m)\u001b[0m\u001b[0;34m.\u001b[0m\u001b[0mcount\u001b[0m\u001b[0;34m(\u001b[0m\u001b[0;34m)\u001b[0m\u001b[0;34m)\u001b[0m\u001b[0;34m,\u001b[0m\u001b[0;36m4\u001b[0m\u001b[0;34m)\u001b[0m\u001b[0;34m\u001b[0m\u001b[0m\n\u001b[1;32m     10\u001b[0m     \u001b[0mb_test\u001b[0m\u001b[0;34m.\u001b[0m\u001b[0mto_csv\u001b[0m\u001b[0;34m(\u001b[0m\u001b[0;34m'data/b_test.csv'\u001b[0m\u001b[0;34m,\u001b[0m \u001b[0msep\u001b[0m\u001b[0;34m=\u001b[0m\u001b[0;34m','\u001b[0m\u001b[0;34m,\u001b[0m \u001b[0mheader\u001b[0m\u001b[0;34m=\u001b[0m\u001b[0;32mTrue\u001b[0m\u001b[0;34m,\u001b[0m \u001b[0mindex\u001b[0m\u001b[0;34m=\u001b[0m\u001b[0;32mFalse\u001b[0m\u001b[0;34m)\u001b[0m\u001b[0;34m\u001b[0m\u001b[0m\n",
      "\u001b[0;32m~/anaconda/lib/python3.6/site-packages/pandas/core/ops.py\u001b[0m in \u001b[0;36mwrapper\u001b[0;34m(self, other, axis)\u001b[0m\n\u001b[1;32m    859\u001b[0m \u001b[0;34m\u001b[0m\u001b[0m\n\u001b[1;32m    860\u001b[0m             \u001b[0;32mwith\u001b[0m \u001b[0mnp\u001b[0m\u001b[0;34m.\u001b[0m\u001b[0merrstate\u001b[0m\u001b[0;34m(\u001b[0m\u001b[0mall\u001b[0m\u001b[0;34m=\u001b[0m\u001b[0;34m'ignore'\u001b[0m\u001b[0;34m)\u001b[0m\u001b[0;34m:\u001b[0m\u001b[0;34m\u001b[0m\u001b[0m\n\u001b[0;32m--> 861\u001b[0;31m                 \u001b[0mres\u001b[0m \u001b[0;34m=\u001b[0m \u001b[0mna_op\u001b[0m\u001b[0;34m(\u001b[0m\u001b[0mvalues\u001b[0m\u001b[0;34m,\u001b[0m \u001b[0mother\u001b[0m\u001b[0;34m)\u001b[0m\u001b[0;34m\u001b[0m\u001b[0m\n\u001b[0m\u001b[1;32m    862\u001b[0m             \u001b[0;32mif\u001b[0m \u001b[0mis_scalar\u001b[0m\u001b[0;34m(\u001b[0m\u001b[0mres\u001b[0m\u001b[0;34m)\u001b[0m\u001b[0;34m:\u001b[0m\u001b[0;34m\u001b[0m\u001b[0m\n\u001b[1;32m    863\u001b[0m                 raise TypeError('Could not compare %s type with Series' %\n",
      "\u001b[0;32m~/anaconda/lib/python3.6/site-packages/pandas/core/ops.py\u001b[0m in \u001b[0;36mna_op\u001b[0;34m(x, y)\u001b[0m\n\u001b[1;32m    763\u001b[0m \u001b[0;34m\u001b[0m\u001b[0m\n\u001b[1;32m    764\u001b[0m         \u001b[0;32mif\u001b[0m \u001b[0mis_object_dtype\u001b[0m\u001b[0;34m(\u001b[0m\u001b[0mx\u001b[0m\u001b[0;34m.\u001b[0m\u001b[0mdtype\u001b[0m\u001b[0;34m)\u001b[0m\u001b[0;34m:\u001b[0m\u001b[0;34m\u001b[0m\u001b[0m\n\u001b[0;32m--> 765\u001b[0;31m             \u001b[0mresult\u001b[0m \u001b[0;34m=\u001b[0m \u001b[0m_comp_method_OBJECT_ARRAY\u001b[0m\u001b[0;34m(\u001b[0m\u001b[0mop\u001b[0m\u001b[0;34m,\u001b[0m \u001b[0mx\u001b[0m\u001b[0;34m,\u001b[0m \u001b[0my\u001b[0m\u001b[0;34m)\u001b[0m\u001b[0;34m\u001b[0m\u001b[0m\n\u001b[0m\u001b[1;32m    766\u001b[0m         \u001b[0;32melse\u001b[0m\u001b[0;34m:\u001b[0m\u001b[0;34m\u001b[0m\u001b[0m\n\u001b[1;32m    767\u001b[0m \u001b[0;34m\u001b[0m\u001b[0m\n",
      "\u001b[0;32m~/anaconda/lib/python3.6/site-packages/pandas/core/ops.py\u001b[0m in \u001b[0;36m_comp_method_OBJECT_ARRAY\u001b[0;34m(op, x, y)\u001b[0m\n\u001b[1;32m    743\u001b[0m         \u001b[0mresult\u001b[0m \u001b[0;34m=\u001b[0m \u001b[0mlib\u001b[0m\u001b[0;34m.\u001b[0m\u001b[0mvec_compare\u001b[0m\u001b[0;34m(\u001b[0m\u001b[0mx\u001b[0m\u001b[0;34m,\u001b[0m \u001b[0my\u001b[0m\u001b[0;34m,\u001b[0m \u001b[0mop\u001b[0m\u001b[0;34m)\u001b[0m\u001b[0;34m\u001b[0m\u001b[0m\n\u001b[1;32m    744\u001b[0m     \u001b[0;32melse\u001b[0m\u001b[0;34m:\u001b[0m\u001b[0;34m\u001b[0m\u001b[0m\n\u001b[0;32m--> 745\u001b[0;31m         \u001b[0mresult\u001b[0m \u001b[0;34m=\u001b[0m \u001b[0mlib\u001b[0m\u001b[0;34m.\u001b[0m\u001b[0mscalar_compare\u001b[0m\u001b[0;34m(\u001b[0m\u001b[0mx\u001b[0m\u001b[0;34m,\u001b[0m \u001b[0my\u001b[0m\u001b[0;34m,\u001b[0m \u001b[0mop\u001b[0m\u001b[0;34m)\u001b[0m\u001b[0;34m\u001b[0m\u001b[0m\n\u001b[0m\u001b[1;32m    746\u001b[0m     \u001b[0;32mreturn\u001b[0m \u001b[0mresult\u001b[0m\u001b[0;34m\u001b[0m\u001b[0m\n\u001b[1;32m    747\u001b[0m \u001b[0;34m\u001b[0m\u001b[0m\n",
      "\u001b[0;31mKeyboardInterrupt\u001b[0m: "
     ]
    }
   ],
   "source": [
    "b_test['ip_entropy'] = 0\n",
    "b_test['url_entropy'] = 0\n",
    "i = 0\n",
    "for bidder in b_test['bidder_id'][i:]:\n",
    "    if i % 100 == 0:\n",
    "        print(i)\n",
    "    i += 1\n",
    "    temp_df = bids[bids.bidder_id == bidder][['ip','url']]\n",
    "    b_test.loc[b_test[b_test.bidder_id == bidder].index, ['ip_entropy', 'url_entropy']] = \\\n",
    "                    round(log_entropy(temp_df.ip.groupby(temp_df.ip).count()),4), \\\n",
    "                    round(log_entropy(temp_df.url.groupby(temp_df.url).count()),4)\n",
    "    b_test.to_csv('data/b_test.csv', sep=',', header=True, index=False)"
   ]
  },
  {
   "cell_type": "code",
   "execution_count": 134,
   "metadata": {},
   "outputs": [
    {
     "name": "stdout",
     "output_type": "stream",
     "text": [
      "0.69314718056\n",
      "h\n",
      "1    2\n",
      "2    1\n",
      "Name: h, dtype: int64\n"
     ]
    },
    {
     "data": {
      "text/html": [
       "<div>\n",
       "<style>\n",
       "    .dataframe thead tr:only-child th {\n",
       "        text-align: right;\n",
       "    }\n",
       "\n",
       "    .dataframe thead th {\n",
       "        text-align: left;\n",
       "    }\n",
       "\n",
       "    .dataframe tbody tr th {\n",
       "        vertical-align: top;\n",
       "    }\n",
       "</style>\n",
       "<table border=\"1\" class=\"dataframe\">\n",
       "  <thead>\n",
       "    <tr style=\"text-align: right;\">\n",
       "      <th></th>\n",
       "      <th>h</th>\n",
       "    </tr>\n",
       "  </thead>\n",
       "  <tbody>\n",
       "    <tr>\n",
       "      <th>0</th>\n",
       "      <td>1</td>\n",
       "    </tr>\n",
       "    <tr>\n",
       "      <th>1</th>\n",
       "      <td>2</td>\n",
       "    </tr>\n",
       "    <tr>\n",
       "      <th>2</th>\n",
       "      <td>1</td>\n",
       "    </tr>\n",
       "  </tbody>\n",
       "</table>\n",
       "</div>"
      ],
      "text/plain": [
       "   h\n",
       "0  1\n",
       "1  2\n",
       "2  1"
      ]
     },
     "execution_count": 134,
     "metadata": {},
     "output_type": "execute_result"
    }
   ],
   "source": [
    "df = pd.DataFrame([1,2,1], columns=['h'])\n",
    "print(log_entropy(df.h.groupby(df.h).count()))\n",
    "print(df.h.groupby(df.h).count())\n",
    "df"
   ]
  },
  {
   "cell_type": "markdown",
   "metadata": {},
   "source": [
    "# look through"
   ]
  },
  {
   "cell_type": "code",
   "execution_count": 161,
   "metadata": {},
   "outputs": [],
   "source": [
    "features = ['bidder_id', 'outcome',\n",
    "         'total_bids', 'total_auctions', 'bids_per_auction',\n",
    "         'mean_time_diff', 'mean_response', 'min_response',\n",
    "         'ip_entropy', 'url_entropy']"
   ]
  },
  {
   "cell_type": "code",
   "execution_count": 162,
   "metadata": {},
   "outputs": [
    {
     "data": {
      "text/html": [
       "<div>\n",
       "<style>\n",
       "    .dataframe thead tr:only-child th {\n",
       "        text-align: right;\n",
       "    }\n",
       "\n",
       "    .dataframe thead th {\n",
       "        text-align: left;\n",
       "    }\n",
       "\n",
       "    .dataframe tbody tr th {\n",
       "        vertical-align: top;\n",
       "    }\n",
       "</style>\n",
       "<table border=\"1\" class=\"dataframe\">\n",
       "  <thead>\n",
       "    <tr style=\"text-align: right;\">\n",
       "      <th></th>\n",
       "      <th>bidder_id</th>\n",
       "      <th>outcome</th>\n",
       "      <th>total_bids</th>\n",
       "      <th>total_auctions</th>\n",
       "      <th>bids_per_auction</th>\n",
       "      <th>mean_time_diff</th>\n",
       "      <th>mean_response</th>\n",
       "      <th>min_response</th>\n",
       "      <th>ip_entropy</th>\n",
       "      <th>url_entropy</th>\n",
       "    </tr>\n",
       "  </thead>\n",
       "  <tbody>\n",
       "    <tr>\n",
       "      <th>0</th>\n",
       "      <td>91a3c57b13234af24875c56fb7e2b2f4rb56a</td>\n",
       "      <td>0.0</td>\n",
       "      <td>24</td>\n",
       "      <td>18</td>\n",
       "      <td>1.3333</td>\n",
       "      <td>10851.13</td>\n",
       "      <td>10673.3750</td>\n",
       "      <td>0.0</td>\n",
       "      <td>49.8149</td>\n",
       "      <td>0.0000</td>\n",
       "    </tr>\n",
       "    <tr>\n",
       "      <th>1</th>\n",
       "      <td>624f258b49e77713fc34034560f93fb3hu3jo</td>\n",
       "      <td>0.0</td>\n",
       "      <td>3</td>\n",
       "      <td>1</td>\n",
       "      <td>3.0000</td>\n",
       "      <td>61438.00</td>\n",
       "      <td>2.3333</td>\n",
       "      <td>0.0</td>\n",
       "      <td>0.6931</td>\n",
       "      <td>0.6931</td>\n",
       "    </tr>\n",
       "    <tr>\n",
       "      <th>2</th>\n",
       "      <td>1c5f4fc669099bfbfac515cd26997bd12ruaj</td>\n",
       "      <td>0.0</td>\n",
       "      <td>4</td>\n",
       "      <td>4</td>\n",
       "      <td>1.0000</td>\n",
       "      <td>45201.00</td>\n",
       "      <td>219.0000</td>\n",
       "      <td>79.0</td>\n",
       "      <td>1.7918</td>\n",
       "      <td>1.0986</td>\n",
       "    </tr>\n",
       "    <tr>\n",
       "      <th>3</th>\n",
       "      <td>4bee9aba2abda51bf43d639013d6efe12iycd</td>\n",
       "      <td>0.0</td>\n",
       "      <td>1</td>\n",
       "      <td>1</td>\n",
       "      <td>1.0000</td>\n",
       "      <td>NaN</td>\n",
       "      <td>330.0000</td>\n",
       "      <td>330.0</td>\n",
       "      <td>0.0000</td>\n",
       "      <td>0.0000</td>\n",
       "    </tr>\n",
       "    <tr>\n",
       "      <th>4</th>\n",
       "      <td>4ab12bc61c82ddd9c2d65e60555808acqgos1</td>\n",
       "      <td>0.0</td>\n",
       "      <td>155</td>\n",
       "      <td>23</td>\n",
       "      <td>6.7391</td>\n",
       "      <td>1477.80</td>\n",
       "      <td>35.2258</td>\n",
       "      <td>0.0</td>\n",
       "      <td>601.0291</td>\n",
       "      <td>460.9263</td>\n",
       "    </tr>\n",
       "  </tbody>\n",
       "</table>\n",
       "</div>"
      ],
      "text/plain": [
       "                               bidder_id  outcome  total_bids  total_auctions  \\\n",
       "0  91a3c57b13234af24875c56fb7e2b2f4rb56a      0.0          24              18   \n",
       "1  624f258b49e77713fc34034560f93fb3hu3jo      0.0           3               1   \n",
       "2  1c5f4fc669099bfbfac515cd26997bd12ruaj      0.0           4               4   \n",
       "3  4bee9aba2abda51bf43d639013d6efe12iycd      0.0           1               1   \n",
       "4  4ab12bc61c82ddd9c2d65e60555808acqgos1      0.0         155              23   \n",
       "\n",
       "   bids_per_auction  mean_time_diff  mean_response  min_response  ip_entropy  \\\n",
       "0            1.3333        10851.13     10673.3750           0.0     49.8149   \n",
       "1            3.0000        61438.00         2.3333           0.0      0.6931   \n",
       "2            1.0000        45201.00       219.0000          79.0      1.7918   \n",
       "3            1.0000             NaN       330.0000         330.0      0.0000   \n",
       "4            6.7391         1477.80        35.2258           0.0    601.0291   \n",
       "\n",
       "   url_entropy  \n",
       "0       0.0000  \n",
       "1       0.6931  \n",
       "2       1.0986  \n",
       "3       0.0000  \n",
       "4     460.9263  "
      ]
     },
     "execution_count": 162,
     "metadata": {},
     "output_type": "execute_result"
    }
   ],
   "source": [
    "b_train.head()"
   ]
  },
  {
   "cell_type": "code",
   "execution_count": 163,
   "metadata": {},
   "outputs": [
    {
     "data": {
      "text/html": [
       "<div>\n",
       "<style>\n",
       "    .dataframe thead tr:only-child th {\n",
       "        text-align: right;\n",
       "    }\n",
       "\n",
       "    .dataframe thead th {\n",
       "        text-align: left;\n",
       "    }\n",
       "\n",
       "    .dataframe tbody tr th {\n",
       "        vertical-align: top;\n",
       "    }\n",
       "</style>\n",
       "<table border=\"1\" class=\"dataframe\">\n",
       "  <thead>\n",
       "    <tr style=\"text-align: right;\">\n",
       "      <th></th>\n",
       "      <th>bidder_id</th>\n",
       "      <th>total_bids</th>\n",
       "      <th>total_auctions</th>\n",
       "      <th>bids_per_auction</th>\n",
       "      <th>mean_time_diff</th>\n",
       "      <th>mean_response</th>\n",
       "      <th>min_response</th>\n",
       "      <th>ip_entropy</th>\n",
       "      <th>url_entropy</th>\n",
       "    </tr>\n",
       "  </thead>\n",
       "  <tbody>\n",
       "    <tr>\n",
       "      <th>0</th>\n",
       "      <td>49bb5a3c944b8fc337981cc7a9ccae41u31d7</td>\n",
       "      <td>4</td>\n",
       "      <td>3</td>\n",
       "      <td>1.3333</td>\n",
       "      <td>444750.0000</td>\n",
       "      <td>16.7500</td>\n",
       "      <td>0.0</td>\n",
       "      <td>1.7918</td>\n",
       "      <td>1.7918</td>\n",
       "    </tr>\n",
       "    <tr>\n",
       "      <th>1</th>\n",
       "      <td>a921612b85a1494456e74c09393ccb65ylp4y</td>\n",
       "      <td>3</td>\n",
       "      <td>2</td>\n",
       "      <td>1.5000</td>\n",
       "      <td>722019.5000</td>\n",
       "      <td>371.3333</td>\n",
       "      <td>2.0</td>\n",
       "      <td>0.6931</td>\n",
       "      <td>0.0000</td>\n",
       "    </tr>\n",
       "    <tr>\n",
       "      <th>2</th>\n",
       "      <td>6b601e72a4d264dab9ace9d7b229b47479v6i</td>\n",
       "      <td>17</td>\n",
       "      <td>14</td>\n",
       "      <td>1.2143</td>\n",
       "      <td>345.6250</td>\n",
       "      <td>186.3529</td>\n",
       "      <td>0.0</td>\n",
       "      <td>17.3592</td>\n",
       "      <td>8.8929</td>\n",
       "    </tr>\n",
       "    <tr>\n",
       "      <th>3</th>\n",
       "      <td>eaf0ed0afc9689779417274b4791726cn5udi</td>\n",
       "      <td>148</td>\n",
       "      <td>90</td>\n",
       "      <td>1.6444</td>\n",
       "      <td>9890.5510</td>\n",
       "      <td>7762.0946</td>\n",
       "      <td>0.0</td>\n",
       "      <td>580.2510</td>\n",
       "      <td>384.8401</td>\n",
       "    </tr>\n",
       "    <tr>\n",
       "      <th>4</th>\n",
       "      <td>cdecd8d02ed8c6037e38042c7745f688mx5sf</td>\n",
       "      <td>23</td>\n",
       "      <td>20</td>\n",
       "      <td>1.1500</td>\n",
       "      <td>5678.2273</td>\n",
       "      <td>9168.6957</td>\n",
       "      <td>16.0</td>\n",
       "      <td>48.4712</td>\n",
       "      <td>0.0000</td>\n",
       "    </tr>\n",
       "  </tbody>\n",
       "</table>\n",
       "</div>"
      ],
      "text/plain": [
       "                               bidder_id  total_bids  total_auctions  \\\n",
       "0  49bb5a3c944b8fc337981cc7a9ccae41u31d7           4               3   \n",
       "1  a921612b85a1494456e74c09393ccb65ylp4y           3               2   \n",
       "2  6b601e72a4d264dab9ace9d7b229b47479v6i          17              14   \n",
       "3  eaf0ed0afc9689779417274b4791726cn5udi         148              90   \n",
       "4  cdecd8d02ed8c6037e38042c7745f688mx5sf          23              20   \n",
       "\n",
       "   bids_per_auction  mean_time_diff  mean_response  min_response  ip_entropy  \\\n",
       "0            1.3333     444750.0000        16.7500           0.0      1.7918   \n",
       "1            1.5000     722019.5000       371.3333           2.0      0.6931   \n",
       "2            1.2143        345.6250       186.3529           0.0     17.3592   \n",
       "3            1.6444       9890.5510      7762.0946           0.0    580.2510   \n",
       "4            1.1500       5678.2273      9168.6957          16.0     48.4712   \n",
       "\n",
       "   url_entropy  \n",
       "0       1.7918  \n",
       "1       0.0000  \n",
       "2       8.8929  \n",
       "3     384.8401  \n",
       "4       0.0000  "
      ]
     },
     "execution_count": 163,
     "metadata": {},
     "output_type": "execute_result"
    }
   ],
   "source": [
    "b_test.head()"
   ]
  },
  {
   "cell_type": "markdown",
   "metadata": {},
   "source": [
    "# save"
   ]
  },
  {
   "cell_type": "code",
   "execution_count": 164,
   "metadata": {},
   "outputs": [],
   "source": [
    "b_train.to_csv('data/b_train.csv', sep=',', header=True, index=False)"
   ]
  },
  {
   "cell_type": "code",
   "execution_count": 165,
   "metadata": {},
   "outputs": [],
   "source": [
    "b_test.to_csv('data/b_test.csv', sep=',', header=True, index=False)"
   ]
  },
  {
   "cell_type": "code",
   "execution_count": null,
   "metadata": {},
   "outputs": [],
   "source": []
  }
 ],
 "metadata": {
  "kernelspec": {
   "display_name": "Python 3",
   "language": "python",
   "name": "python3"
  },
  "language_info": {
   "codemirror_mode": {
    "name": "ipython",
    "version": 3
   },
   "file_extension": ".py",
   "mimetype": "text/x-python",
   "name": "python",
   "nbconvert_exporter": "python",
   "pygments_lexer": "ipython3",
   "version": "3.6.1"
  }
 },
 "nbformat": 4,
 "nbformat_minor": 2
}
