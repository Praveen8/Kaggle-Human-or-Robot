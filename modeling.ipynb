{
 "cells": [
  {
   "cell_type": "code",
   "execution_count": 412,
   "metadata": {},
   "outputs": [],
   "source": [
    "import numpy as np\n",
    "import pandas as pd \n",
    "from matplotlib import pyplot as plt"
   ]
  },
  {
   "cell_type": "markdown",
   "metadata": {},
   "source": [
    "# Import train & test data"
   ]
  },
  {
   "cell_type": "code",
   "execution_count": 322,
   "metadata": {
    "scrolled": true
   },
   "outputs": [
    {
     "data": {
      "text/html": [
       "<div>\n",
       "<style>\n",
       "    .dataframe thead tr:only-child th {\n",
       "        text-align: right;\n",
       "    }\n",
       "\n",
       "    .dataframe thead th {\n",
       "        text-align: left;\n",
       "    }\n",
       "\n",
       "    .dataframe tbody tr th {\n",
       "        vertical-align: top;\n",
       "    }\n",
       "</style>\n",
       "<table border=\"1\" class=\"dataframe\">\n",
       "  <thead>\n",
       "    <tr style=\"text-align: right;\">\n",
       "      <th></th>\n",
       "      <th>outcome</th>\n",
       "      <th>mean_time_diff</th>\n",
       "      <th>total_bids_count</th>\n",
       "      <th>total_auctions_count</th>\n",
       "      <th>mean_time_diff2</th>\n",
       "    </tr>\n",
       "  </thead>\n",
       "  <tbody>\n",
       "    <tr>\n",
       "      <th>count</th>\n",
       "      <td>2013.000000</td>\n",
       "      <td>1.682000e+03</td>\n",
       "      <td>2013.000000</td>\n",
       "      <td>2013.000000</td>\n",
       "      <td>2005.000000</td>\n",
       "    </tr>\n",
       "    <tr>\n",
       "      <th>mean</th>\n",
       "      <td>0.051167</td>\n",
       "      <td>6.080752e+04</td>\n",
       "      <td>1525.694983</td>\n",
       "      <td>61.684054</td>\n",
       "      <td>10.227585</td>\n",
       "    </tr>\n",
       "    <tr>\n",
       "      <th>std</th>\n",
       "      <td>0.220394</td>\n",
       "      <td>1.551962e+05</td>\n",
       "      <td>14596.346369</td>\n",
       "      <td>146.431311</td>\n",
       "      <td>251.997506</td>\n",
       "    </tr>\n",
       "    <tr>\n",
       "      <th>min</th>\n",
       "      <td>0.000000</td>\n",
       "      <td>1.350000e+00</td>\n",
       "      <td>0.000000</td>\n",
       "      <td>0.000000</td>\n",
       "      <td>0.000000</td>\n",
       "    </tr>\n",
       "    <tr>\n",
       "      <th>25%</th>\n",
       "      <td>0.000000</td>\n",
       "      <td>1.211277e+03</td>\n",
       "      <td>3.000000</td>\n",
       "      <td>2.000000</td>\n",
       "      <td>0.000000</td>\n",
       "    </tr>\n",
       "    <tr>\n",
       "      <th>50%</th>\n",
       "      <td>0.000000</td>\n",
       "      <td>1.106926e+04</td>\n",
       "      <td>17.000000</td>\n",
       "      <td>10.000000</td>\n",
       "      <td>0.000000</td>\n",
       "    </tr>\n",
       "    <tr>\n",
       "      <th>75%</th>\n",
       "      <td>0.000000</td>\n",
       "      <td>4.829749e+04</td>\n",
       "      <td>200.000000</td>\n",
       "      <td>45.000000</td>\n",
       "      <td>0.000000</td>\n",
       "    </tr>\n",
       "    <tr>\n",
       "      <th>max</th>\n",
       "      <td>1.000000</td>\n",
       "      <td>1.445956e+06</td>\n",
       "      <td>515033.000000</td>\n",
       "      <td>1623.000000</td>\n",
       "      <td>10673.375000</td>\n",
       "    </tr>\n",
       "  </tbody>\n",
       "</table>\n",
       "</div>"
      ],
      "text/plain": [
       "           outcome  mean_time_diff  total_bids_count  total_auctions_count  \\\n",
       "count  2013.000000    1.682000e+03       2013.000000           2013.000000   \n",
       "mean      0.051167    6.080752e+04       1525.694983             61.684054   \n",
       "std       0.220394    1.551962e+05      14596.346369            146.431311   \n",
       "min       0.000000    1.350000e+00          0.000000              0.000000   \n",
       "25%       0.000000    1.211277e+03          3.000000              2.000000   \n",
       "50%       0.000000    1.106926e+04         17.000000             10.000000   \n",
       "75%       0.000000    4.829749e+04        200.000000             45.000000   \n",
       "max       1.000000    1.445956e+06     515033.000000           1623.000000   \n",
       "\n",
       "       mean_time_diff2  \n",
       "count      2005.000000  \n",
       "mean         10.227585  \n",
       "std         251.997506  \n",
       "min           0.000000  \n",
       "25%           0.000000  \n",
       "50%           0.000000  \n",
       "75%           0.000000  \n",
       "max       10673.375000  "
      ]
     },
     "execution_count": 322,
     "metadata": {},
     "output_type": "execute_result"
    }
   ],
   "source": [
    "b_train = pd.read_csv('data/b_train.csv')\n",
    "b_train.describe()"
   ]
  },
  {
   "cell_type": "code",
   "execution_count": 323,
   "metadata": {
    "scrolled": true
   },
   "outputs": [
    {
     "data": {
      "text/html": [
       "<div>\n",
       "<style>\n",
       "    .dataframe thead tr:only-child th {\n",
       "        text-align: right;\n",
       "    }\n",
       "\n",
       "    .dataframe thead th {\n",
       "        text-align: left;\n",
       "    }\n",
       "\n",
       "    .dataframe tbody tr th {\n",
       "        vertical-align: top;\n",
       "    }\n",
       "</style>\n",
       "<table border=\"1\" class=\"dataframe\">\n",
       "  <thead>\n",
       "    <tr style=\"text-align: right;\">\n",
       "      <th></th>\n",
       "      <th>mean_time_diff</th>\n",
       "      <th>total_bids_count</th>\n",
       "      <th>total_auctions_count</th>\n",
       "    </tr>\n",
       "  </thead>\n",
       "  <tbody>\n",
       "    <tr>\n",
       "      <th>count</th>\n",
       "      <td>3.875000e+03</td>\n",
       "      <td>4700.000000</td>\n",
       "      <td>4700.000000</td>\n",
       "    </tr>\n",
       "    <tr>\n",
       "      <th>mean</th>\n",
       "      <td>6.865193e+04</td>\n",
       "      <td>975.555319</td>\n",
       "      <td>54.930000</td>\n",
       "    </tr>\n",
       "    <tr>\n",
       "      <th>std</th>\n",
       "      <td>1.832103e+05</td>\n",
       "      <td>6182.458895</td>\n",
       "      <td>123.740628</td>\n",
       "    </tr>\n",
       "    <tr>\n",
       "      <th>min</th>\n",
       "      <td>0.000000e+00</td>\n",
       "      <td>0.000000</td>\n",
       "      <td>0.000000</td>\n",
       "    </tr>\n",
       "    <tr>\n",
       "      <th>25%</th>\n",
       "      <td>1.290090e+03</td>\n",
       "      <td>2.000000</td>\n",
       "      <td>2.000000</td>\n",
       "    </tr>\n",
       "    <tr>\n",
       "      <th>50%</th>\n",
       "      <td>9.564203e+03</td>\n",
       "      <td>17.000000</td>\n",
       "      <td>9.000000</td>\n",
       "    </tr>\n",
       "    <tr>\n",
       "      <th>75%</th>\n",
       "      <td>4.518996e+04</td>\n",
       "      <td>171.250000</td>\n",
       "      <td>46.000000</td>\n",
       "    </tr>\n",
       "    <tr>\n",
       "      <th>max</th>\n",
       "      <td>1.439525e+06</td>\n",
       "      <td>168995.000000</td>\n",
       "      <td>1726.000000</td>\n",
       "    </tr>\n",
       "  </tbody>\n",
       "</table>\n",
       "</div>"
      ],
      "text/plain": [
       "       mean_time_diff  total_bids_count  total_auctions_count\n",
       "count    3.875000e+03       4700.000000           4700.000000\n",
       "mean     6.865193e+04        975.555319             54.930000\n",
       "std      1.832103e+05       6182.458895            123.740628\n",
       "min      0.000000e+00          0.000000              0.000000\n",
       "25%      1.290090e+03          2.000000              2.000000\n",
       "50%      9.564203e+03         17.000000              9.000000\n",
       "75%      4.518996e+04        171.250000             46.000000\n",
       "max      1.439525e+06     168995.000000           1726.000000"
      ]
     },
     "execution_count": 323,
     "metadata": {},
     "output_type": "execute_result"
    }
   ],
   "source": [
    "b_test = pd.read_csv('data/b_test.csv')\n",
    "b_test.describe()"
   ]
  },
  {
   "cell_type": "markdown",
   "metadata": {},
   "source": [
    "# Cross validation"
   ]
  },
  {
   "cell_type": "markdown",
   "metadata": {},
   "source": [
    "in the future..."
   ]
  },
  {
   "cell_type": "markdown",
   "metadata": {},
   "source": [
    "# RandomForest model"
   ]
  },
  {
   "cell_type": "markdown",
   "metadata": {},
   "source": [
    "### Split data"
   ]
  },
  {
   "cell_type": "code",
   "execution_count": 413,
   "metadata": {},
   "outputs": [
    {
     "name": "stdout",
     "output_type": "stream",
     "text": [
      "X.shape = (1674, 3)\n",
      "y.shape = (1674,)\n"
     ]
    }
   ],
   "source": [
    "from sklearn.model_selection import train_test_split\n",
    "\n",
    "b_train = b_train.dropna()\n",
    "b_test = b_test.dropna()\n",
    "\n",
    "X = np.array([b_train.mean_time_diff, b_train.total_bids_count,\n",
    "              b_train.total_auctions_count]).T\n",
    "y = np.array(b_train.outcome)\n",
    "\n",
    "print('X.shape = {}\\ny.shape = {}'.format(X.shape, y.shape))\n",
    "\n",
    "X_train, X_test, y_train, y_test = train_test_split(X, y, test_size=0.33,\n",
    "                                                    random_state=42)"
   ]
  },
  {
   "cell_type": "markdown",
   "metadata": {},
   "source": [
    "### Train model"
   ]
  },
  {
   "cell_type": "markdown",
   "metadata": {},
   "source": [
    "Choose the parameter max_depth"
   ]
  },
  {
   "cell_type": "code",
   "execution_count": 414,
   "metadata": {},
   "outputs": [
    {
     "name": "stdout",
     "output_type": "stream",
     "text": [
      "best max_depth = 2\n",
      "roc-auc for it = 0.9163871027863201\n"
     ]
    }
   ],
   "source": [
    "auc_list = []\n",
    "for i in range(1,100):\n",
    "    RF_classifier = RandomForestClassifier(max_depth=i, random_state=0)\n",
    "    RF_classifier.fit(X_train, y_train)\n",
    "    auc_list.append(roc_auc_score(y_test_transformed, RF_classifier.predict_proba(X_test), average='weighted'))\n",
    "best_max_depth = np.array(auc_list).argmax() + 1\n",
    "print('best max_depth = {}'.format(best_max_depth)) # 2\n",
    "print('roc-auc for it = {}'.format(np.array(auc_list).max()))"
   ]
  },
  {
   "cell_type": "markdown",
   "metadata": {},
   "source": [
    "Fit model"
   ]
  },
  {
   "cell_type": "code",
   "execution_count": 427,
   "metadata": {},
   "outputs": [
    {
     "name": "stdout",
     "output_type": "stream",
     "text": [
      "accuracy = 0.9240506329113924\n",
      "roc-auc = 0.9163871027863201\n"
     ]
    }
   ],
   "source": [
    "from sklearn.preprocessing import label_binarize\n",
    "from sklearn.ensemble import RandomForestClassifier\n",
    "from sklearn.metrics import accuracy_score, roc_auc_score\n",
    "\n",
    "RF_classifier = RandomForestClassifier(max_depth=best_max_depth, random_state=0)\n",
    "RF_classifier.fit(X_train, y_train)\n",
    "\n",
    "#print(RF_classifier.feature_importances_)\n",
    "\n",
    "y_pred = RF_classifier.predict(X_test)\n",
    "acc = accuracy_score(y_test, y_pred)\n",
    "print('accuracy = {}'.format(acc))\n",
    "\n",
    "y_test_transformed = np.hstack((1-label_binarize(y_test, classes=[0, 1]), label_binarize(y_test, classes=[0, 1])))\n",
    "y_score = RF_classifier.predict_proba(X_test)\n",
    "auc = roc_auc_score(y_test_transformed, y_score, average='weighted')\n",
    "print('roc-auc = {}'.format(auc))"
   ]
  },
  {
   "cell_type": "code",
   "execution_count": 426,
   "metadata": {},
   "outputs": [
    {
     "data": {
      "image/png": "[encoded data removed]",
      "text/plain": [
       "<matplotlib.figure.Figure at 0x1a0fa45b00>"
      ]
     },
     "metadata": {},
     "output_type": "display_data"
    },
    {
     "data": {
      "image/png": "[encoded data removed]",
      "text/plain": [
       "<matplotlib.figure.Figure at 0x1a1131e898>"
      ]
     },
     "metadata": {},
     "output_type": "display_data"
    }
   ],
   "source": [
    "# Compute ROC curve and ROC area for each class\n",
    "from sklearn.metrics import roc_curve, auc\n",
    "fpr = dict()\n",
    "tpr = dict()\n",
    "roc_auc = dict()\n",
    "for i in range(2):\n",
    "    fpr[i], tpr[i], _ = roc_curve(y_test_transformed[:, i], y_score[:, i])\n",
    "    roc_auc[i] = auc(fpr[i], tpr[i])\n",
    "\n",
    "# Compute micro-average ROC curve and ROC area for 0\n",
    "fpr[\"micro\"], tpr[\"micro\"], _ = roc_curve(y_test_transformed.ravel(), y_score.ravel())\n",
    "roc_auc[\"micro\"] = auc(fpr[\"micro\"], tpr[\"micro\"])\n",
    "plt.figure()\n",
    "lw = 2\n",
    "plt.plot(fpr[0], tpr[0], color='darkorange',\n",
    "         lw=lw, label='ROC curve (area = %0.2f)' % roc_auc[0])\n",
    "plt.plot([0, 1], [0, 1], color='navy', lw=lw, linestyle='--')\n",
    "plt.xlim([0.0, 1.0])\n",
    "plt.ylim([0.0, 1.05])\n",
    "plt.xlabel('False Positive Rate')\n",
    "plt.ylabel('True Positive Rate')\n",
    "plt.title('Receiver operating characteristic example')\n",
    "plt.legend(loc=\"lower right\")\n",
    "plt.show()\n",
    "\n",
    "# Compute micro-average ROC curve and ROC area for 1\n",
    "plt.figure()\n",
    "lw = 2\n",
    "plt.plot(fpr[1], tpr[1], color='darkorange',\n",
    "         lw=lw, label='ROC curve (area = %0.2f)' % roc_auc[1])\n",
    "plt.plot([0, 1], [0, 1], color='navy', lw=lw, linestyle='--')\n",
    "plt.xlim([0.0, 1.0])\n",
    "plt.ylim([0.0, 1.05])\n",
    "plt.xlabel('False Positive Rate')\n",
    "plt.ylabel('True Positive Rate')\n",
    "plt.title('Receiver operating characteristic example')\n",
    "plt.legend(loc=\"lower right\")\n",
    "plt.show()"
   ]
  },
  {
   "cell_type": "markdown",
   "metadata": {},
   "source": [
    "### Predict on test data to submission"
   ]
  },
  {
   "cell_type": "code",
   "execution_count": 428,
   "metadata": {
    "scrolled": true
   },
   "outputs": [
    {
     "name": "stdout",
     "output_type": "stream",
     "text": [
      "X_submission.shape = (3875, 3)\n"
     ]
    }
   ],
   "source": [
    "X_submission = np.array([b_test.mean_time_diff, b_test.total_bids_count,\n",
    "                         b_test.total_auctions_count]).T\n",
    "print('X_submission.shape = {}'.format(X_submission.shape))"
   ]
  },
  {
   "cell_type": "code",
   "execution_count": 429,
   "metadata": {},
   "outputs": [
    {
     "name": "stdout",
     "output_type": "stream",
     "text": [
      "[ 0.00280366  0.00280366  0.08532486 ...,  0.14690207  0.00280366\n",
      "  0.06054781]\n"
     ]
    }
   ],
   "source": [
    "submission_prediction = RF_classifier.predict_proba(X_submission)[:,1]\n",
    "print(submission_prediction)"
   ]
  },
  {
   "cell_type": "code",
   "execution_count": 430,
   "metadata": {},
   "outputs": [
    {
     "data": {
      "text/html": [
       "<div>\n",
       "<style>\n",
       "    .dataframe thead tr:only-child th {\n",
       "        text-align: right;\n",
       "    }\n",
       "\n",
       "    .dataframe thead th {\n",
       "        text-align: left;\n",
       "    }\n",
       "\n",
       "    .dataframe tbody tr th {\n",
       "        vertical-align: top;\n",
       "    }\n",
       "</style>\n",
       "<table border=\"1\" class=\"dataframe\">\n",
       "  <thead>\n",
       "    <tr style=\"text-align: right;\">\n",
       "      <th></th>\n",
       "      <th>bidder_id</th>\n",
       "      <th>mean_time_diff</th>\n",
       "      <th>total_bids_count</th>\n",
       "      <th>total_auctions_count</th>\n",
       "      <th>prediction</th>\n",
       "    </tr>\n",
       "  </thead>\n",
       "  <tbody>\n",
       "    <tr>\n",
       "      <th>0</th>\n",
       "      <td>49bb5a3c944b8fc337981cc7a9ccae41u31d7</td>\n",
       "      <td>444750.00000</td>\n",
       "      <td>4</td>\n",
       "      <td>3</td>\n",
       "      <td>0.002804</td>\n",
       "    </tr>\n",
       "    <tr>\n",
       "      <th>1</th>\n",
       "      <td>a921612b85a1494456e74c09393ccb65ylp4y</td>\n",
       "      <td>722019.50000</td>\n",
       "      <td>3</td>\n",
       "      <td>2</td>\n",
       "      <td>0.002804</td>\n",
       "    </tr>\n",
       "    <tr>\n",
       "      <th>2</th>\n",
       "      <td>6b601e72a4d264dab9ace9d7b229b47479v6i</td>\n",
       "      <td>345.62500</td>\n",
       "      <td>17</td>\n",
       "      <td>14</td>\n",
       "      <td>0.085325</td>\n",
       "    </tr>\n",
       "    <tr>\n",
       "      <th>3</th>\n",
       "      <td>eaf0ed0afc9689779417274b4791726cn5udi</td>\n",
       "      <td>9890.55102</td>\n",
       "      <td>148</td>\n",
       "      <td>90</td>\n",
       "      <td>0.042377</td>\n",
       "    </tr>\n",
       "    <tr>\n",
       "      <th>4</th>\n",
       "      <td>cdecd8d02ed8c6037e38042c7745f688mx5sf</td>\n",
       "      <td>5678.22727</td>\n",
       "      <td>23</td>\n",
       "      <td>20</td>\n",
       "      <td>0.002536</td>\n",
       "    </tr>\n",
       "  </tbody>\n",
       "</table>\n",
       "</div>"
      ],
      "text/plain": [
       "                               bidder_id  mean_time_diff  total_bids_count  \\\n",
       "0  49bb5a3c944b8fc337981cc7a9ccae41u31d7    444750.00000                 4   \n",
       "1  a921612b85a1494456e74c09393ccb65ylp4y    722019.50000                 3   \n",
       "2  6b601e72a4d264dab9ace9d7b229b47479v6i       345.62500                17   \n",
       "3  eaf0ed0afc9689779417274b4791726cn5udi      9890.55102               148   \n",
       "4  cdecd8d02ed8c6037e38042c7745f688mx5sf      5678.22727                23   \n",
       "\n",
       "   total_auctions_count  prediction  \n",
       "0                     3    0.002804  \n",
       "1                     2    0.002804  \n",
       "2                    14    0.085325  \n",
       "3                    90    0.042377  \n",
       "4                    20    0.002536  "
      ]
     },
     "execution_count": 430,
     "metadata": {},
     "output_type": "execute_result"
    }
   ],
   "source": [
    "b_test['prediction'] = submission_prediction\n",
    "b_test.head()"
   ]
  },
  {
   "cell_type": "code",
   "execution_count": 431,
   "metadata": {},
   "outputs": [
    {
     "data": {
      "text/html": [
       "<div>\n",
       "<style>\n",
       "    .dataframe thead tr:only-child th {\n",
       "        text-align: right;\n",
       "    }\n",
       "\n",
       "    .dataframe thead th {\n",
       "        text-align: left;\n",
       "    }\n",
       "\n",
       "    .dataframe tbody tr th {\n",
       "        vertical-align: top;\n",
       "    }\n",
       "</style>\n",
       "<table border=\"1\" class=\"dataframe\">\n",
       "  <thead>\n",
       "    <tr style=\"text-align: right;\">\n",
       "      <th></th>\n",
       "      <th>bidder_id</th>\n",
       "      <th>prediction</th>\n",
       "    </tr>\n",
       "  </thead>\n",
       "  <tbody>\n",
       "    <tr>\n",
       "      <th>0</th>\n",
       "      <td>49bb5a3c944b8fc337981cc7a9ccae41u31d7</td>\n",
       "      <td>0.002804</td>\n",
       "    </tr>\n",
       "    <tr>\n",
       "      <th>1</th>\n",
       "      <td>a921612b85a1494456e74c09393ccb65ylp4y</td>\n",
       "      <td>0.002804</td>\n",
       "    </tr>\n",
       "    <tr>\n",
       "      <th>2</th>\n",
       "      <td>6b601e72a4d264dab9ace9d7b229b47479v6i</td>\n",
       "      <td>0.085325</td>\n",
       "    </tr>\n",
       "    <tr>\n",
       "      <th>3</th>\n",
       "      <td>eaf0ed0afc9689779417274b4791726cn5udi</td>\n",
       "      <td>0.042377</td>\n",
       "    </tr>\n",
       "    <tr>\n",
       "      <th>4</th>\n",
       "      <td>cdecd8d02ed8c6037e38042c7745f688mx5sf</td>\n",
       "      <td>0.002536</td>\n",
       "    </tr>\n",
       "  </tbody>\n",
       "</table>\n",
       "</div>"
      ],
      "text/plain": [
       "                               bidder_id  prediction\n",
       "0  49bb5a3c944b8fc337981cc7a9ccae41u31d7    0.002804\n",
       "1  a921612b85a1494456e74c09393ccb65ylp4y    0.002804\n",
       "2  6b601e72a4d264dab9ace9d7b229b47479v6i    0.085325\n",
       "3  eaf0ed0afc9689779417274b4791726cn5udi    0.042377\n",
       "4  cdecd8d02ed8c6037e38042c7745f688mx5sf    0.002536"
      ]
     },
     "execution_count": 431,
     "metadata": {},
     "output_type": "execute_result"
    }
   ],
   "source": [
    "b_test_RF = pd.read_csv('data/SubmissionRF.csv')\n",
    "b_test_RF.head()"
   ]
  },
  {
   "cell_type": "code",
   "execution_count": 289,
   "metadata": {},
   "outputs": [],
   "source": [
    "for bidder in b_test_RF.bidder_id:\n",
    "    if (bidder in list(b_test.bidder_id)):\n",
    "        #print(bidder)\n",
    "        #print(np.array(b_test[b_test.bidder_id==bidder].prediction)[0])\n",
    "        b_test_RF.loc[b_test_RF[b_test_RF.bidder_id == bidder].index,\n",
    "                      'prediction'] = np.array(b_test[b_test.bidder_id==bidder].prediction)[0]"
   ]
  },
  {
   "cell_type": "code",
   "execution_count": 291,
   "metadata": {},
   "outputs": [],
   "source": [
    "b_test_RF.to_csv('data/SubmissionRF.csv', sep=',', header=True, index=False)"
   ]
  },
  {
   "cell_type": "markdown",
   "metadata": {},
   "source": [
    "# XGBoost"
   ]
  },
  {
   "cell_type": "markdown",
   "metadata": {},
   "source": [
    "### Split data"
   ]
  },
  {
   "cell_type": "code",
   "execution_count": 185,
   "metadata": {},
   "outputs": [
    {
     "name": "stdout",
     "output_type": "stream",
     "text": [
      "X.shape = (2013, 3)\n",
      "y.shape = (2013,)\n"
     ]
    }
   ],
   "source": [
    "from sklearn.model_selection import train_test_split\n",
    "\n",
    "X = np.array([b_train.mean_time_diff, b_train.total_bids_count,\n",
    "              b_train.total_auctions_count]).T\n",
    "y = np.array(b_train.outcome)\n",
    "print('X.shape = {}\\ny.shape = {}'.format(X.shape, y.shape))\n",
    "X_train, X_test, y_train, y_test = train_test_split(X, y, test_size=0.33,\n",
    "                                                    random_state=42)"
   ]
  },
  {
   "cell_type": "markdown",
   "metadata": {},
   "source": [
    "### Train model"
   ]
  },
  {
   "cell_type": "code",
   "execution_count": 186,
   "metadata": {},
   "outputs": [
    {
     "name": "stdout",
     "output_type": "stream",
     "text": [
      "[0]\teval-auc:0.871322\ttrain-auc:0.865817\n",
      "[1]\teval-auc:0.879813\ttrain-auc:0.886111\n",
      "[2]\teval-auc:0.89534\ttrain-auc:0.900631\n",
      "[3]\teval-auc:0.903016\ttrain-auc:0.92157\n",
      "[4]\teval-auc:0.910249\ttrain-auc:0.926373\n",
      "[5]\teval-auc:0.904028\ttrain-auc:0.93062\n",
      "[6]\teval-auc:0.904103\ttrain-auc:0.93368\n",
      "[7]\teval-auc:0.900301\ttrain-auc:0.940894\n",
      "[8]\teval-auc:0.900844\ttrain-auc:0.941451\n",
      "[9]\teval-auc:0.894402\ttrain-auc:0.945272\n"
     ]
    }
   ],
   "source": [
    "__author__ = 'Markiian'\n",
    "import xgboost as xgb\n",
    "\n",
    "dtrain = xgb.DMatrix(X_train, label=y_train)\n",
    "dtest = xgb.DMatrix(X_test, label=y_test)\n",
    "\n",
    "#parameters of boosting\n",
    "param = {'max_depth': 2, 'eta': 1, 'silent': 1, \n",
    "         'objective': 'binary:logistic',\n",
    "         'nthread': 4, 'eval_metric': 'auc'}\n",
    "\n",
    "evallist = [(dtest, 'eval'), (dtrain, 'train')]\n",
    "\n",
    "num_round = 10\n",
    "bst = xgb.train(param, dtrain, num_round, evallist)"
   ]
  },
  {
   "cell_type": "markdown",
   "metadata": {},
   "source": [
    "### Predict on test data to submission"
   ]
  },
  {
   "cell_type": "code",
   "execution_count": 188,
   "metadata": {},
   "outputs": [
    {
     "name": "stdout",
     "output_type": "stream",
     "text": [
      "[ 0.  0.  0. ...,  0.  0.  0.]\n",
      "[ 0.00057154  0.00057154  0.03677481 ...,  0.05381217  0.00057154\n",
      "  0.05600484]\n"
     ]
    }
   ],
   "source": [
    "submission_data = xgb.DMatrix(X_submission)\n",
    "submission_prediction = bst.predict(submission_data)\n",
    "print(np.round(submission_prediction))\n",
    "print(submission_prediction)"
   ]
  },
  {
   "cell_type": "markdown",
   "metadata": {},
   "source": [
    "### Save into submission file"
   ]
  },
  {
   "cell_type": "code",
   "execution_count": 200,
   "metadata": {
    "scrolled": true
   },
   "outputs": [
    {
     "name": "stdout",
     "output_type": "stream",
     "text": [
      "X_submission.shape = (4700, 3)\n"
     ]
    }
   ],
   "source": [
    "X_submission = np.array([b_test.mean_time_diff, b_test.total_bids_count,\n",
    "                         b_test.total_auctions_count]).T\n",
    "print('X_submission.shape = {}'.format(X_submission.shape))"
   ]
  },
  {
   "cell_type": "code",
   "execution_count": 201,
   "metadata": {
    "scrolled": true
   },
   "outputs": [
    {
     "data": {
      "text/html": [
       "<div>\n",
       "<style>\n",
       "    .dataframe thead tr:only-child th {\n",
       "        text-align: right;\n",
       "    }\n",
       "\n",
       "    .dataframe thead th {\n",
       "        text-align: left;\n",
       "    }\n",
       "\n",
       "    .dataframe tbody tr th {\n",
       "        vertical-align: top;\n",
       "    }\n",
       "</style>\n",
       "<table border=\"1\" class=\"dataframe\">\n",
       "  <thead>\n",
       "    <tr style=\"text-align: right;\">\n",
       "      <th></th>\n",
       "      <th>bidder_id</th>\n",
       "      <th>mean_time_diff</th>\n",
       "      <th>total_bids_count</th>\n",
       "      <th>total_auctions_count</th>\n",
       "      <th>prediction</th>\n",
       "    </tr>\n",
       "  </thead>\n",
       "  <tbody>\n",
       "    <tr>\n",
       "      <th>0</th>\n",
       "      <td>49bb5a3c944b8fc337981cc7a9ccae41u31d7</td>\n",
       "      <td>444750.00000</td>\n",
       "      <td>4</td>\n",
       "      <td>3</td>\n",
       "      <td>0.000572</td>\n",
       "    </tr>\n",
       "    <tr>\n",
       "      <th>1</th>\n",
       "      <td>a921612b85a1494456e74c09393ccb65ylp4y</td>\n",
       "      <td>722019.50000</td>\n",
       "      <td>3</td>\n",
       "      <td>2</td>\n",
       "      <td>0.000572</td>\n",
       "    </tr>\n",
       "    <tr>\n",
       "      <th>2</th>\n",
       "      <td>6b601e72a4d264dab9ace9d7b229b47479v6i</td>\n",
       "      <td>345.62500</td>\n",
       "      <td>17</td>\n",
       "      <td>14</td>\n",
       "      <td>0.036775</td>\n",
       "    </tr>\n",
       "    <tr>\n",
       "      <th>3</th>\n",
       "      <td>eaf0ed0afc9689779417274b4791726cn5udi</td>\n",
       "      <td>9890.55102</td>\n",
       "      <td>148</td>\n",
       "      <td>90</td>\n",
       "      <td>0.021539</td>\n",
       "    </tr>\n",
       "    <tr>\n",
       "      <th>4</th>\n",
       "      <td>cdecd8d02ed8c6037e38042c7745f688mx5sf</td>\n",
       "      <td>5678.22727</td>\n",
       "      <td>23</td>\n",
       "      <td>20</td>\n",
       "      <td>0.004564</td>\n",
       "    </tr>\n",
       "  </tbody>\n",
       "</table>\n",
       "</div>"
      ],
      "text/plain": [
       "                               bidder_id  mean_time_diff  total_bids_count  \\\n",
       "0  49bb5a3c944b8fc337981cc7a9ccae41u31d7    444750.00000                 4   \n",
       "1  a921612b85a1494456e74c09393ccb65ylp4y    722019.50000                 3   \n",
       "2  6b601e72a4d264dab9ace9d7b229b47479v6i       345.62500                17   \n",
       "3  eaf0ed0afc9689779417274b4791726cn5udi      9890.55102               148   \n",
       "4  cdecd8d02ed8c6037e38042c7745f688mx5sf      5678.22727                23   \n",
       "\n",
       "   total_auctions_count  prediction  \n",
       "0                     3    0.000572  \n",
       "1                     2    0.000572  \n",
       "2                    14    0.036775  \n",
       "3                    90    0.021539  \n",
       "4                    20    0.004564  "
      ]
     },
     "execution_count": 201,
     "metadata": {},
     "output_type": "execute_result"
    }
   ],
   "source": [
    "b_test['prediction'] = submission_prediction #np.round(submission_prediction)\n",
    "b_test.head()"
   ]
  },
  {
   "cell_type": "code",
   "execution_count": 194,
   "metadata": {},
   "outputs": [],
   "source": [
    "b_test[['bidder_id','prediction']].to_csv('data/SubmissionXGBoost.csv', sep=',', header=True, index=False)"
   ]
  },
  {
   "cell_type": "code",
   "execution_count": 202,
   "metadata": {},
   "outputs": [],
   "source": [
    "b_test[['bidder_id','prediction']].to_csv('data/SubmissionRF.csv', sep=',', header=True, index=False)"
   ]
  },
  {
   "cell_type": "code",
   "execution_count": null,
   "metadata": {},
   "outputs": [],
   "source": []
  }
 ],
 "metadata": {
  "kernelspec": {
   "display_name": "Python 3",
   "language": "python",
   "name": "python3"
  },
  "language_info": {
   "codemirror_mode": {
    "name": "ipython",
    "version": 3
   },
   "file_extension": ".py",
   "mimetype": "text/x-python",
   "name": "python",
   "nbconvert_exporter": "python",
   "pygments_lexer": "ipython3",
   "version": "3.6.1"
  }
 },
 "nbformat": 4,
 "nbformat_minor": 2
}
