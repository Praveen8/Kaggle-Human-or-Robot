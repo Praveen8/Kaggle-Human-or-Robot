{
 "cells": [
  {
   "cell_type": "code",
   "execution_count": 248,
   "metadata": {},
   "outputs": [],
   "source": [
    "import numpy as np\n",
    "import pandas as pd \n",
    "from matplotlib import pyplot as plt"
   ]
  },
  {
   "cell_type": "code",
   "execution_count": 249,
   "metadata": {},
   "outputs": [],
   "source": [
    "from sklearn.model_selection import train_test_split, cross_val_score\n",
    "from sklearn.metrics import roc_curve, auc, roc_auc_score, accuracy_score, make_scorer"
   ]
  },
  {
   "cell_type": "markdown",
   "metadata": {},
   "source": [
    "# Import train & test data"
   ]
  },
  {
   "cell_type": "code",
   "execution_count": 250,
   "metadata": {
    "scrolled": true
   },
   "outputs": [
    {
     "data": {
      "text/html": [
       "<div>\n",
       "<style>\n",
       "    .dataframe thead tr:only-child th {\n",
       "        text-align: right;\n",
       "    }\n",
       "\n",
       "    .dataframe thead th {\n",
       "        text-align: left;\n",
       "    }\n",
       "\n",
       "    .dataframe tbody tr th {\n",
       "        vertical-align: top;\n",
       "    }\n",
       "</style>\n",
       "<table border=\"1\" class=\"dataframe\">\n",
       "  <thead>\n",
       "    <tr style=\"text-align: right;\">\n",
       "      <th></th>\n",
       "      <th>outcome</th>\n",
       "      <th>total_bids</th>\n",
       "      <th>total_auctions</th>\n",
       "      <th>bids_per_auction</th>\n",
       "      <th>mean_time_diff</th>\n",
       "      <th>mean_response</th>\n",
       "      <th>min_response</th>\n",
       "      <th>ip_entropy</th>\n",
       "      <th>url_entropy</th>\n",
       "    </tr>\n",
       "  </thead>\n",
       "  <tbody>\n",
       "    <tr>\n",
       "      <th>count</th>\n",
       "      <td>2013.000000</td>\n",
       "      <td>2013.000000</td>\n",
       "      <td>2013.000000</td>\n",
       "      <td>1984.000000</td>\n",
       "      <td>1.682000e+03</td>\n",
       "      <td>1983.000000</td>\n",
       "      <td>1983.000000</td>\n",
       "      <td>2.013000e+03</td>\n",
       "      <td>2.013000e+03</td>\n",
       "    </tr>\n",
       "    <tr>\n",
       "      <th>mean</th>\n",
       "      <td>0.051167</td>\n",
       "      <td>1525.694983</td>\n",
       "      <td>61.684054</td>\n",
       "      <td>7.309194</td>\n",
       "      <td>6.080752e+04</td>\n",
       "      <td>1417.833629</td>\n",
       "      <td>29.442259</td>\n",
       "      <td>1.141036e+04</td>\n",
       "      <td>5.982521e+03</td>\n",
       "    </tr>\n",
       "    <tr>\n",
       "      <th>std</th>\n",
       "      <td>0.220394</td>\n",
       "      <td>14596.346369</td>\n",
       "      <td>146.431311</td>\n",
       "      <td>31.006013</td>\n",
       "      <td>1.551962e+05</td>\n",
       "      <td>10203.707395</td>\n",
       "      <td>202.225500</td>\n",
       "      <td>1.169514e+05</td>\n",
       "      <td>6.589369e+04</td>\n",
       "    </tr>\n",
       "    <tr>\n",
       "      <th>min</th>\n",
       "      <td>0.000000</td>\n",
       "      <td>0.000000</td>\n",
       "      <td>0.000000</td>\n",
       "      <td>1.000000</td>\n",
       "      <td>1.350000e+00</td>\n",
       "      <td>0.000000</td>\n",
       "      <td>0.000000</td>\n",
       "      <td>0.000000e+00</td>\n",
       "      <td>0.000000e+00</td>\n",
       "    </tr>\n",
       "    <tr>\n",
       "      <th>25%</th>\n",
       "      <td>0.000000</td>\n",
       "      <td>3.000000</td>\n",
       "      <td>2.000000</td>\n",
       "      <td>1.000000</td>\n",
       "      <td>1.211277e+03</td>\n",
       "      <td>33.000000</td>\n",
       "      <td>0.000000</td>\n",
       "      <td>6.931000e-01</td>\n",
       "      <td>0.000000e+00</td>\n",
       "    </tr>\n",
       "    <tr>\n",
       "      <th>50%</th>\n",
       "      <td>0.000000</td>\n",
       "      <td>17.000000</td>\n",
       "      <td>10.000000</td>\n",
       "      <td>1.719550</td>\n",
       "      <td>1.106926e+04</td>\n",
       "      <td>142.000000</td>\n",
       "      <td>0.000000</td>\n",
       "      <td>2.519120e+01</td>\n",
       "      <td>1.129440e+01</td>\n",
       "    </tr>\n",
       "    <tr>\n",
       "      <th>75%</th>\n",
       "      <td>0.000000</td>\n",
       "      <td>200.000000</td>\n",
       "      <td>45.000000</td>\n",
       "      <td>4.265450</td>\n",
       "      <td>4.829749e+04</td>\n",
       "      <td>493.795200</td>\n",
       "      <td>4.000000</td>\n",
       "      <td>6.758475e+02</td>\n",
       "      <td>3.247849e+02</td>\n",
       "    </tr>\n",
       "    <tr>\n",
       "      <th>max</th>\n",
       "      <td>1.000000</td>\n",
       "      <td>515033.000000</td>\n",
       "      <td>1623.000000</td>\n",
       "      <td>1023.500000</td>\n",
       "      <td>1.445956e+06</td>\n",
       "      <td>318302.500000</td>\n",
       "      <td>4242.000000</td>\n",
       "      <td>3.785156e+06</td>\n",
       "      <td>2.543118e+06</td>\n",
       "    </tr>\n",
       "  </tbody>\n",
       "</table>\n",
       "</div>"
      ],
      "text/plain": [
       "           outcome     total_bids  total_auctions  bids_per_auction  \\\n",
       "count  2013.000000    2013.000000     2013.000000       1984.000000   \n",
       "mean      0.051167    1525.694983       61.684054          7.309194   \n",
       "std       0.220394   14596.346369      146.431311         31.006013   \n",
       "min       0.000000       0.000000        0.000000          1.000000   \n",
       "25%       0.000000       3.000000        2.000000          1.000000   \n",
       "50%       0.000000      17.000000       10.000000          1.719550   \n",
       "75%       0.000000     200.000000       45.000000          4.265450   \n",
       "max       1.000000  515033.000000     1623.000000       1023.500000   \n",
       "\n",
       "       mean_time_diff  mean_response  min_response    ip_entropy   url_entropy  \n",
       "count    1.682000e+03    1983.000000   1983.000000  2.013000e+03  2.013000e+03  \n",
       "mean     6.080752e+04    1417.833629     29.442259  1.141036e+04  5.982521e+03  \n",
       "std      1.551962e+05   10203.707395    202.225500  1.169514e+05  6.589369e+04  \n",
       "min      1.350000e+00       0.000000      0.000000  0.000000e+00  0.000000e+00  \n",
       "25%      1.211277e+03      33.000000      0.000000  6.931000e-01  0.000000e+00  \n",
       "50%      1.106926e+04     142.000000      0.000000  2.519120e+01  1.129440e+01  \n",
       "75%      4.829749e+04     493.795200      4.000000  6.758475e+02  3.247849e+02  \n",
       "max      1.445956e+06  318302.500000   4242.000000  3.785156e+06  2.543118e+06  "
      ]
     },
     "execution_count": 250,
     "metadata": {},
     "output_type": "execute_result"
    }
   ],
   "source": [
    "b_train = pd.read_csv('data/b_train.csv')\n",
    "b_train.describe()"
   ]
  },
  {
   "cell_type": "code",
   "execution_count": 251,
   "metadata": {
    "scrolled": true
   },
   "outputs": [
    {
     "data": {
      "text/html": [
       "<div>\n",
       "<style>\n",
       "    .dataframe thead tr:only-child th {\n",
       "        text-align: right;\n",
       "    }\n",
       "\n",
       "    .dataframe thead th {\n",
       "        text-align: left;\n",
       "    }\n",
       "\n",
       "    .dataframe tbody tr th {\n",
       "        vertical-align: top;\n",
       "    }\n",
       "</style>\n",
       "<table border=\"1\" class=\"dataframe\">\n",
       "  <thead>\n",
       "    <tr style=\"text-align: right;\">\n",
       "      <th></th>\n",
       "      <th>total_bids</th>\n",
       "      <th>total_auctions</th>\n",
       "      <th>bids_per_auction</th>\n",
       "      <th>mean_time_diff</th>\n",
       "      <th>mean_response</th>\n",
       "      <th>min_response</th>\n",
       "      <th>ip_entropy</th>\n",
       "      <th>url_entropy</th>\n",
       "    </tr>\n",
       "  </thead>\n",
       "  <tbody>\n",
       "    <tr>\n",
       "      <th>count</th>\n",
       "      <td>4700.000000</td>\n",
       "      <td>4700.000000</td>\n",
       "      <td>4630.000000</td>\n",
       "      <td>3.875000e+03</td>\n",
       "      <td>4.627000e+03</td>\n",
       "      <td>4.627000e+03</td>\n",
       "      <td>4.700000e+03</td>\n",
       "      <td>4700.000000</td>\n",
       "    </tr>\n",
       "    <tr>\n",
       "      <th>mean</th>\n",
       "      <td>975.555319</td>\n",
       "      <td>54.930000</td>\n",
       "      <td>6.280768</td>\n",
       "      <td>6.865193e+04</td>\n",
       "      <td>1.811766e+03</td>\n",
       "      <td>5.384668e+02</td>\n",
       "      <td>6.995721e+03</td>\n",
       "      <td>3987.821487</td>\n",
       "    </tr>\n",
       "    <tr>\n",
       "      <th>std</th>\n",
       "      <td>6182.458895</td>\n",
       "      <td>123.740628</td>\n",
       "      <td>29.554004</td>\n",
       "      <td>1.832103e+05</td>\n",
       "      <td>2.404411e+04</td>\n",
       "      <td>2.124275e+04</td>\n",
       "      <td>5.100064e+04</td>\n",
       "      <td>31516.961800</td>\n",
       "    </tr>\n",
       "    <tr>\n",
       "      <th>min</th>\n",
       "      <td>0.000000</td>\n",
       "      <td>0.000000</td>\n",
       "      <td>1.000000</td>\n",
       "      <td>0.000000e+00</td>\n",
       "      <td>0.000000e+00</td>\n",
       "      <td>0.000000e+00</td>\n",
       "      <td>0.000000e+00</td>\n",
       "      <td>0.000000</td>\n",
       "    </tr>\n",
       "    <tr>\n",
       "      <th>25%</th>\n",
       "      <td>2.000000</td>\n",
       "      <td>2.000000</td>\n",
       "      <td>1.000000</td>\n",
       "      <td>1.290090e+03</td>\n",
       "      <td>3.300000e+01</td>\n",
       "      <td>0.000000e+00</td>\n",
       "      <td>0.000000e+00</td>\n",
       "      <td>0.000000</td>\n",
       "    </tr>\n",
       "    <tr>\n",
       "      <th>50%</th>\n",
       "      <td>17.000000</td>\n",
       "      <td>9.000000</td>\n",
       "      <td>1.666700</td>\n",
       "      <td>9.564203e+03</td>\n",
       "      <td>1.512974e+02</td>\n",
       "      <td>0.000000e+00</td>\n",
       "      <td>2.519120e+01</td>\n",
       "      <td>11.327300</td>\n",
       "    </tr>\n",
       "    <tr>\n",
       "      <th>75%</th>\n",
       "      <td>171.250000</td>\n",
       "      <td>46.000000</td>\n",
       "      <td>4.070225</td>\n",
       "      <td>4.518996e+04</td>\n",
       "      <td>5.663539e+02</td>\n",
       "      <td>4.000000e+00</td>\n",
       "      <td>6.075169e+02</td>\n",
       "      <td>276.483400</td>\n",
       "    </tr>\n",
       "    <tr>\n",
       "      <th>max</th>\n",
       "      <td>168995.000000</td>\n",
       "      <td>1726.000000</td>\n",
       "      <td>1327.366700</td>\n",
       "      <td>1.439525e+06</td>\n",
       "      <td>1.084161e+06</td>\n",
       "      <td>1.084161e+06</td>\n",
       "      <td>1.353076e+06</td>\n",
       "      <td>873916.567700</td>\n",
       "    </tr>\n",
       "  </tbody>\n",
       "</table>\n",
       "</div>"
      ],
      "text/plain": [
       "          total_bids  total_auctions  bids_per_auction  mean_time_diff  \\\n",
       "count    4700.000000     4700.000000       4630.000000    3.875000e+03   \n",
       "mean      975.555319       54.930000          6.280768    6.865193e+04   \n",
       "std      6182.458895      123.740628         29.554004    1.832103e+05   \n",
       "min         0.000000        0.000000          1.000000    0.000000e+00   \n",
       "25%         2.000000        2.000000          1.000000    1.290090e+03   \n",
       "50%        17.000000        9.000000          1.666700    9.564203e+03   \n",
       "75%       171.250000       46.000000          4.070225    4.518996e+04   \n",
       "max    168995.000000     1726.000000       1327.366700    1.439525e+06   \n",
       "\n",
       "       mean_response  min_response    ip_entropy    url_entropy  \n",
       "count   4.627000e+03  4.627000e+03  4.700000e+03    4700.000000  \n",
       "mean    1.811766e+03  5.384668e+02  6.995721e+03    3987.821487  \n",
       "std     2.404411e+04  2.124275e+04  5.100064e+04   31516.961800  \n",
       "min     0.000000e+00  0.000000e+00  0.000000e+00       0.000000  \n",
       "25%     3.300000e+01  0.000000e+00  0.000000e+00       0.000000  \n",
       "50%     1.512974e+02  0.000000e+00  2.519120e+01      11.327300  \n",
       "75%     5.663539e+02  4.000000e+00  6.075169e+02     276.483400  \n",
       "max     1.084161e+06  1.084161e+06  1.353076e+06  873916.567700  "
      ]
     },
     "execution_count": 251,
     "metadata": {},
     "output_type": "execute_result"
    }
   ],
   "source": [
    "b_test = pd.read_csv('data/b_test.csv')\n",
    "b_test.describe()"
   ]
  },
  {
   "cell_type": "markdown",
   "metadata": {},
   "source": [
    "# RandomForest model"
   ]
  },
  {
   "cell_type": "code",
   "execution_count": 252,
   "metadata": {},
   "outputs": [],
   "source": [
    "from sklearn.ensemble import RandomForestClassifier"
   ]
  },
  {
   "cell_type": "code",
   "execution_count": 296,
   "metadata": {},
   "outputs": [
    {
     "name": "stdout",
     "output_type": "stream",
     "text": [
      "X.shape = (1682, 6)\n",
      "y.shape = (1682,)\n",
      "X_submission.shape = (3875, 6)\n"
     ]
    }
   ],
   "source": [
    "b_train = b_train.dropna()\n",
    "b_test = b_test.dropna()\n",
    "\n",
    "full_features = ['total_bids', 'total_auctions', 'bids_per_auction',\n",
    "                 'mean_time_diff', 'mean_response', 'min_response',\n",
    "                 'ip_entropy', 'url_entropy']\n",
    "features = ['total_bids', 'total_auctions', \n",
    "            'mean_time_diff', 'mean_response',\n",
    "            'ip_entropy', 'url_entropy']\n",
    "target = ['outcome']\n",
    "\n",
    "X = np.array(b_train[features])\n",
    "y = np.array(b_train[target]).ravel()\n",
    "print('X.shape = {}\\ny.shape = {}'.format(X.shape, y.shape))\n",
    "\n",
    "X_submission = np.array(b_test[features])\n",
    "print('X_submission.shape = {}'.format(X_submission.shape))"
   ]
  },
  {
   "cell_type": "markdown",
   "metadata": {},
   "source": [
    "### Split data"
   ]
  },
  {
   "cell_type": "code",
   "execution_count": 297,
   "metadata": {},
   "outputs": [],
   "source": [
    "X_train, X_test, y_train, y_test = train_test_split(X, y, test_size=0.33, random_state=42)\n",
    "\n",
    "y_test_transformed = np.hstack((1 - y_test.reshape(y_test.size,1),\n",
    "                                y_test.reshape(y_test.size,1)))"
   ]
  },
  {
   "cell_type": "markdown",
   "metadata": {},
   "source": [
    "### Train model"
   ]
  },
  {
   "cell_type": "markdown",
   "metadata": {},
   "source": [
    "Choose the parameter max_depth"
   ]
  },
  {
   "cell_type": "code",
   "execution_count": 298,
   "metadata": {},
   "outputs": [
    {
     "name": "stdout",
     "output_type": "stream",
     "text": [
      "best max_depth = 6\n",
      "roc-auc for it = 0.9037472943722945\n"
     ]
    }
   ],
   "source": [
    "auc_list = []\n",
    "for i in range(1,100):\n",
    "    RF_classifier = RandomForestClassifier(max_depth=i, random_state=0)\n",
    "    RF_classifier.fit(X_train, y_train)\n",
    "    auc_list.append(roc_auc_score(y_test_transformed, RF_classifier.predict_proba(X_test), average='weighted'))\n",
    "best_max_depth = np.array(auc_list).argmax() + 1\n",
    "print('best max_depth = {}'.format(best_max_depth)) # 2\n",
    "print('roc-auc for it = {}'.format(np.array(auc_list).max()))"
   ]
  },
  {
   "cell_type": "markdown",
   "metadata": {},
   "source": [
    "Fit model"
   ]
  },
  {
   "cell_type": "code",
   "execution_count": 299,
   "metadata": {},
   "outputs": [
    {
     "name": "stdout",
     "output_type": "stream",
     "text": [
      "[ 0.14759059  0.17182467  0.32158477  0.08034865  0.18149254  0.09715878]\n",
      "accuracy = 0.9550359712230215\n",
      "roc-auc = 0.9037472943722945\n"
     ]
    }
   ],
   "source": [
    "RF_classifier = RandomForestClassifier(max_depth=best_max_depth, random_state=0)\n",
    "RF_classifier.fit(X_train, y_train)\n",
    "\n",
    "print(RF_classifier.feature_importances_)\n",
    "\n",
    "y_pred = RF_classifier.predict(X_test)\n",
    "acc_score = accuracy_score(y_test, y_pred)\n",
    "print('accuracy = {}'.format(acc_score))\n",
    "\n",
    "\n",
    "y_score = RF_classifier.predict_proba(X_test)\n",
    "auc_score = roc_auc_score(y_test_transformed, y_score, average='weighted')\n",
    "print('roc-auc = {}'.format(auc_score))"
   ]
  },
  {
   "cell_type": "markdown",
   "metadata": {},
   "source": [
    "draw ROC curve"
   ]
  },
  {
   "cell_type": "code",
   "execution_count": 300,
   "metadata": {},
   "outputs": [
    {
     "data": {
      "image/png": "[encoded data removed]",
      "text/plain": [
       "<matplotlib.figure.Figure at 0x10fca8f28>"
      ]
     },
     "metadata": {},
     "output_type": "display_data"
    }
   ],
   "source": [
    "fpr = dict()\n",
    "tpr = dict()\n",
    "roc_auc = dict()\n",
    "for i in range(2):\n",
    "    fpr[i], tpr[i], _ = roc_curve(y_test_transformed[:, i], y_score[:, i])\n",
    "    roc_auc[i] = auc(fpr[i], tpr[i])\n",
    "\n",
    "# Compute micro-average ROC curve and ROC area for 1\n",
    "plt.figure()\n",
    "lw = 2\n",
    "plt.plot(fpr[1], tpr[1], color='darkorange',\n",
    "         lw=lw, label='ROC curve (area = %0.2f)' % roc_auc[1])\n",
    "plt.plot([0, 1], [0, 1], color='navy', lw=lw, linestyle='--')\n",
    "plt.xlim([0.0, 1.0])\n",
    "plt.ylim([0.0, 1.05])\n",
    "plt.xlabel('False Positive Rate')\n",
    "plt.ylabel('True Positive Rate')\n",
    "plt.title('Receiver operating characteristic')\n",
    "plt.legend(loc=\"lower right\")\n",
    "plt.show()"
   ]
  },
  {
   "cell_type": "markdown",
   "metadata": {},
   "source": [
    "### Cross validation"
   ]
  },
  {
   "cell_type": "code",
   "execution_count": 301,
   "metadata": {},
   "outputs": [
    {
     "name": "stdout",
     "output_type": "stream",
     "text": [
      "[ 0.88612238  0.91919132  0.90562381  0.92127863  0.89602219  0.87335997]\n",
      "mean: 0.9003, max: 0.9213, min: 0.8734, std: 0.0172\n"
     ]
    }
   ],
   "source": [
    "CV_SSS = model_selection.StratifiedShuffleSplit(n_splits = 6, test_size = 0.33, random_state=1)\n",
    "#for train_indices, test_indices in CV_SSS.split(X, y):\n",
    "    #print(train_indices, test_indices)\n",
    "    \n",
    "RF_classifier = RandomForestClassifier(max_depth=best_max_depth, random_state=3)\n",
    "RF_cross_val_scoring = cross_val_score(RF_classifier, X, y, scoring='roc_auc', cv=CV_SSS)\n",
    "print(RF_cross_val_scoring)\n",
    "print('mean: {:.4f}, max: {:.4f}, min: {:.4f}, std: {:.4f}'.format(RF_cross_val_scoring.mean(),\n",
    "                                                               RF_cross_val_scoring.max(), \n",
    "                                                               RF_cross_val_scoring.min(),\n",
    "                                                               RF_cross_val_scoring.std()))"
   ]
  },
  {
   "cell_type": "code",
   "execution_count": 302,
   "metadata": {
    "code_folding": []
   },
   "outputs": [
    {
     "data": {
      "text/plain": [
       "([4, 4, 5, 4, 4, 5, 3, 4, 4, 4, 3, 6, 6, 3, 6, 5, 3, 6, 4],\n",
       " array([[<matplotlib.axes._subplots.AxesSubplot object at 0x1a14778a90>]], dtype=object))"
      ]
     },
     "execution_count": 302,
     "metadata": {},
     "output_type": "execute_result"
    },
    {
     "data": {
      "image/png": "[encoded data removed]",
      "text/plain": [
       "<matplotlib.figure.Figure at 0x1a13afc240>"
      ]
     },
     "metadata": {},
     "output_type": "display_data"
    }
   ],
   "source": [
    "global_depth = []\n",
    "for j in range(1,20):\n",
    "    CV_SSS = model_selection.StratifiedShuffleSplit(n_splits = 6, test_size = 0.33, random_state=None)\n",
    "    auc_list = []\n",
    "    for i in range(1,10):\n",
    "        RF_classifier = RandomForestClassifier(max_depth=i, random_state=None)\n",
    "        RF_cross_val_scoring = cross_val_score(RF_classifier, X, y, scoring='roc_auc', cv=CV_SSS)\n",
    "        auc_list.append(RF_cross_val_scoring.mean())\n",
    "    best_max_depth = np.array(auc_list).argmax() + 1\n",
    "    #print('best max_depth = {}'.format(best_max_depth)) # 2\n",
    "    #print('roc-auc for it = {}'.format(np.array(auc_list).max()))\n",
    "    global_depth.append(best_max_depth)\n",
    "global_depth, pd.DataFrame(global_depth).hist()"
   ]
  },
  {
   "cell_type": "code",
   "execution_count": 303,
   "metadata": {},
   "outputs": [
    {
     "data": {
      "text/plain": [
       "RandomForestClassifier(bootstrap=True, class_weight=None, criterion='gini',\n",
       "            max_depth=4, max_features='auto', max_leaf_nodes=None,\n",
       "            min_impurity_decrease=0.0, min_impurity_split=None,\n",
       "            min_samples_leaf=1, min_samples_split=2,\n",
       "            min_weight_fraction_leaf=0.0, n_estimators=10, n_jobs=1,\n",
       "            oob_score=False, random_state=0, verbose=0, warm_start=False)"
      ]
     },
     "execution_count": 303,
     "metadata": {},
     "output_type": "execute_result"
    }
   ],
   "source": [
    "best_max_depth = 4\n",
    "RF_classifier = RandomForestClassifier(max_depth=best_max_depth, random_state=0)\n",
    "RF_classifier.fit(X_train, y_train)"
   ]
  },
  {
   "cell_type": "markdown",
   "metadata": {},
   "source": [
    "### Predict on test data to submission"
   ]
  },
  {
   "cell_type": "code",
   "execution_count": 304,
   "metadata": {},
   "outputs": [
    {
     "name": "stdout",
     "output_type": "stream",
     "text": [
      "[ 0.00049505  0.00266443  0.19734724 ...,  0.1388348   0.00089425\n",
      "  0.15466788]\n"
     ]
    }
   ],
   "source": [
    "submission_prediction = RF_classifier.predict_proba(X_submission)[:,1]\n",
    "print(submission_prediction)"
   ]
  },
  {
   "cell_type": "code",
   "execution_count": 305,
   "metadata": {},
   "outputs": [
    {
     "data": {
      "text/html": [
       "<div>\n",
       "<style>\n",
       "    .dataframe thead tr:only-child th {\n",
       "        text-align: right;\n",
       "    }\n",
       "\n",
       "    .dataframe thead th {\n",
       "        text-align: left;\n",
       "    }\n",
       "\n",
       "    .dataframe tbody tr th {\n",
       "        vertical-align: top;\n",
       "    }\n",
       "</style>\n",
       "<table border=\"1\" class=\"dataframe\">\n",
       "  <thead>\n",
       "    <tr style=\"text-align: right;\">\n",
       "      <th></th>\n",
       "      <th>bidder_id</th>\n",
       "      <th>total_bids</th>\n",
       "      <th>total_auctions</th>\n",
       "      <th>bids_per_auction</th>\n",
       "      <th>mean_time_diff</th>\n",
       "      <th>mean_response</th>\n",
       "      <th>min_response</th>\n",
       "      <th>ip_entropy</th>\n",
       "      <th>url_entropy</th>\n",
       "      <th>prediction</th>\n",
       "    </tr>\n",
       "  </thead>\n",
       "  <tbody>\n",
       "    <tr>\n",
       "      <th>0</th>\n",
       "      <td>49bb5a3c944b8fc337981cc7a9ccae41u31d7</td>\n",
       "      <td>4</td>\n",
       "      <td>3</td>\n",
       "      <td>1.3333</td>\n",
       "      <td>444750.0000</td>\n",
       "      <td>16.7500</td>\n",
       "      <td>0.0</td>\n",
       "      <td>1.7918</td>\n",
       "      <td>1.7918</td>\n",
       "      <td>0.000495</td>\n",
       "    </tr>\n",
       "    <tr>\n",
       "      <th>1</th>\n",
       "      <td>a921612b85a1494456e74c09393ccb65ylp4y</td>\n",
       "      <td>3</td>\n",
       "      <td>2</td>\n",
       "      <td>1.5000</td>\n",
       "      <td>722019.5000</td>\n",
       "      <td>371.3333</td>\n",
       "      <td>2.0</td>\n",
       "      <td>0.6931</td>\n",
       "      <td>0.0000</td>\n",
       "      <td>0.002664</td>\n",
       "    </tr>\n",
       "    <tr>\n",
       "      <th>2</th>\n",
       "      <td>6b601e72a4d264dab9ace9d7b229b47479v6i</td>\n",
       "      <td>17</td>\n",
       "      <td>14</td>\n",
       "      <td>1.2143</td>\n",
       "      <td>345.6250</td>\n",
       "      <td>186.3529</td>\n",
       "      <td>0.0</td>\n",
       "      <td>17.3592</td>\n",
       "      <td>8.8929</td>\n",
       "      <td>0.197347</td>\n",
       "    </tr>\n",
       "    <tr>\n",
       "      <th>3</th>\n",
       "      <td>eaf0ed0afc9689779417274b4791726cn5udi</td>\n",
       "      <td>148</td>\n",
       "      <td>90</td>\n",
       "      <td>1.6444</td>\n",
       "      <td>9890.5510</td>\n",
       "      <td>7762.0946</td>\n",
       "      <td>0.0</td>\n",
       "      <td>580.2510</td>\n",
       "      <td>384.8401</td>\n",
       "      <td>0.004009</td>\n",
       "    </tr>\n",
       "    <tr>\n",
       "      <th>4</th>\n",
       "      <td>cdecd8d02ed8c6037e38042c7745f688mx5sf</td>\n",
       "      <td>23</td>\n",
       "      <td>20</td>\n",
       "      <td>1.1500</td>\n",
       "      <td>5678.2273</td>\n",
       "      <td>9168.6957</td>\n",
       "      <td>16.0</td>\n",
       "      <td>48.4712</td>\n",
       "      <td>0.0000</td>\n",
       "      <td>0.001525</td>\n",
       "    </tr>\n",
       "  </tbody>\n",
       "</table>\n",
       "</div>"
      ],
      "text/plain": [
       "                               bidder_id  total_bids  total_auctions  \\\n",
       "0  49bb5a3c944b8fc337981cc7a9ccae41u31d7           4               3   \n",
       "1  a921612b85a1494456e74c09393ccb65ylp4y           3               2   \n",
       "2  6b601e72a4d264dab9ace9d7b229b47479v6i          17              14   \n",
       "3  eaf0ed0afc9689779417274b4791726cn5udi         148              90   \n",
       "4  cdecd8d02ed8c6037e38042c7745f688mx5sf          23              20   \n",
       "\n",
       "   bids_per_auction  mean_time_diff  mean_response  min_response  ip_entropy  \\\n",
       "0            1.3333     444750.0000        16.7500           0.0      1.7918   \n",
       "1            1.5000     722019.5000       371.3333           2.0      0.6931   \n",
       "2            1.2143        345.6250       186.3529           0.0     17.3592   \n",
       "3            1.6444       9890.5510      7762.0946           0.0    580.2510   \n",
       "4            1.1500       5678.2273      9168.6957          16.0     48.4712   \n",
       "\n",
       "   url_entropy  prediction  \n",
       "0       1.7918    0.000495  \n",
       "1       0.0000    0.002664  \n",
       "2       8.8929    0.197347  \n",
       "3     384.8401    0.004009  \n",
       "4       0.0000    0.001525  "
      ]
     },
     "execution_count": 305,
     "metadata": {},
     "output_type": "execute_result"
    }
   ],
   "source": [
    "b_test['prediction'] = submission_prediction\n",
    "b_test.head()"
   ]
  },
  {
   "cell_type": "code",
   "execution_count": 306,
   "metadata": {},
   "outputs": [
    {
     "data": {
      "text/html": [
       "<div>\n",
       "<style>\n",
       "    .dataframe thead tr:only-child th {\n",
       "        text-align: right;\n",
       "    }\n",
       "\n",
       "    .dataframe thead th {\n",
       "        text-align: left;\n",
       "    }\n",
       "\n",
       "    .dataframe tbody tr th {\n",
       "        vertical-align: top;\n",
       "    }\n",
       "</style>\n",
       "<table border=\"1\" class=\"dataframe\">\n",
       "  <thead>\n",
       "    <tr style=\"text-align: right;\">\n",
       "      <th></th>\n",
       "      <th>bidder_id</th>\n",
       "      <th>prediction</th>\n",
       "    </tr>\n",
       "  </thead>\n",
       "  <tbody>\n",
       "    <tr>\n",
       "      <th>0</th>\n",
       "      <td>49bb5a3c944b8fc337981cc7a9ccae41u31d7</td>\n",
       "      <td>0.002804</td>\n",
       "    </tr>\n",
       "    <tr>\n",
       "      <th>1</th>\n",
       "      <td>a921612b85a1494456e74c09393ccb65ylp4y</td>\n",
       "      <td>0.002804</td>\n",
       "    </tr>\n",
       "    <tr>\n",
       "      <th>2</th>\n",
       "      <td>6b601e72a4d264dab9ace9d7b229b47479v6i</td>\n",
       "      <td>0.085325</td>\n",
       "    </tr>\n",
       "    <tr>\n",
       "      <th>3</th>\n",
       "      <td>eaf0ed0afc9689779417274b4791726cn5udi</td>\n",
       "      <td>0.042377</td>\n",
       "    </tr>\n",
       "    <tr>\n",
       "      <th>4</th>\n",
       "      <td>cdecd8d02ed8c6037e38042c7745f688mx5sf</td>\n",
       "      <td>0.002536</td>\n",
       "    </tr>\n",
       "  </tbody>\n",
       "</table>\n",
       "</div>"
      ],
      "text/plain": [
       "                               bidder_id  prediction\n",
       "0  49bb5a3c944b8fc337981cc7a9ccae41u31d7    0.002804\n",
       "1  a921612b85a1494456e74c09393ccb65ylp4y    0.002804\n",
       "2  6b601e72a4d264dab9ace9d7b229b47479v6i    0.085325\n",
       "3  eaf0ed0afc9689779417274b4791726cn5udi    0.042377\n",
       "4  cdecd8d02ed8c6037e38042c7745f688mx5sf    0.002536"
      ]
     },
     "execution_count": 306,
     "metadata": {},
     "output_type": "execute_result"
    }
   ],
   "source": [
    "b_test_RF = pd.read_csv('data/SubmissionRF2_3.csv')\n",
    "b_test_RF.head()"
   ]
  },
  {
   "cell_type": "code",
   "execution_count": 307,
   "metadata": {},
   "outputs": [],
   "source": [
    "for bidder in b_test_RF.bidder_id:\n",
    "    if (bidder in list(b_test.bidder_id)):\n",
    "        #print(bidder)\n",
    "        #print(np.array(b_test[b_test.bidder_id==bidder].prediction)[0])\n",
    "        b_test_RF.loc[b_test_RF[b_test_RF.bidder_id == bidder].index,\n",
    "                      'prediction'] = np.array(b_test[b_test.bidder_id==bidder].prediction)[0]"
   ]
  },
  {
   "cell_type": "code",
   "execution_count": 308,
   "metadata": {},
   "outputs": [],
   "source": [
    "b_test_RF.to_csv('data/SubmissionRF4_6.csv', sep=',', header=True, index=False)"
   ]
  },
  {
   "cell_type": "markdown",
   "metadata": {},
   "source": [
    "# other"
   ]
  },
  {
   "cell_type": "code",
   "execution_count": 23,
   "metadata": {},
   "outputs": [],
   "source": [
    "from sklearn.svm import SVC\n",
    "from sklearn.ensemble import AdaBoostClassifier\n",
    "from sklearn.ensemble import GradientBoostingClassifier\n",
    "from sklearn.ensemble import ExtraTreesClassifier\n",
    "from sklearn.naive_bayes import GaussianNB\n",
    "from sklearn.linear_model import LogisticRegression, BayesianRidge\n",
    "from sklearn.cluster import MiniBatchKMeans"
   ]
  },
  {
   "cell_type": "code",
   "execution_count": 80,
   "metadata": {},
   "outputs": [
    {
     "name": "stdout",
     "output_type": "stream",
     "text": [
      "accuracy = 0.9240506329113924\n",
      "roc-auc = 0.5\n"
     ]
    }
   ],
   "source": [
    "from sklearn.linear_model import SGDClassifier\n",
    "\n",
    "SGD_classifier = SGDClassifier(loss='modified_huber', penalty='l2',\n",
    "                               alpha=0.001, max_iter=1000, tol=1e-3)\n",
    "SGD_classifier.fit(X_train, y_train)\n",
    "\n",
    "print('accuracy = {}'.format(SGD_classifier.score(X_test, y_test)))\n",
    "\n",
    "y_score = SGD_classifier.predict_proba(X_test)\n",
    "auc_score = roc_auc_score(y_test_transformed, y_score, average='weighted')\n",
    "print('roc-auc = {}'.format(auc_score))"
   ]
  },
  {
   "cell_type": "code",
   "execution_count": 106,
   "metadata": {},
   "outputs": [
    {
     "data": {
      "text/plain": [
       "(553, 2)"
      ]
     },
     "execution_count": 106,
     "metadata": {},
     "output_type": "execute_result"
    }
   ],
   "source": [
    "# array = X_test.dot(SGD_classifier.coef_[0])\n",
    "# y_score = (array - array.min()) / (array.max() - array.min())\n",
    "# y_score = y_score.reshape((y_score.size,1))\n",
    "# y_score = np.hstack((y_score, 1 - y_score))\n",
    "# auc_score = roc_auc_score(y_test_transformed, y_score, average='weighted')\n",
    "# print('roc-auc = {}'.format(auc_score))"
   ]
  },
  {
   "cell_type": "markdown",
   "metadata": {},
   "source": [
    "# XGBoost"
   ]
  },
  {
   "cell_type": "code",
   "execution_count": 206,
   "metadata": {},
   "outputs": [],
   "source": [
    "__author__ = 'Markiian'\n",
    "import xgboost as xgb"
   ]
  },
  {
   "cell_type": "code",
   "execution_count": 226,
   "metadata": {},
   "outputs": [
    {
     "name": "stdout",
     "output_type": "stream",
     "text": [
      "X.shape = (2013, 3)\n",
      "y.shape = (2013,)\n",
      "X_submission.shape = (4700, 3)\n"
     ]
    }
   ],
   "source": [
    "full_features = ['mean_time_diff', 'total_bids_count', 'total_auctions_count', 'mean_response', 'min_response']\n",
    "features = ['total_bids_count', 'total_auctions_count', 'mean_time_diff']\n",
    "target = ['outcome']\n",
    "\n",
    "X = np.array(b_train[features])\n",
    "y = np.array(b_train[target]).ravel()\n",
    "print('X.shape = {}\\ny.shape = {}'.format(X.shape, y.shape))\n",
    "\n",
    "X_submission = np.array(b_test[features])\n",
    "print('X_submission.shape = {}'.format(X_submission.shape))"
   ]
  },
  {
   "cell_type": "markdown",
   "metadata": {},
   "source": [
    "### Split data"
   ]
  },
  {
   "cell_type": "code",
   "execution_count": 242,
   "metadata": {},
   "outputs": [],
   "source": [
    "X_train, X_test, y_train, y_test = train_test_split(X, y, test_size=0.33, random_state=42)\n",
    "\n",
    "y_test_transformed = np.hstack((1 - y_test.reshape(y_test.size,1),\n",
    "                                y_test.reshape(y_test.size,1)))"
   ]
  },
  {
   "cell_type": "markdown",
   "metadata": {},
   "source": [
    "### Train model"
   ]
  },
  {
   "cell_type": "code",
   "execution_count": 230,
   "metadata": {},
   "outputs": [
    {
     "name": "stdout",
     "output_type": "stream",
     "text": [
      "[0]\teval-auc:0.871322\ttrain-auc:0.865817\n",
      "[1]\teval-auc:0.879813\ttrain-auc:0.886111\n",
      "[2]\teval-auc:0.89534\ttrain-auc:0.900631\n",
      "[3]\teval-auc:0.903016\ttrain-auc:0.92157\n",
      "[4]\teval-auc:0.910249\ttrain-auc:0.926373\n",
      "[5]\teval-auc:0.904028\ttrain-auc:0.93062\n",
      "[6]\teval-auc:0.904103\ttrain-auc:0.93368\n",
      "[7]\teval-auc:0.900301\ttrain-auc:0.940894\n",
      "[8]\teval-auc:0.900844\ttrain-auc:0.941451\n",
      "[9]\teval-auc:0.894402\ttrain-auc:0.945272\n"
     ]
    }
   ],
   "source": [
    "train_data = xgb.DMatrix(X_train, label=y_train)\n",
    "test_data = xgb.DMatrix(X_test, label=y_test)\n",
    "\n",
    "parameters = {'max_depth': 2, 'eta': 1, 'silent': 1, \n",
    "         'objective': 'binary:logistic',\n",
    "         'nthread': 4, 'eval_metric': 'auc'}\n",
    "\n",
    "evallist = [(test_data, 'eval'), (train_data, 'train')]\n",
    "\n",
    "num_round = 10\n",
    "bst = xgb.train(parameters, train_data, num_round, evallist)"
   ]
  },
  {
   "cell_type": "code",
   "execution_count": 244,
   "metadata": {},
   "outputs": [],
   "source": [
    "test_data = xgb.DMatrix(X_test)\n",
    "y_score = bst.predict(test_data)\n",
    "y_score = np.hstack((1 - y_score.reshape(y_score.size,1),\n",
    "                     y_score.reshape(y_score.size,1)))"
   ]
  },
  {
   "cell_type": "code",
   "execution_count": 246,
   "metadata": {},
   "outputs": [
    {
     "data": {
      "image/png": "[encoded data removed]",
      "text/plain": [
       "<matplotlib.figure.Figure at 0x11239e2b0>"
      ]
     },
     "metadata": {},
     "output_type": "display_data"
    }
   ],
   "source": [
    "fpr = dict()\n",
    "tpr = dict()\n",
    "roc_auc = dict()\n",
    "for i in range(2):\n",
    "    fpr[i], tpr[i], _ = roc_curve(y_test_transformed[:, i], y_score[:, i])\n",
    "    roc_auc[i] = auc(fpr[i], tpr[i])\n",
    "\n",
    "# Compute micro-average ROC curve and ROC area for 1\n",
    "plt.figure()\n",
    "lw = 2\n",
    "plt.plot(fpr[1], tpr[1], color='darkorange',\n",
    "         lw=lw, label='ROC curve (area = %0.2f)' % roc_auc[1])\n",
    "plt.plot([0, 1], [0, 1], color='navy', lw=lw, linestyle='--')\n",
    "plt.xlim([0.0, 1.0])\n",
    "plt.ylim([0.0, 1.05])\n",
    "plt.xlabel('False Positive Rate')\n",
    "plt.ylabel('True Positive Rate')\n",
    "plt.title('Receiver operating characteristic')\n",
    "plt.legend(loc=\"lower right\")\n",
    "plt.show()"
   ]
  },
  {
   "cell_type": "markdown",
   "metadata": {},
   "source": [
    "### Predict on test data to submission"
   ]
  },
  {
   "cell_type": "code",
   "execution_count": 229,
   "metadata": {},
   "outputs": [
    {
     "name": "stdout",
     "output_type": "stream",
     "text": [
      "[ 0.  0.  0. ...,  0.  0.  0.]\n",
      "[ 0.00057154  0.00057154  0.03677481 ...,  0.05381217  0.00057154\n",
      "  0.05600484]\n"
     ]
    }
   ],
   "source": [
    "submission_data = xgb.DMatrix(X_submission)\n",
    "submission_prediction = bst.predict(submission_data)\n",
    "print(np.round(submission_prediction))\n",
    "print(submission_prediction)"
   ]
  },
  {
   "cell_type": "markdown",
   "metadata": {},
   "source": [
    "### Save into submission file"
   ]
  },
  {
   "cell_type": "code",
   "execution_count": null,
   "metadata": {
    "scrolled": true
   },
   "outputs": [],
   "source": [
    "X_submission = np.array([b_test.mean_time_diff, b_test.total_bids_count,\n",
    "                         b_test.total_auctions_count]).T\n",
    "print('X_submission.shape = {}'.format(X_submission.shape))"
   ]
  },
  {
   "cell_type": "code",
   "execution_count": null,
   "metadata": {
    "scrolled": true
   },
   "outputs": [],
   "source": [
    "b_test['prediction'] = submission_prediction #np.round(submission_prediction)\n",
    "b_test.head()"
   ]
  },
  {
   "cell_type": "code",
   "execution_count": null,
   "metadata": {},
   "outputs": [],
   "source": [
    "b_test[['bidder_id','prediction']].to_csv('data/SubmissionXGBoost.csv', sep=',', header=True, index=False)"
   ]
  },
  {
   "cell_type": "code",
   "execution_count": null,
   "metadata": {},
   "outputs": [],
   "source": [
    "b_test[['bidder_id','prediction']].to_csv('data/SubmissionRF.csv', sep=',', header=True, index=False)"
   ]
  },
  {
   "cell_type": "code",
   "execution_count": null,
   "metadata": {},
   "outputs": [],
   "source": []
  }
 ],
 "metadata": {
  "kernelspec": {
   "display_name": "Python 3",
   "language": "python",
   "name": "python3"
  },
  "language_info": {
   "codemirror_mode": {
    "name": "ipython",
    "version": 3
   },
   "file_extension": ".py",
   "mimetype": "text/x-python",
   "name": "python",
   "nbconvert_exporter": "python",
   "pygments_lexer": "ipython3",
   "version": "3.6.1"
  }
 },
 "nbformat": 4,
 "nbformat_minor": 2
}
