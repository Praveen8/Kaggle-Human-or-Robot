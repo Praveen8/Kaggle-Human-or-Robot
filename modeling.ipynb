{
 "cells": [
  {
   "cell_type": "code",
   "execution_count": null,
   "metadata": {},
   "outputs": [],
   "source": [
    "import numpy as np\n",
    "import pandas as pd \n",
    "from matplotlib import pyplot as plt"
   ]
  },
  {
   "cell_type": "code",
   "execution_count": null,
   "metadata": {},
   "outputs": [],
   "source": [
    "from sklearn.model_selection import train_test_split, StratifiedShuffleSplit, cross_val_score\n",
    "from sklearn.metrics import roc_curve, auc, roc_auc_score, accuracy_score\n",
    "from sklearn.model_selection import GridSearchCV, RandomizedSearchCV"
   ]
  },
  {
   "cell_type": "markdown",
   "metadata": {},
   "source": [
    "# Import train & test data"
   ]
  },
  {
   "cell_type": "code",
   "execution_count": null,
   "metadata": {
    "scrolled": true
   },
   "outputs": [],
   "source": [
    "b_train = pd.read_csv('data/b_train.csv')\n",
    "print('b_train: OK: {}'.format(b_train.shape))\n",
    "#b_train.head()\n",
    "#b_train.describe()"
   ]
  },
  {
   "cell_type": "code",
   "execution_count": null,
   "metadata": {
    "scrolled": true
   },
   "outputs": [],
   "source": [
    "b_test = pd.read_csv('data/b_test.csv')\n",
    "print('b_test: OK: {}'.format(b_test.shape))\n",
    "#b_test.head()\n",
    "#b_test.describe()"
   ]
  },
  {
   "cell_type": "markdown",
   "metadata": {},
   "source": [
    "## Prepare & split data for visualisation"
   ]
  },
  {
   "cell_type": "code",
   "execution_count": null,
   "metadata": {},
   "outputs": [],
   "source": [
    "#b_train = b_train.dropna()\n",
    "#b_test = b_test.dropna()\n",
    "\n",
    "# Features in order of importance:'total_bids','bids_per_auction','mean_time_diff', 'total_auctions', 'ip_entropy', 'url_entropy', 'min_response', 'mean_response'\n",
    "\n",
    "all_features = ['total_bids','total_auctions','bids_per_auction',\n",
    "                'mean_time_diff', 'mean_response', 'min_response',\n",
    "                'ip_entropy', 'url_entropy']\n",
    "\n",
    "features = ['total_bids', 'total_auctions', 'bids_per_auction', 'mean_time_diff', 'ip_entropy', 'url_entropy']\n",
    "target = ['outcome']\n",
    "\n",
    "X = np.array(b_train[features])\n",
    "y = np.array(b_train[target]).ravel()\n",
    "print('X.shape = {}\\ny.shape = {}'.format(X.shape, y.shape))\n",
    "\n",
    "X_submission = np.array(b_test[features])\n",
    "print('X_submission.shape = {}'.format(X_submission.shape))"
   ]
  },
  {
   "cell_type": "code",
   "execution_count": null,
   "metadata": {},
   "outputs": [],
   "source": [
    "X_train, X_test, y_train, y_test = train_test_split(X, y, test_size=0.33, random_state=42)\n",
    "\n",
    "y_test_transformed = np.hstack((1 - y_test.reshape(y_test.size,1),\n",
    "                                y_test.reshape(y_test.size,1)))"
   ]
  },
  {
   "cell_type": "markdown",
   "metadata": {},
   "source": [
    "---\n",
    "# Random Forest"
   ]
  },
  {
   "cell_type": "code",
   "execution_count": null,
   "metadata": {},
   "outputs": [],
   "source": [
    "from sklearn.ensemble import RandomForestClassifier\n",
    "\n",
    "param = {\n",
    "         'bootstrap': True,\n",
    "         'class_weight': 'balanced'\n",
    "        }"
   ]
  },
  {
   "cell_type": "code",
   "execution_count": null,
   "metadata": {},
   "outputs": [],
   "source": [
    "'''\n",
    "auc_list = []\n",
    "for i in range(1,10):\n",
    "    RF_classifier = RandomForestClassifier(max_depth=i, random_state=0)\n",
    "    RF_classifier.fit(X_train, y_train)\n",
    "    auc_list.append(roc_auc_score(y_test_transformed, RF_classifier.predict_proba(X_test), average='weighted'))\n",
    "best_max_depth = np.array(auc_list).argmax() + 1\n",
    "print('best max_depth = {}'.format(best_max_depth)) # 2\n",
    "print('roc-auc for it = {}'.format(np.array(auc_list).max()))\n",
    "'''"
   ]
  },
  {
   "cell_type": "markdown",
   "metadata": {},
   "source": [
    "### Cross validation (just testing)"
   ]
  },
  {
   "cell_type": "code",
   "execution_count": null,
   "metadata": {},
   "outputs": [],
   "source": [
    "CV_SSS = StratifiedShuffleSplit(n_splits = 5, test_size = 0.33, random_state=None)\n",
    "#for train_indices, test_indices in CV_SSS.split(X, y):\n",
    "    #print(train_indices, test_indices)\n",
    "    \n",
    "RF_classifier = RandomForestClassifier(max_depth=3, random_state=None)\n",
    "RF_cross_val_scoring = cross_val_score(RF_classifier, X, y, scoring='roc_auc', cv=CV_SSS)\n",
    "print(RF_cross_val_scoring)\n",
    "print('mean: {:.4f}, max: {:.4f}, min: {:.4f}, std: {:.4f}'.format(RF_cross_val_scoring.mean(),\n",
    "                                                               RF_cross_val_scoring.max(), \n",
    "                                                               RF_cross_val_scoring.min(),\n",
    "                                                               RF_cross_val_scoring.std()))"
   ]
  },
  {
   "cell_type": "markdown",
   "metadata": {},
   "source": [
    "### Hyperparameters"
   ]
  },
  {
   "cell_type": "markdown",
   "metadata": {},
   "source": [
    "Choose the parameter max_depth"
   ]
  },
  {
   "cell_type": "code",
   "execution_count": null,
   "metadata": {
    "code_folding": [],
    "scrolled": false
   },
   "outputs": [],
   "source": [
    "global_depth = []\n",
    "for j in range(20):\n",
    "    CV_SSS = StratifiedShuffleSplit(n_splits = 6, test_size = 0.33, random_state=None)\n",
    "    auc_list = []\n",
    "    for i in range(2,8):\n",
    "        RF_classifier = RandomForestClassifier(max_depth=i, random_state=None)\n",
    "        RF_cross_val_scoring = cross_val_score(RF_classifier, X, y, scoring='roc_auc', cv=CV_SSS)\n",
    "        auc_list.append(RF_cross_val_scoring.mean())\n",
    "    best_max_depth = np.array(auc_list).argmax() + 1\n",
    "    #print('best max_depth = {}'.format(best_max_depth)) # 2\n",
    "    #print('roc-auc for it = {}'.format(np.array(auc_list).max()))\n",
    "    global_depth.append(best_max_depth)\n",
    "global_depth, pd.DataFrame(global_depth).hist()"
   ]
  },
  {
   "cell_type": "code",
   "execution_count": null,
   "metadata": {},
   "outputs": [],
   "source": [
    "best_max_depth = pd.DataFrame(global_depth).mode()[0][0]\n",
    "best_max_depth"
   ]
  },
  {
   "cell_type": "code",
   "execution_count": null,
   "metadata": {},
   "outputs": [],
   "source": [
    "'''\n",
    "CV_SSS = StratifiedShuffleSplit(n_splits = 5, test_size = 0.33, random_state=42)\n",
    "#for i in range(1,100):\n",
    "RF_classifier = RandomForestClassifier(max_depth=best_max_depth, random_state=0)\n",
    "RF_cross_val_scoring = cross_val_score(RF_classifier, X, y, scoring='roc_auc', cv=CV_SSS)\n",
    "print(RF_cross_val_scoring)\n",
    "print('mean: {:.4f}, max: {:.4f}, min: {:.4f}, std: {:.4f}'.format(RF_cross_val_scoring.mean(),\n",
    "                                                               RF_cross_val_scoring.max(), \n",
    "                                                               RF_cross_val_scoring.min(),\n",
    "                                                               RF_cross_val_scoring.std()))\n",
    "\n",
    "global_aucs = []\n",
    "for j in range(20):\n",
    "    CV_SSS = StratifiedShuffleSplit(n_splits = 6, test_size = 0.33, random_state=None)\n",
    "    auc_list = []\n",
    "    for i in range(20):\n",
    "        RF_classifier = RandomForestClassifier(max_depth=best_max_depth, random_state=i)\n",
    "        RF_cross_val_scoring = cross_val_score(RF_classifier, X, y, scoring='roc_auc', cv=CV_SSS)\n",
    "        auc_list.append(RF_cross_val_scoring.mean())\n",
    "    #best_max_depth = np.array(auc_list).argmax() + 1\n",
    "    global_aucs.append(auc_list)\n",
    "#global_depth, pd.DataFrame(global_depth).hist()\n",
    "\n",
    "best_random_state = np.array(global_aucs).mean(axis=0).argmax()\n",
    "best_random_state\n",
    "random_states = np.unravel_index(rs, np.array(global_aucs).shape)\n",
    "'''"
   ]
  },
  {
   "cell_type": "markdown",
   "metadata": {},
   "source": [
    "### Cross validation"
   ]
  },
  {
   "cell_type": "code",
   "execution_count": null,
   "metadata": {},
   "outputs": [],
   "source": [
    "CV_SSS = StratifiedShuffleSplit(n_splits = 5, test_size = 0.33, random_state=None)\n",
    "#for train_indices, test_indices in CV_SSS.split(X, y):\n",
    "    #print(train_indices, test_indices)\n",
    "    \n",
    "RF_classifier = RandomForestClassifier(max_depth=best_max_depth, random_state=None)\n",
    "RF_cross_val_scoring = cross_val_score(RF_classifier, X, y, scoring='roc_auc', cv=CV_SSS)\n",
    "print(RF_cross_val_scoring)\n",
    "print('mean: {:.4f}, max: {:.4f}, min: {:.4f}, std: {:.4f}'.format(RF_cross_val_scoring.mean(),\n",
    "                                                               RF_cross_val_scoring.max(), \n",
    "                                                               RF_cross_val_scoring.min(),\n",
    "                                                               RF_cross_val_scoring.std()))"
   ]
  },
  {
   "cell_type": "markdown",
   "metadata": {},
   "source": [
    "### ROC curve on test data (from train_test_split)"
   ]
  },
  {
   "cell_type": "code",
   "execution_count": null,
   "metadata": {},
   "outputs": [],
   "source": [
    "RF_classifier.fit(X_train, y_train)\n",
    "\n",
    "print(RF_classifier.feature_importances_)\n",
    "\n",
    "#y_pred = RF_classifier.predict(X_test)\n",
    "#acc_score = accuracy_score(y_test, y_pred)\n",
    "#print('accuracy = {}'.format(acc_score))\n",
    "\n",
    "y_score = RF_classifier.predict_proba(X_test)\n",
    "auc_score = roc_auc_score(y_test_transformed, y_score, average='weighted')\n",
    "print('roc-auc = {}'.format(auc_score))"
   ]
  },
  {
   "cell_type": "code",
   "execution_count": null,
   "metadata": {},
   "outputs": [],
   "source": [
    "fpr = dict()\n",
    "tpr = dict()\n",
    "roc_auc = dict()\n",
    "for i in range(2):\n",
    "    fpr[i], tpr[i], _ = roc_curve(y_test_transformed[:, i], y_score[:, i])\n",
    "    roc_auc[i] = auc(fpr[i], tpr[i])\n",
    "\n",
    "# Compute micro-average ROC curve and ROC area for 1\n",
    "plt.figure()\n",
    "lw = 2\n",
    "plt.plot(fpr[1], tpr[1], color='darkorange',\n",
    "         lw=lw, label='ROC curve (area = %0.2f)' % roc_auc[1])\n",
    "plt.plot([0, 1], [0, 1], color='navy', lw=lw, linestyle='--')\n",
    "plt.xlim([0.0, 1.0])\n",
    "plt.ylim([0.0, 1.05])\n",
    "plt.xlabel('False Positive Rate')\n",
    "plt.ylabel('True Positive Rate')\n",
    "plt.title('Receiver operating characteristic')\n",
    "plt.legend(loc=\"lower right\")\n",
    "plt.show()"
   ]
  },
  {
   "cell_type": "markdown",
   "metadata": {},
   "source": [
    "### Predict on test data (to submission) "
   ]
  },
  {
   "cell_type": "code",
   "execution_count": null,
   "metadata": {},
   "outputs": [],
   "source": [
    "RF_classifier.fit(X, y)\n",
    "submission_prediction = RF_classifier.predict_proba(X_submission)[:,1]\n",
    "print(submission_prediction)"
   ]
  },
  {
   "cell_type": "code",
   "execution_count": null,
   "metadata": {},
   "outputs": [],
   "source": [
    "b_test['prediction'] = submission_prediction\n",
    "b_test.head()"
   ]
  },
  {
   "cell_type": "code",
   "execution_count": null,
   "metadata": {},
   "outputs": [],
   "source": [
    "b_test_RF = pd.read_csv('data/SubmissionRF2_3.csv')\n",
    "b_test_RF.head()"
   ]
  },
  {
   "cell_type": "code",
   "execution_count": null,
   "metadata": {},
   "outputs": [],
   "source": [
    "for bidder in b_test_RF.bidder_id:\n",
    "    if (bidder in list(b_test.bidder_id)):\n",
    "        #print(bidder)\n",
    "        #print(np.array(b_test[b_test.bidder_id==bidder].prediction)[0])\n",
    "        b_test_RF.loc[b_test_RF[b_test_RF.bidder_id == bidder].index,\n",
    "                      'prediction'] = np.array(b_test[b_test.bidder_id==bidder].prediction)[0]"
   ]
  },
  {
   "cell_type": "code",
   "execution_count": null,
   "metadata": {},
   "outputs": [],
   "source": [
    "b_test_RF.to_csv('data/SubmissionRF3_6.csv', sep=',', header=True, index=False)"
   ]
  },
  {
   "cell_type": "markdown",
   "metadata": {},
   "source": [
    "---\n",
    "# XGBoost"
   ]
  },
  {
   "cell_type": "code",
   "execution_count": null,
   "metadata": {},
   "outputs": [],
   "source": [
    "import xgboost\n",
    "\n",
    "xgb_param = {\n",
    "             'max_depth': 20,\n",
    "             'learning_rate': 1,\n",
    "             'n_estimators': 100,\n",
    "#             'silent': True,\n",
    "#             'objective': 'binary:logistic',\n",
    "             'reg_alpha': 1,\n",
    "             'reg_lambda': 0\n",
    "            }"
   ]
  },
  {
   "cell_type": "markdown",
   "metadata": {},
   "source": [
    "### Hyperparameters: Grid Search"
   ]
  },
  {
   "cell_type": "code",
   "execution_count": null,
   "metadata": {},
   "outputs": [],
   "source": [
    "XGB_Classifier = xgboost.XGBClassifier()\n",
    "CV_SSS = StratifiedShuffleSplit(n_splits = 5, test_size = 0.33, random_state=None)\n",
    "\n",
    "xgb_param_grid = {\n",
    "                  'max_depth': np.arange(2,50,2),\n",
    "                  'learning_rate': np.arange(0.2,2,0.2),\n",
    "                  'n_estimators': np.arange(20,400,20),\n",
    "                  'reg_alpha': np.arange(0,2,0.2),\n",
    "                  'reg_lambda': np.arange(0,2,0.2)\n",
    "                 }"
   ]
  },
  {
   "cell_type": "code",
   "execution_count": 608,
   "metadata": {},
   "outputs": [],
   "source": [
    "# grid_XGB_CV = GridSearchCV(XGB_Classifier, xgb_param_grid, scoring = 'roc_auc', cv = CV_SSS)\n",
    "# grid_XGB_CV.fit(X,y)\n",
    "# print(grid_XGB_CV.best_score_)\n",
    "# print(grid_XGB_CV.best_params_)"
   ]
  },
  {
   "cell_type": "code",
   "execution_count": 609,
   "metadata": {},
   "outputs": [
    {
     "name": "stdout",
     "output_type": "stream",
     "text": [
      "0.913656965649\n",
      "{'reg_lambda': 1.6000000000000001, 'reg_alpha': 1.4000000000000001, 'n_estimators': 40, 'max_depth': 22, 'learning_rate': 0.20000000000000001}\n"
     ]
    }
   ],
   "source": [
    "random_grid_XGB_CV = RandomizedSearchCV(XGB_Classifier, xgb_param_grid, scoring = 'roc_auc', cv = CV_SSS,\n",
    "                                        n_iter = 40)\n",
    "random_grid_XGB_CV.fit(X,y)\n",
    "print(random_grid_XGB_CV.best_score_)\n",
    "print(random_grid_XGB_CV.best_params_)"
   ]
  },
  {
   "cell_type": "markdown",
   "metadata": {},
   "source": [
    "### Cross validation"
   ]
  },
  {
   "cell_type": "code",
   "execution_count": 610,
   "metadata": {},
   "outputs": [],
   "source": [
    "xgb_param = random_grid_XGB_CV.best_params_"
   ]
  },
  {
   "cell_type": "code",
   "execution_count": 611,
   "metadata": {},
   "outputs": [
    {
     "name": "stdout",
     "output_type": "stream",
     "text": [
      "[ 0.89366651  0.93198354  0.88910425  0.90818822  0.94018368]\n",
      "mean: 0.9126, max: 0.9402, min: 0.8891, std: 0.0203\n"
     ]
    }
   ],
   "source": [
    "CV_SSS = StratifiedShuffleSplit(n_splits = 5, test_size = 0.33, random_state=None)\n",
    "\n",
    "XGB_Classifier = xgboost.XGBClassifier(max_depth=xgb_param['max_depth'],\n",
    "                                       learning_rate=xgb_param['learning_rate'],\n",
    "                                       n_estimators=xgb_param['n_estimators'],\n",
    "#                                       silent=xgb_param['silent'],\n",
    "#                                       objective=xgb_param['objective'],\n",
    "                                       reg_alpha=xgb_param['reg_alpha'],\n",
    "                                       reg_lambda=xgb_param['reg_lambda'])\n",
    "\n",
    "XGB_cross_val_scoring = cross_val_score(XGB_Classifier, X, y, scoring='roc_auc', cv=CV_SSS)\n",
    "print(XGB_cross_val_scoring)\n",
    "print('mean: {:.4f}, max: {:.4f}, min: {:.4f}, std: {:.4f}'.format(XGB_cross_val_scoring.mean(),\n",
    "                                                               XGB_cross_val_scoring.max(), \n",
    "                                                               XGB_cross_val_scoring.min(),\n",
    "                                                               XGB_cross_val_scoring.std()))"
   ]
  },
  {
   "cell_type": "markdown",
   "metadata": {},
   "source": [
    "### ROC curve on test data (from train_test_split)"
   ]
  },
  {
   "cell_type": "code",
   "execution_count": 612,
   "metadata": {},
   "outputs": [
    {
     "name": "stdout",
     "output_type": "stream",
     "text": [
      "[ 0.11466942  0.13739669  0.19318181  0.19318181  0.13739669  0.22417356]\n",
      "roc-auc = 0.9856601731601732\n"
     ]
    }
   ],
   "source": [
    "XGB_Classifier = xgboost.XGBClassifier(max_depth=xgb_param['max_depth'],\n",
    "                                       learning_rate=xgb_param['learning_rate'],\n",
    "                                       n_estimators=xgb_param['n_estimators'],\n",
    "                                       reg_alpha=xgb_param['reg_alpha'],\n",
    "                                       reg_lambda=xgb_param['reg_lambda'])\n",
    "XGB_Classifier.fit(X,y)\n",
    "\n",
    "print(XGB_Classifier.feature_importances_)\n",
    "\n",
    "#y_pred = RF_classifier.predict(X_test)\n",
    "#acc_score = accuracy_score(y_test, y_pred)\n",
    "#print('accuracy = {}'.format(acc_score))\n",
    "\n",
    "y_score = XGB_Classifier.predict_proba(X_test)\n",
    "auc_score = roc_auc_score(y_test_transformed, y_score, average='weighted')\n",
    "print('roc-auc = {}'.format(auc_score))"
   ]
  },
  {
   "cell_type": "code",
   "execution_count": 613,
   "metadata": {
    "scrolled": true
   },
   "outputs": [
    {
     "data": {
      "image/png": "[encoded data removed]",
      "text/plain": [
       "<matplotlib.figure.Figure at 0x1a22b9aba8>"
      ]
     },
     "metadata": {},
     "output_type": "display_data"
    }
   ],
   "source": [
    "fpr = dict()\n",
    "tpr = dict()\n",
    "roc_auc = dict()\n",
    "for i in range(2):\n",
    "    fpr[i], tpr[i], _ = roc_curve(y_test_transformed[:, i], y_score[:, i])\n",
    "    roc_auc[i] = auc(fpr[i], tpr[i])\n",
    "\n",
    "# Compute micro-average ROC curve and ROC area for 1\n",
    "plt.figure()\n",
    "lw = 2\n",
    "\n",
    "plt.plot(fpr[1], tpr[1], color='darkorange',\n",
    "         lw=lw, label='ROC curve (area = %0.2f)' % roc_auc[1])\n",
    "plt.plot([0, 1], [0, 1], color='navy', lw=lw, linestyle='--')\n",
    "plt.xlim([0.0, 1.0])\n",
    "plt.ylim([0.0, 1.05])\n",
    "plt.xlabel('False Positive Rate')\n",
    "plt.ylabel('True Positive Rate')\n",
    "plt.title('Receiver operating characteristic')\n",
    "plt.legend(loc=\"lower right\")\n",
    "plt.show()"
   ]
  },
  {
   "cell_type": "markdown",
   "metadata": {},
   "source": [
    "### Predict on test data (to submission) "
   ]
  },
  {
   "cell_type": "code",
   "execution_count": 614,
   "metadata": {},
   "outputs": [
    {
     "name": "stdout",
     "output_type": "stream",
     "text": [
      "[ 0.00250417  0.00342473  0.00902654 ...,  0.11084274  0.00250417\n",
      "  0.02718822]\n"
     ]
    }
   ],
   "source": [
    "XGB_Classifier.fit(X, y)\n",
    "submission_prediction = XGB_Classifier.predict_proba(X_submission)[:,1]\n",
    "print(submission_prediction)"
   ]
  },
  {
   "cell_type": "code",
   "execution_count": 616,
   "metadata": {
    "scrolled": true
   },
   "outputs": [
    {
     "data": {
      "text/html": [
       "<div>\n",
       "<style>\n",
       "    .dataframe thead tr:only-child th {\n",
       "        text-align: right;\n",
       "    }\n",
       "\n",
       "    .dataframe thead th {\n",
       "        text-align: left;\n",
       "    }\n",
       "\n",
       "    .dataframe tbody tr th {\n",
       "        vertical-align: top;\n",
       "    }\n",
       "</style>\n",
       "<table border=\"1\" class=\"dataframe\">\n",
       "  <thead>\n",
       "    <tr style=\"text-align: right;\">\n",
       "      <th></th>\n",
       "      <th>bidder_id</th>\n",
       "      <th>total_bids</th>\n",
       "      <th>total_auctions</th>\n",
       "      <th>bids_per_auction</th>\n",
       "      <th>mean_time_diff</th>\n",
       "      <th>mean_response</th>\n",
       "      <th>min_response</th>\n",
       "      <th>ip_entropy</th>\n",
       "      <th>url_entropy</th>\n",
       "      <th>prediction</th>\n",
       "    </tr>\n",
       "  </thead>\n",
       "  <tbody>\n",
       "    <tr>\n",
       "      <th>0</th>\n",
       "      <td>49bb5a3c944b8fc337981cc7a9ccae41u31d7</td>\n",
       "      <td>4</td>\n",
       "      <td>3</td>\n",
       "      <td>1.3333</td>\n",
       "      <td>444750.0000</td>\n",
       "      <td>16.7500</td>\n",
       "      <td>0.0</td>\n",
       "      <td>1.7918</td>\n",
       "      <td>1.7918</td>\n",
       "      <td>0.002504</td>\n",
       "    </tr>\n",
       "    <tr>\n",
       "      <th>1</th>\n",
       "      <td>a921612b85a1494456e74c09393ccb65ylp4y</td>\n",
       "      <td>3</td>\n",
       "      <td>2</td>\n",
       "      <td>1.5000</td>\n",
       "      <td>722019.5000</td>\n",
       "      <td>371.3333</td>\n",
       "      <td>2.0</td>\n",
       "      <td>0.6931</td>\n",
       "      <td>0.0000</td>\n",
       "      <td>0.003425</td>\n",
       "    </tr>\n",
       "    <tr>\n",
       "      <th>2</th>\n",
       "      <td>6b601e72a4d264dab9ace9d7b229b47479v6i</td>\n",
       "      <td>17</td>\n",
       "      <td>14</td>\n",
       "      <td>1.2143</td>\n",
       "      <td>345.6250</td>\n",
       "      <td>186.3529</td>\n",
       "      <td>0.0</td>\n",
       "      <td>17.3592</td>\n",
       "      <td>8.8929</td>\n",
       "      <td>0.009027</td>\n",
       "    </tr>\n",
       "    <tr>\n",
       "      <th>3</th>\n",
       "      <td>eaf0ed0afc9689779417274b4791726cn5udi</td>\n",
       "      <td>148</td>\n",
       "      <td>90</td>\n",
       "      <td>1.6444</td>\n",
       "      <td>9890.5510</td>\n",
       "      <td>7762.0946</td>\n",
       "      <td>0.0</td>\n",
       "      <td>580.2510</td>\n",
       "      <td>384.8401</td>\n",
       "      <td>0.007464</td>\n",
       "    </tr>\n",
       "    <tr>\n",
       "      <th>4</th>\n",
       "      <td>cdecd8d02ed8c6037e38042c7745f688mx5sf</td>\n",
       "      <td>23</td>\n",
       "      <td>20</td>\n",
       "      <td>1.1500</td>\n",
       "      <td>5678.2273</td>\n",
       "      <td>9168.6957</td>\n",
       "      <td>16.0</td>\n",
       "      <td>48.4712</td>\n",
       "      <td>0.0000</td>\n",
       "      <td>0.002413</td>\n",
       "    </tr>\n",
       "  </tbody>\n",
       "</table>\n",
       "</div>"
      ],
      "text/plain": [
       "                               bidder_id  total_bids  total_auctions  \\\n",
       "0  49bb5a3c944b8fc337981cc7a9ccae41u31d7           4               3   \n",
       "1  a921612b85a1494456e74c09393ccb65ylp4y           3               2   \n",
       "2  6b601e72a4d264dab9ace9d7b229b47479v6i          17              14   \n",
       "3  eaf0ed0afc9689779417274b4791726cn5udi         148              90   \n",
       "4  cdecd8d02ed8c6037e38042c7745f688mx5sf          23              20   \n",
       "\n",
       "   bids_per_auction  mean_time_diff  mean_response  min_response  ip_entropy  \\\n",
       "0            1.3333     444750.0000        16.7500           0.0      1.7918   \n",
       "1            1.5000     722019.5000       371.3333           2.0      0.6931   \n",
       "2            1.2143        345.6250       186.3529           0.0     17.3592   \n",
       "3            1.6444       9890.5510      7762.0946           0.0    580.2510   \n",
       "4            1.1500       5678.2273      9168.6957          16.0     48.4712   \n",
       "\n",
       "   url_entropy  prediction  \n",
       "0       1.7918    0.002504  \n",
       "1       0.0000    0.003425  \n",
       "2       8.8929    0.009027  \n",
       "3     384.8401    0.007464  \n",
       "4       0.0000    0.002413  "
      ]
     },
     "execution_count": 616,
     "metadata": {},
     "output_type": "execute_result"
    }
   ],
   "source": [
    "b_test['prediction'] = submission_prediction\n",
    "b_test.head()"
   ]
  },
  {
   "cell_type": "code",
   "execution_count": 617,
   "metadata": {},
   "outputs": [],
   "source": [
    "b_test[['bidder_id','prediction']].to_csv('data/SubmissionXGBoostGrid_6.csv', sep=',', header=True, index=False)"
   ]
  },
  {
   "cell_type": "markdown",
   "metadata": {},
   "source": [
    "### Another variant  (2)"
   ]
  },
  {
   "cell_type": "code",
   "execution_count": null,
   "metadata": {},
   "outputs": [],
   "source": [
    "__author__ = 'Markiian'\n",
    "train_data = xgb.DMatrix(X_train, label=y_train)\n",
    "test_data = xgb.DMatrix(X_test, label=y_test)\n",
    "\n",
    "param = {\n",
    "         'max_depth': 20,\n",
    "         'eta': 1,\n",
    "         'silent': 1, \n",
    "         'objective': 'binary:logistic',\n",
    "         'nthread': 4,\n",
    "         'eval_metric': 'auc'\n",
    "        }\n",
    "\n",
    "evallist = [(test_data, 'eval'), (train_data, 'train')]\n",
    "\n",
    "num_round = 10\n",
    "bst = xgb.train(param, train_data, num_round, evallist)"
   ]
  },
  {
   "cell_type": "markdown",
   "metadata": {},
   "source": [
    "draw ROC curve"
   ]
  },
  {
   "cell_type": "code",
   "execution_count": null,
   "metadata": {},
   "outputs": [],
   "source": [
    "test_data = xgb.DMatrix(X_test)\n",
    "y_score = bst.predict(test_data)\n",
    "y_score = np.hstack((1 - y_score.reshape(y_score.size,1),\n",
    "                     y_score.reshape(y_score.size,1)))\n",
    "\n",
    "fpr = {}\n",
    "tpr = {}\n",
    "roc_auc = {}\n",
    "for i in range(2):\n",
    "    fpr[i], tpr[i], _ = roc_curve(y_test_transformed[:, i], y_score[:, i])\n",
    "    roc_auc[i] = auc(fpr[i], tpr[i])\n",
    "\n",
    "plt.figure()\n",
    "lw = 2\n",
    "plt.plot(fpr[1], tpr[1], color='darkorange',\n",
    "         lw=lw, label='ROC curve (area = %0.2f)' % roc_auc[1])\n",
    "plt.plot([0, 1], [0, 1], color='navy', lw=lw, linestyle='--')\n",
    "plt.xlim([0.0, 1.0])\n",
    "plt.ylim([0.0, 1.05])\n",
    "plt.xlabel('False Positive Rate')\n",
    "plt.ylabel('True Positive Rate')\n",
    "plt.title('Receiver operating characteristic')\n",
    "plt.legend(loc=\"lower right\")\n",
    "plt.show()"
   ]
  },
  {
   "cell_type": "markdown",
   "metadata": {},
   "source": [
    "### Predict on test data to submission"
   ]
  },
  {
   "cell_type": "code",
   "execution_count": null,
   "metadata": {
    "scrolled": true
   },
   "outputs": [],
   "source": [
    "b_test['prediction'] = submission_prediction #np.round(submission_prediction)\n",
    "b_test.head()"
   ]
  },
  {
   "cell_type": "code",
   "execution_count": null,
   "metadata": {},
   "outputs": [],
   "source": [
    "b_test[['bidder_id','prediction']].to_csv('data/SubmissionXGBoost_6.csv', sep=',', header=True, index=False)"
   ]
  },
  {
   "cell_type": "code",
   "execution_count": null,
   "metadata": {},
   "outputs": [],
   "source": []
  },
  {
   "cell_type": "markdown",
   "metadata": {},
   "source": [
    "# other"
   ]
  },
  {
   "cell_type": "code",
   "execution_count": null,
   "metadata": {},
   "outputs": [],
   "source": [
    "from sklearn.svm import SVC\n",
    "from sklearn.ensemble import AdaBoostClassifier\n",
    "from sklearn.ensemble import GradientBoostingClassifier\n",
    "from sklearn.ensemble import ExtraTreesClassifier\n",
    "from sklearn.naive_bayes import GaussianNB\n",
    "from sklearn.linear_model import LogisticRegression, BayesianRidge\n",
    "from sklearn.cluster import MiniBatchKMeans"
   ]
  },
  {
   "cell_type": "code",
   "execution_count": null,
   "metadata": {},
   "outputs": [],
   "source": [
    "from sklearn.linear_model import SGDClassifier\n",
    "\n",
    "SGD_classifier = SGDClassifier(loss='modified_huber', penalty='l2',\n",
    "                               alpha=0.001, max_iter=1000, tol=1e-3)\n",
    "SGD_classifier.fit(X_train, y_train)\n",
    "\n",
    "print('accuracy = {}'.format(SGD_classifier.score(X_test, y_test)))\n",
    "\n",
    "y_score = SGD_classifier.predict_proba(X_test)\n",
    "auc_score = roc_auc_score(y_test_transformed, y_score, average='weighted')\n",
    "print('roc-auc = {}'.format(auc_score))"
   ]
  },
  {
   "cell_type": "code",
   "execution_count": null,
   "metadata": {},
   "outputs": [],
   "source": [
    "# array = X_test.dot(SGD_classifier.coef_[0])\n",
    "# y_score = (array - array.min()) / (array.max() - array.min())\n",
    "# y_score = y_score.reshape((y_score.size,1))\n",
    "# y_score = np.hstack((y_score, 1 - y_score))\n",
    "# auc_score = roc_auc_score(y_test_transformed, y_score, average='weighted')\n",
    "# print('roc-auc = {}'.format(auc_score))"
   ]
  }
 ],
 "metadata": {
  "kernelspec": {
   "display_name": "Python 3",
   "language": "python",
   "name": "python3"
  },
  "language_info": {
   "codemirror_mode": {
    "name": "ipython",
    "version": 3
   },
   "file_extension": ".py",
   "mimetype": "text/x-python",
   "name": "python",
   "nbconvert_exporter": "python",
   "pygments_lexer": "ipython3",
   "version": "3.6.1"
  }
 },
 "nbformat": 4,
 "nbformat_minor": 2
}
