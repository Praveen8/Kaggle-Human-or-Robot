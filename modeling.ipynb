{
 "cells": [
  {
   "cell_type": "code",
   "execution_count": 201,
   "metadata": {},
   "outputs": [],
   "source": [
    "import numpy as np\n",
    "import pandas as pd \n",
    "from matplotlib import pyplot as plt"
   ]
  },
  {
   "cell_type": "code",
   "execution_count": 202,
   "metadata": {},
   "outputs": [],
   "source": [
    "from sklearn import preprocessing\n",
    "from sklearn.model_selection import train_test_split, cross_val_score\n",
    "from sklearn.metrics import roc_curve, auc, roc_auc_score, accuracy_score, make_scorer"
   ]
  },
  {
   "cell_type": "markdown",
   "metadata": {},
   "source": [
    "# Import train & test data"
   ]
  },
  {
   "cell_type": "code",
   "execution_count": 203,
   "metadata": {
    "scrolled": true
   },
   "outputs": [
    {
     "data": {
      "text/html": [
       "<div>\n",
       "<style>\n",
       "    .dataframe thead tr:only-child th {\n",
       "        text-align: right;\n",
       "    }\n",
       "\n",
       "    .dataframe thead th {\n",
       "        text-align: left;\n",
       "    }\n",
       "\n",
       "    .dataframe tbody tr th {\n",
       "        vertical-align: top;\n",
       "    }\n",
       "</style>\n",
       "<table border=\"1\" class=\"dataframe\">\n",
       "  <thead>\n",
       "    <tr style=\"text-align: right;\">\n",
       "      <th></th>\n",
       "      <th>outcome</th>\n",
       "      <th>mean_time_diff</th>\n",
       "      <th>total_bids_count</th>\n",
       "      <th>total_auctions_count</th>\n",
       "      <th>mean_response</th>\n",
       "      <th>min_response</th>\n",
       "    </tr>\n",
       "  </thead>\n",
       "  <tbody>\n",
       "    <tr>\n",
       "      <th>count</th>\n",
       "      <td>2013.000000</td>\n",
       "      <td>1.682000e+03</td>\n",
       "      <td>2013.000000</td>\n",
       "      <td>2013.000000</td>\n",
       "      <td>1983.000000</td>\n",
       "      <td>1983.000000</td>\n",
       "    </tr>\n",
       "    <tr>\n",
       "      <th>mean</th>\n",
       "      <td>0.051167</td>\n",
       "      <td>6.080752e+04</td>\n",
       "      <td>1525.694983</td>\n",
       "      <td>61.684054</td>\n",
       "      <td>1417.833629</td>\n",
       "      <td>29.442259</td>\n",
       "    </tr>\n",
       "    <tr>\n",
       "      <th>std</th>\n",
       "      <td>0.220394</td>\n",
       "      <td>1.551962e+05</td>\n",
       "      <td>14596.346369</td>\n",
       "      <td>146.431311</td>\n",
       "      <td>10203.707395</td>\n",
       "      <td>202.225500</td>\n",
       "    </tr>\n",
       "    <tr>\n",
       "      <th>min</th>\n",
       "      <td>0.000000</td>\n",
       "      <td>1.350000e+00</td>\n",
       "      <td>0.000000</td>\n",
       "      <td>0.000000</td>\n",
       "      <td>0.000000</td>\n",
       "      <td>0.000000</td>\n",
       "    </tr>\n",
       "    <tr>\n",
       "      <th>25%</th>\n",
       "      <td>0.000000</td>\n",
       "      <td>1.211277e+03</td>\n",
       "      <td>3.000000</td>\n",
       "      <td>2.000000</td>\n",
       "      <td>33.000000</td>\n",
       "      <td>0.000000</td>\n",
       "    </tr>\n",
       "    <tr>\n",
       "      <th>50%</th>\n",
       "      <td>0.000000</td>\n",
       "      <td>1.106926e+04</td>\n",
       "      <td>17.000000</td>\n",
       "      <td>10.000000</td>\n",
       "      <td>142.000000</td>\n",
       "      <td>0.000000</td>\n",
       "    </tr>\n",
       "    <tr>\n",
       "      <th>75%</th>\n",
       "      <td>0.000000</td>\n",
       "      <td>4.829749e+04</td>\n",
       "      <td>200.000000</td>\n",
       "      <td>45.000000</td>\n",
       "      <td>493.795200</td>\n",
       "      <td>4.000000</td>\n",
       "    </tr>\n",
       "    <tr>\n",
       "      <th>max</th>\n",
       "      <td>1.000000</td>\n",
       "      <td>1.445956e+06</td>\n",
       "      <td>515033.000000</td>\n",
       "      <td>1623.000000</td>\n",
       "      <td>318302.500000</td>\n",
       "      <td>4242.000000</td>\n",
       "    </tr>\n",
       "  </tbody>\n",
       "</table>\n",
       "</div>"
      ],
      "text/plain": [
       "           outcome  mean_time_diff  total_bids_count  total_auctions_count  \\\n",
       "count  2013.000000    1.682000e+03       2013.000000           2013.000000   \n",
       "mean      0.051167    6.080752e+04       1525.694983             61.684054   \n",
       "std       0.220394    1.551962e+05      14596.346369            146.431311   \n",
       "min       0.000000    1.350000e+00          0.000000              0.000000   \n",
       "25%       0.000000    1.211277e+03          3.000000              2.000000   \n",
       "50%       0.000000    1.106926e+04         17.000000             10.000000   \n",
       "75%       0.000000    4.829749e+04        200.000000             45.000000   \n",
       "max       1.000000    1.445956e+06     515033.000000           1623.000000   \n",
       "\n",
       "       mean_response  min_response  \n",
       "count    1983.000000   1983.000000  \n",
       "mean     1417.833629     29.442259  \n",
       "std     10203.707395    202.225500  \n",
       "min         0.000000      0.000000  \n",
       "25%        33.000000      0.000000  \n",
       "50%       142.000000      0.000000  \n",
       "75%       493.795200      4.000000  \n",
       "max    318302.500000   4242.000000  "
      ]
     },
     "execution_count": 203,
     "metadata": {},
     "output_type": "execute_result"
    }
   ],
   "source": [
    "b_train = pd.read_csv('data/b_train.csv')\n",
    "b_train.describe()"
   ]
  },
  {
   "cell_type": "code",
   "execution_count": 204,
   "metadata": {
    "scrolled": true
   },
   "outputs": [
    {
     "data": {
      "text/html": [
       "<div>\n",
       "<style>\n",
       "    .dataframe thead tr:only-child th {\n",
       "        text-align: right;\n",
       "    }\n",
       "\n",
       "    .dataframe thead th {\n",
       "        text-align: left;\n",
       "    }\n",
       "\n",
       "    .dataframe tbody tr th {\n",
       "        vertical-align: top;\n",
       "    }\n",
       "</style>\n",
       "<table border=\"1\" class=\"dataframe\">\n",
       "  <thead>\n",
       "    <tr style=\"text-align: right;\">\n",
       "      <th></th>\n",
       "      <th>mean_time_diff</th>\n",
       "      <th>total_bids_count</th>\n",
       "      <th>total_auctions_count</th>\n",
       "      <th>mean_response</th>\n",
       "      <th>min_response</th>\n",
       "    </tr>\n",
       "  </thead>\n",
       "  <tbody>\n",
       "    <tr>\n",
       "      <th>count</th>\n",
       "      <td>3.875000e+03</td>\n",
       "      <td>4700.000000</td>\n",
       "      <td>4700.000000</td>\n",
       "      <td>4.627000e+03</td>\n",
       "      <td>4.627000e+03</td>\n",
       "    </tr>\n",
       "    <tr>\n",
       "      <th>mean</th>\n",
       "      <td>6.865193e+04</td>\n",
       "      <td>975.555319</td>\n",
       "      <td>54.930000</td>\n",
       "      <td>1.811766e+03</td>\n",
       "      <td>5.384668e+02</td>\n",
       "    </tr>\n",
       "    <tr>\n",
       "      <th>std</th>\n",
       "      <td>1.832103e+05</td>\n",
       "      <td>6182.458895</td>\n",
       "      <td>123.740628</td>\n",
       "      <td>2.404411e+04</td>\n",
       "      <td>2.124275e+04</td>\n",
       "    </tr>\n",
       "    <tr>\n",
       "      <th>min</th>\n",
       "      <td>0.000000e+00</td>\n",
       "      <td>0.000000</td>\n",
       "      <td>0.000000</td>\n",
       "      <td>0.000000e+00</td>\n",
       "      <td>0.000000e+00</td>\n",
       "    </tr>\n",
       "    <tr>\n",
       "      <th>25%</th>\n",
       "      <td>1.290090e+03</td>\n",
       "      <td>2.000000</td>\n",
       "      <td>2.000000</td>\n",
       "      <td>3.300000e+01</td>\n",
       "      <td>0.000000e+00</td>\n",
       "    </tr>\n",
       "    <tr>\n",
       "      <th>50%</th>\n",
       "      <td>9.564203e+03</td>\n",
       "      <td>17.000000</td>\n",
       "      <td>9.000000</td>\n",
       "      <td>1.512974e+02</td>\n",
       "      <td>0.000000e+00</td>\n",
       "    </tr>\n",
       "    <tr>\n",
       "      <th>75%</th>\n",
       "      <td>4.518996e+04</td>\n",
       "      <td>171.250000</td>\n",
       "      <td>46.000000</td>\n",
       "      <td>5.663539e+02</td>\n",
       "      <td>4.000000e+00</td>\n",
       "    </tr>\n",
       "    <tr>\n",
       "      <th>max</th>\n",
       "      <td>1.439525e+06</td>\n",
       "      <td>168995.000000</td>\n",
       "      <td>1726.000000</td>\n",
       "      <td>1.084161e+06</td>\n",
       "      <td>1.084161e+06</td>\n",
       "    </tr>\n",
       "  </tbody>\n",
       "</table>\n",
       "</div>"
      ],
      "text/plain": [
       "       mean_time_diff  total_bids_count  total_auctions_count  mean_response  \\\n",
       "count    3.875000e+03       4700.000000           4700.000000   4.627000e+03   \n",
       "mean     6.865193e+04        975.555319             54.930000   1.811766e+03   \n",
       "std      1.832103e+05       6182.458895            123.740628   2.404411e+04   \n",
       "min      0.000000e+00          0.000000              0.000000   0.000000e+00   \n",
       "25%      1.290090e+03          2.000000              2.000000   3.300000e+01   \n",
       "50%      9.564203e+03         17.000000              9.000000   1.512974e+02   \n",
       "75%      4.518996e+04        171.250000             46.000000   5.663539e+02   \n",
       "max      1.439525e+06     168995.000000           1726.000000   1.084161e+06   \n",
       "\n",
       "       min_response  \n",
       "count  4.627000e+03  \n",
       "mean   5.384668e+02  \n",
       "std    2.124275e+04  \n",
       "min    0.000000e+00  \n",
       "25%    0.000000e+00  \n",
       "50%    0.000000e+00  \n",
       "75%    4.000000e+00  \n",
       "max    1.084161e+06  "
      ]
     },
     "execution_count": 204,
     "metadata": {},
     "output_type": "execute_result"
    }
   ],
   "source": [
    "b_test = pd.read_csv('data/b_test.csv')\n",
    "b_test.describe()"
   ]
  },
  {
   "cell_type": "markdown",
   "metadata": {},
   "source": [
    "# RandomForest model"
   ]
  },
  {
   "cell_type": "code",
   "execution_count": 149,
   "metadata": {},
   "outputs": [],
   "source": [
    "from sklearn.ensemble import RandomForestClassifier"
   ]
  },
  {
   "cell_type": "code",
   "execution_count": 179,
   "metadata": {},
   "outputs": [
    {
     "name": "stdout",
     "output_type": "stream",
     "text": [
      "X.shape = (1682, 4)\n",
      "y.shape = (1682,)\n",
      "X_submission.shape = (3875, 4)\n"
     ]
    }
   ],
   "source": [
    "b_train = b_train.dropna()\n",
    "b_test = b_test.dropna()\n",
    "\n",
    "full_features = ['mean_time_diff', 'total_bids_count', 'total_auctions_count', 'mean_response', 'min_response']\n",
    "features = ['mean_time_diff', 'total_bids_count', 'total_auctions_count', 'mean_response']\n",
    "target = ['outcome']\n",
    "\n",
    "X = np.array(b_train[features])\n",
    "y = np.array(b_train[target]).ravel()\n",
    "print('X.shape = {}\\ny.shape = {}'.format(X.shape, y.shape))\n",
    "\n",
    "X_submission = np.array(b_test[features])\n",
    "print('X_submission.shape = {}'.format(X_submission.shape))"
   ]
  },
  {
   "cell_type": "markdown",
   "metadata": {},
   "source": [
    "### Split data"
   ]
  },
  {
   "cell_type": "code",
   "execution_count": 180,
   "metadata": {},
   "outputs": [],
   "source": [
    "X_train, X_test, y_train, y_test = train_test_split(X, y, test_size=0.33, random_state=42)\n",
    "\n",
    "y_test_transformed = np.hstack((1 - y_test.reshape(y_test.size,1),\n",
    "                                y_test.reshape(y_test.size,1)))"
   ]
  },
  {
   "cell_type": "markdown",
   "metadata": {},
   "source": [
    "### Train model"
   ]
  },
  {
   "cell_type": "markdown",
   "metadata": {},
   "source": [
    "Choose the parameter max_depth"
   ]
  },
  {
   "cell_type": "code",
   "execution_count": 181,
   "metadata": {},
   "outputs": [
    {
     "name": "stdout",
     "output_type": "stream",
     "text": [
      "best max_depth = 8\n",
      "roc-auc for it = 0.8762851731601732\n"
     ]
    }
   ],
   "source": [
    "auc_list = []\n",
    "for i in range(1,100):\n",
    "    RF_classifier = RandomForestClassifier(max_depth=i, random_state=0)\n",
    "    RF_classifier.fit(X_train, y_train)\n",
    "    auc_list.append(roc_auc_score(y_test_transformed, RF_classifier.predict_proba(X_test), average='weighted'))\n",
    "best_max_depth = np.array(auc_list).argmax() + 1\n",
    "print('best max_depth = {}'.format(best_max_depth)) # 2\n",
    "print('roc-auc for it = {}'.format(np.array(auc_list).max()))"
   ]
  },
  {
   "cell_type": "markdown",
   "metadata": {},
   "source": [
    "Fit model"
   ]
  },
  {
   "cell_type": "code",
   "execution_count": 188,
   "metadata": {},
   "outputs": [
    {
     "name": "stdout",
     "output_type": "stream",
     "text": [
      "[ 0.5657629   0.28393688  0.09796028  0.05233994]\n",
      "accuracy = 0.9496402877697842\n",
      "roc-auc = 0.8747294372294372\n"
     ]
    }
   ],
   "source": [
    "RF_classifier = RandomForestClassifier(max_depth=best_max_depth, random_state=0)\n",
    "RF_classifier.fit(X_train, y_train)\n",
    "\n",
    "print(RF_classifier.feature_importances_)\n",
    "\n",
    "y_pred = RF_classifier.predict(X_test)\n",
    "acc_score = accuracy_score(y_test, y_pred)\n",
    "print('accuracy = {}'.format(acc_score))\n",
    "\n",
    "\n",
    "y_score = RF_classifier.predict_proba(X_test)\n",
    "auc_score = roc_auc_score(y_test_transformed, y_score, average='weighted')\n",
    "print('roc-auc = {}'.format(auc_score))"
   ]
  },
  {
   "cell_type": "markdown",
   "metadata": {},
   "source": [
    "draw ROC curve"
   ]
  },
  {
   "cell_type": "code",
   "execution_count": 189,
   "metadata": {},
   "outputs": [
    {
     "data": {
      "image/png": "[encoded data removed]",
      "text/plain": [
       "<matplotlib.figure.Figure at 0x10fb17da0>"
      ]
     },
     "metadata": {},
     "output_type": "display_data"
    }
   ],
   "source": [
    "fpr = dict()\n",
    "tpr = dict()\n",
    "roc_auc = dict()\n",
    "for i in range(2):\n",
    "    fpr[i], tpr[i], _ = roc_curve(y_test_transformed[:, i], y_score[:, i])\n",
    "    roc_auc[i] = auc(fpr[i], tpr[i])\n",
    "\n",
    "# Compute micro-average ROC curve and ROC area for 1\n",
    "plt.figure()\n",
    "lw = 2\n",
    "plt.plot(fpr[1], tpr[1], color='darkorange',\n",
    "         lw=lw, label='ROC curve (area = %0.2f)' % roc_auc[1])\n",
    "plt.plot([0, 1], [0, 1], color='navy', lw=lw, linestyle='--')\n",
    "plt.xlim([0.0, 1.0])\n",
    "plt.ylim([0.0, 1.05])\n",
    "plt.xlabel('False Positive Rate')\n",
    "plt.ylabel('True Positive Rate')\n",
    "plt.title('Receiver operating characteristic')\n",
    "plt.legend(loc=\"lower right\")\n",
    "plt.show()"
   ]
  },
  {
   "cell_type": "markdown",
   "metadata": {},
   "source": [
    "### Cross validation"
   ]
  },
  {
   "cell_type": "code",
   "execution_count": 184,
   "metadata": {},
   "outputs": [
    {
     "name": "stdout",
     "output_type": "stream",
     "text": [
      "[ 0.90094227  0.87756441  0.88442271  0.90961951  0.88403507  0.85025048]\n",
      "mean: 0.8845, max: 0.9096, min: 0.8503, std: 0.0188\n"
     ]
    }
   ],
   "source": [
    "CV_SSS = model_selection.StratifiedShuffleSplit(n_splits = 6, test_size = 0.33, random_state=1)\n",
    "#for train_indices, test_indices in CV_SSS.split(X, y):\n",
    "    #print(train_indices, test_indices)\n",
    "    \n",
    "RF_classifier = RandomForestClassifier(max_depth=best_max_depth, random_state=3)\n",
    "RF_cross_val_scoring = cross_val_score(RF_classifier, X, y, scoring='roc_auc', cv=CV_SSS)\n",
    "print(RF_cross_val_scoring)\n",
    "print('mean: {:.4f}, max: {:.4f}, min: {:.4f}, std: {:.4f}'.format(RF_cross_val_scoring.mean(),\n",
    "                                                               RF_cross_val_scoring.max(), \n",
    "                                                               RF_cross_val_scoring.min(),\n",
    "                                                               RF_cross_val_scoring.std()))"
   ]
  },
  {
   "cell_type": "code",
   "execution_count": 185,
   "metadata": {
    "code_folding": []
   },
   "outputs": [
    {
     "data": {
      "text/plain": [
       "([4, 4, 3, 3, 3, 3, 5, 4, 6, 6, 5, 3, 6, 5, 4, 6, 3, 5, 4],\n",
       " array([[<matplotlib.axes._subplots.AxesSubplot object at 0x10fafc978>]], dtype=object))"
      ]
     },
     "execution_count": 185,
     "metadata": {},
     "output_type": "execute_result"
    },
    {
     "data": {
      "image/png": "[encoded data removed]",
      "text/plain": [
       "<matplotlib.figure.Figure at 0x10fafc898>"
      ]
     },
     "metadata": {},
     "output_type": "display_data"
    }
   ],
   "source": [
    "global_depth = []\n",
    "for j in range(1,20):\n",
    "    CV_SSS = model_selection.StratifiedShuffleSplit(n_splits = 6, test_size = 0.33, random_state=None)\n",
    "    auc_list = []\n",
    "    for i in range(1,10):\n",
    "        RF_classifier = RandomForestClassifier(max_depth=i, random_state=None)\n",
    "        RF_cross_val_scoring = cross_val_score(RF_classifier, X, y, scoring='roc_auc', cv=CV_SSS)\n",
    "        auc_list.append(RF_cross_val_scoring.mean())\n",
    "    best_max_depth = np.array(auc_list).argmax() + 1\n",
    "    #print('best max_depth = {}'.format(best_max_depth)) # 2\n",
    "    #print('roc-auc for it = {}'.format(np.array(auc_list).max()))\n",
    "    global_depth.append(best_max_depth)\n",
    "global_depth, pd.DataFrame(global_depth).hist()"
   ]
  },
  {
   "cell_type": "code",
   "execution_count": 194,
   "metadata": {},
   "outputs": [
    {
     "data": {
      "text/plain": [
       "RandomForestClassifier(bootstrap=True, class_weight=None, criterion='gini',\n",
       "            max_depth=3, max_features='auto', max_leaf_nodes=None,\n",
       "            min_impurity_decrease=0.0, min_impurity_split=None,\n",
       "            min_samples_leaf=1, min_samples_split=2,\n",
       "            min_weight_fraction_leaf=0.0, n_estimators=10, n_jobs=1,\n",
       "            oob_score=False, random_state=0, verbose=0, warm_start=False)"
      ]
     },
     "execution_count": 194,
     "metadata": {},
     "output_type": "execute_result"
    }
   ],
   "source": [
    "best_max_depth = 3\n",
    "RF_classifier.fit(X_train, y_train)"
   ]
  },
  {
   "cell_type": "markdown",
   "metadata": {},
   "source": [
    "### Predict on test data to submission"
   ]
  },
  {
   "cell_type": "code",
   "execution_count": 195,
   "metadata": {},
   "outputs": [
    {
     "name": "stdout",
     "output_type": "stream",
     "text": [
      "[ 0.00067797  0.00135402  0.04976017 ...,  0.16735064  0.00067797\n",
      "  0.05788644]\n"
     ]
    }
   ],
   "source": [
    "submission_prediction = RF_classifier.predict_proba(X_submission)[:,1]\n",
    "print(submission_prediction)"
   ]
  },
  {
   "cell_type": "code",
   "execution_count": 196,
   "metadata": {},
   "outputs": [
    {
     "data": {
      "text/html": [
       "<div>\n",
       "<style>\n",
       "    .dataframe thead tr:only-child th {\n",
       "        text-align: right;\n",
       "    }\n",
       "\n",
       "    .dataframe thead th {\n",
       "        text-align: left;\n",
       "    }\n",
       "\n",
       "    .dataframe tbody tr th {\n",
       "        vertical-align: top;\n",
       "    }\n",
       "</style>\n",
       "<table border=\"1\" class=\"dataframe\">\n",
       "  <thead>\n",
       "    <tr style=\"text-align: right;\">\n",
       "      <th></th>\n",
       "      <th>bidder_id</th>\n",
       "      <th>mean_time_diff</th>\n",
       "      <th>total_bids_count</th>\n",
       "      <th>total_auctions_count</th>\n",
       "      <th>mean_response</th>\n",
       "      <th>min_response</th>\n",
       "      <th>prediction</th>\n",
       "    </tr>\n",
       "  </thead>\n",
       "  <tbody>\n",
       "    <tr>\n",
       "      <th>0</th>\n",
       "      <td>49bb5a3c944b8fc337981cc7a9ccae41u31d7</td>\n",
       "      <td>444750.0000</td>\n",
       "      <td>4</td>\n",
       "      <td>3</td>\n",
       "      <td>16.7500</td>\n",
       "      <td>0.0</td>\n",
       "      <td>0.000678</td>\n",
       "    </tr>\n",
       "    <tr>\n",
       "      <th>1</th>\n",
       "      <td>a921612b85a1494456e74c09393ccb65ylp4y</td>\n",
       "      <td>722019.5000</td>\n",
       "      <td>3</td>\n",
       "      <td>2</td>\n",
       "      <td>371.3333</td>\n",
       "      <td>2.0</td>\n",
       "      <td>0.001354</td>\n",
       "    </tr>\n",
       "    <tr>\n",
       "      <th>2</th>\n",
       "      <td>6b601e72a4d264dab9ace9d7b229b47479v6i</td>\n",
       "      <td>345.6250</td>\n",
       "      <td>17</td>\n",
       "      <td>14</td>\n",
       "      <td>186.3529</td>\n",
       "      <td>0.0</td>\n",
       "      <td>0.049760</td>\n",
       "    </tr>\n",
       "    <tr>\n",
       "      <th>3</th>\n",
       "      <td>eaf0ed0afc9689779417274b4791726cn5udi</td>\n",
       "      <td>9890.5510</td>\n",
       "      <td>148</td>\n",
       "      <td>90</td>\n",
       "      <td>7762.0946</td>\n",
       "      <td>0.0</td>\n",
       "      <td>0.005289</td>\n",
       "    </tr>\n",
       "    <tr>\n",
       "      <th>4</th>\n",
       "      <td>cdecd8d02ed8c6037e38042c7745f688mx5sf</td>\n",
       "      <td>5678.2273</td>\n",
       "      <td>23</td>\n",
       "      <td>20</td>\n",
       "      <td>9168.6957</td>\n",
       "      <td>16.0</td>\n",
       "      <td>0.004820</td>\n",
       "    </tr>\n",
       "  </tbody>\n",
       "</table>\n",
       "</div>"
      ],
      "text/plain": [
       "                               bidder_id  mean_time_diff  total_bids_count  \\\n",
       "0  49bb5a3c944b8fc337981cc7a9ccae41u31d7     444750.0000                 4   \n",
       "1  a921612b85a1494456e74c09393ccb65ylp4y     722019.5000                 3   \n",
       "2  6b601e72a4d264dab9ace9d7b229b47479v6i        345.6250                17   \n",
       "3  eaf0ed0afc9689779417274b4791726cn5udi       9890.5510               148   \n",
       "4  cdecd8d02ed8c6037e38042c7745f688mx5sf       5678.2273                23   \n",
       "\n",
       "   total_auctions_count  mean_response  min_response  prediction  \n",
       "0                     3        16.7500           0.0    0.000678  \n",
       "1                     2       371.3333           2.0    0.001354  \n",
       "2                    14       186.3529           0.0    0.049760  \n",
       "3                    90      7762.0946           0.0    0.005289  \n",
       "4                    20      9168.6957          16.0    0.004820  "
      ]
     },
     "execution_count": 196,
     "metadata": {},
     "output_type": "execute_result"
    }
   ],
   "source": [
    "b_test['prediction'] = submission_prediction\n",
    "b_test.head()"
   ]
  },
  {
   "cell_type": "code",
   "execution_count": 197,
   "metadata": {},
   "outputs": [
    {
     "data": {
      "text/html": [
       "<div>\n",
       "<style>\n",
       "    .dataframe thead tr:only-child th {\n",
       "        text-align: right;\n",
       "    }\n",
       "\n",
       "    .dataframe thead th {\n",
       "        text-align: left;\n",
       "    }\n",
       "\n",
       "    .dataframe tbody tr th {\n",
       "        vertical-align: top;\n",
       "    }\n",
       "</style>\n",
       "<table border=\"1\" class=\"dataframe\">\n",
       "  <thead>\n",
       "    <tr style=\"text-align: right;\">\n",
       "      <th></th>\n",
       "      <th>bidder_id</th>\n",
       "      <th>prediction</th>\n",
       "    </tr>\n",
       "  </thead>\n",
       "  <tbody>\n",
       "    <tr>\n",
       "      <th>0</th>\n",
       "      <td>49bb5a3c944b8fc337981cc7a9ccae41u31d7</td>\n",
       "      <td>0.002804</td>\n",
       "    </tr>\n",
       "    <tr>\n",
       "      <th>1</th>\n",
       "      <td>a921612b85a1494456e74c09393ccb65ylp4y</td>\n",
       "      <td>0.002804</td>\n",
       "    </tr>\n",
       "    <tr>\n",
       "      <th>2</th>\n",
       "      <td>6b601e72a4d264dab9ace9d7b229b47479v6i</td>\n",
       "      <td>0.085325</td>\n",
       "    </tr>\n",
       "    <tr>\n",
       "      <th>3</th>\n",
       "      <td>eaf0ed0afc9689779417274b4791726cn5udi</td>\n",
       "      <td>0.042377</td>\n",
       "    </tr>\n",
       "    <tr>\n",
       "      <th>4</th>\n",
       "      <td>cdecd8d02ed8c6037e38042c7745f688mx5sf</td>\n",
       "      <td>0.002536</td>\n",
       "    </tr>\n",
       "  </tbody>\n",
       "</table>\n",
       "</div>"
      ],
      "text/plain": [
       "                               bidder_id  prediction\n",
       "0  49bb5a3c944b8fc337981cc7a9ccae41u31d7    0.002804\n",
       "1  a921612b85a1494456e74c09393ccb65ylp4y    0.002804\n",
       "2  6b601e72a4d264dab9ace9d7b229b47479v6i    0.085325\n",
       "3  eaf0ed0afc9689779417274b4791726cn5udi    0.042377\n",
       "4  cdecd8d02ed8c6037e38042c7745f688mx5sf    0.002536"
      ]
     },
     "execution_count": 197,
     "metadata": {},
     "output_type": "execute_result"
    }
   ],
   "source": [
    "b_test_RF = pd.read_csv('data/SubmissionRF2_3.csv')\n",
    "b_test_RF.head()"
   ]
  },
  {
   "cell_type": "code",
   "execution_count": 198,
   "metadata": {},
   "outputs": [],
   "source": [
    "for bidder in b_test_RF.bidder_id:\n",
    "    if (bidder in list(b_test.bidder_id)):\n",
    "        #print(bidder)\n",
    "        #print(np.array(b_test[b_test.bidder_id==bidder].prediction)[0])\n",
    "        b_test_RF.loc[b_test_RF[b_test_RF.bidder_id == bidder].index,\n",
    "                      'prediction'] = np.array(b_test[b_test.bidder_id==bidder].prediction)[0]"
   ]
  },
  {
   "cell_type": "code",
   "execution_count": 199,
   "metadata": {},
   "outputs": [],
   "source": [
    "b_test_RF.to_csv('data/SubmissionRF3_4.csv', sep=',', header=True, index=False)"
   ]
  },
  {
   "cell_type": "markdown",
   "metadata": {},
   "source": [
    "# other"
   ]
  },
  {
   "cell_type": "code",
   "execution_count": 23,
   "metadata": {},
   "outputs": [],
   "source": [
    "from sklearn.svm import SVC\n",
    "from sklearn.ensemble import AdaBoostClassifier\n",
    "from sklearn.ensemble import GradientBoostingClassifier\n",
    "from sklearn.ensemble import ExtraTreesClassifier\n",
    "from sklearn.naive_bayes import GaussianNB\n",
    "from sklearn.linear_model import LogisticRegression, BayesianRidge\n",
    "from sklearn.cluster import MiniBatchKMeans"
   ]
  },
  {
   "cell_type": "code",
   "execution_count": 80,
   "metadata": {},
   "outputs": [
    {
     "name": "stdout",
     "output_type": "stream",
     "text": [
      "accuracy = 0.9240506329113924\n",
      "roc-auc = 0.5\n"
     ]
    }
   ],
   "source": [
    "from sklearn.linear_model import SGDClassifier\n",
    "\n",
    "SGD_classifier = SGDClassifier(loss='modified_huber', penalty='l2',\n",
    "                               alpha=0.001, max_iter=1000, tol=1e-3)\n",
    "SGD_classifier.fit(X_train, y_train)\n",
    "\n",
    "print('accuracy = {}'.format(SGD_classifier.score(X_test, y_test)))\n",
    "\n",
    "y_score = SGD_classifier.predict_proba(X_test)\n",
    "auc_score = roc_auc_score(y_test_transformed, y_score, average='weighted')\n",
    "print('roc-auc = {}'.format(auc_score))"
   ]
  },
  {
   "cell_type": "code",
   "execution_count": 106,
   "metadata": {},
   "outputs": [
    {
     "data": {
      "text/plain": [
       "(553, 2)"
      ]
     },
     "execution_count": 106,
     "metadata": {},
     "output_type": "execute_result"
    }
   ],
   "source": [
    "# array = X_test.dot(SGD_classifier.coef_[0])\n",
    "# y_score = (array - array.min()) / (array.max() - array.min())\n",
    "# y_score = y_score.reshape((y_score.size,1))\n",
    "# y_score = np.hstack((y_score, 1 - y_score))\n",
    "# auc_score = roc_auc_score(y_test_transformed, y_score, average='weighted')\n",
    "# print('roc-auc = {}'.format(auc_score))"
   ]
  },
  {
   "cell_type": "markdown",
   "metadata": {},
   "source": [
    "# XGBoost"
   ]
  },
  {
   "cell_type": "code",
   "execution_count": 206,
   "metadata": {},
   "outputs": [],
   "source": [
    "__author__ = 'Markiian'\n",
    "import xgboost as xgb"
   ]
  },
  {
   "cell_type": "code",
   "execution_count": 220,
   "metadata": {},
   "outputs": [
    {
     "name": "stdout",
     "output_type": "stream",
     "text": [
      "X.shape = (2013, 5)\n",
      "y.shape = (2013,)\n",
      "X_submission.shape = (4700, 5)\n"
     ]
    }
   ],
   "source": [
    "full_features = ['mean_time_diff', 'total_bids_count', 'total_auctions_count', 'mean_response', 'min_response']\n",
    "features = ['mean_time_diff', 'total_bids_count', 'total_auctions_count', 'mean_response', 'min_response']\n",
    "target = ['outcome']\n",
    "\n",
    "X = np.array(b_train[features])\n",
    "y = np.array(b_train[target]).ravel()\n",
    "print('X.shape = {}\\ny.shape = {}'.format(X.shape, y.shape))\n",
    "\n",
    "X_submission = np.array(b_test[features])\n",
    "print('X_submission.shape = {}'.format(X_submission.shape))"
   ]
  },
  {
   "cell_type": "markdown",
   "metadata": {},
   "source": [
    "### Split data"
   ]
  },
  {
   "cell_type": "code",
   "execution_count": 221,
   "metadata": {},
   "outputs": [],
   "source": [
    "X_train, X_test, y_train, y_test = train_test_split(X, y, test_size=0.33, random_state=42)"
   ]
  },
  {
   "cell_type": "markdown",
   "metadata": {},
   "source": [
    "### Train model"
   ]
  },
  {
   "cell_type": "code",
   "execution_count": 225,
   "metadata": {},
   "outputs": [
    {
     "name": "stdout",
     "output_type": "stream",
     "text": [
      "[0]\teval-auc:0.871322\ttrain-auc:0.865817\n",
      "[1]\teval-auc:0.879813\ttrain-auc:0.886111\n",
      "[2]\teval-auc:0.89534\ttrain-auc:0.900631\n",
      "[3]\teval-auc:0.903016\ttrain-auc:0.92157\n",
      "[4]\teval-auc:0.898845\ttrain-auc:0.931282\n",
      "[5]\teval-auc:0.890625\ttrain-auc:0.936311\n",
      "[6]\teval-auc:0.890477\ttrain-auc:0.939708\n",
      "[7]\teval-auc:0.87969\ttrain-auc:0.942829\n",
      "[8]\teval-auc:0.879344\ttrain-auc:0.945929\n",
      "[9]\teval-auc:0.884454\ttrain-auc:0.947693\n"
     ]
    }
   ],
   "source": [
    "dtrain = xgb.DMatrix(X_train, label=y_train)\n",
    "dtest = xgb.DMatrix(X_test, label=y_test)\n",
    "\n",
    "#parameters of boosting\n",
    "param = {'max_depth': 2, 'eta': 1, 'silent': 1, \n",
    "         'objective': 'binary:logistic',\n",
    "         'nthread': 4, 'eval_metric': 'auc'}\n",
    "\n",
    "evallist = [(dtest, 'eval'), (dtrain, 'train')]\n",
    "\n",
    "num_round = 10\n",
    "bst = xgb.train(param, dtrain, num_round, evallist)"
   ]
  },
  {
   "cell_type": "markdown",
   "metadata": {},
   "source": [
    "### Predict on test data to submission"
   ]
  },
  {
   "cell_type": "code",
   "execution_count": null,
   "metadata": {},
   "outputs": [],
   "source": [
    "submission_data = xgb.DMatrix(X_submission)\n",
    "submission_prediction = bst.predict(submission_data)\n",
    "print(np.round(submission_prediction))\n",
    "print(submission_prediction)"
   ]
  },
  {
   "cell_type": "markdown",
   "metadata": {},
   "source": [
    "### Save into submission file"
   ]
  },
  {
   "cell_type": "code",
   "execution_count": null,
   "metadata": {
    "scrolled": true
   },
   "outputs": [],
   "source": [
    "X_submission = np.array([b_test.mean_time_diff, b_test.total_bids_count,\n",
    "                         b_test.total_auctions_count]).T\n",
    "print('X_submission.shape = {}'.format(X_submission.shape))"
   ]
  },
  {
   "cell_type": "code",
   "execution_count": null,
   "metadata": {
    "scrolled": true
   },
   "outputs": [],
   "source": [
    "b_test['prediction'] = submission_prediction #np.round(submission_prediction)\n",
    "b_test.head()"
   ]
  },
  {
   "cell_type": "code",
   "execution_count": null,
   "metadata": {},
   "outputs": [],
   "source": [
    "b_test[['bidder_id','prediction']].to_csv('data/SubmissionXGBoost.csv', sep=',', header=True, index=False)"
   ]
  },
  {
   "cell_type": "code",
   "execution_count": null,
   "metadata": {},
   "outputs": [],
   "source": [
    "b_test[['bidder_id','prediction']].to_csv('data/SubmissionRF.csv', sep=',', header=True, index=False)"
   ]
  },
  {
   "cell_type": "code",
   "execution_count": null,
   "metadata": {},
   "outputs": [],
   "source": []
  }
 ],
 "metadata": {
  "kernelspec": {
   "display_name": "Python 3",
   "language": "python",
   "name": "python3"
  },
  "language_info": {
   "codemirror_mode": {
    "name": "ipython",
    "version": 3
   },
   "file_extension": ".py",
   "mimetype": "text/x-python",
   "name": "python",
   "nbconvert_exporter": "python",
   "pygments_lexer": "ipython3",
   "version": "3.6.1"
  }
 },
 "nbformat": 4,
 "nbformat_minor": 2
}
