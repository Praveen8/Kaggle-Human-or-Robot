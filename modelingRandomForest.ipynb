{
 "cells": [
  {
   "cell_type": "code",
   "execution_count": null,
   "metadata": {},
   "outputs": [],
   "source": [
    "import numpy as np\n",
    "import pandas as pd \n",
    "from matplotlib import pyplot as plt"
   ]
  },
  {
   "cell_type": "code",
   "execution_count": null,
   "metadata": {},
   "outputs": [],
   "source": [
    "from sklearn.model_selection import train_test_split, StratifiedShuffleSplit, cross_val_score\n",
    "from sklearn.metrics import roc_curve, auc, roc_auc_score, accuracy_score\n",
    "from sklearn.model_selection import GridSearchCV, RandomizedSearchCV"
   ]
  },
  {
   "cell_type": "markdown",
   "metadata": {},
   "source": [
    "# Import train & test data"
   ]
  },
  {
   "cell_type": "code",
   "execution_count": null,
   "metadata": {
    "scrolled": true
   },
   "outputs": [],
   "source": [
    "b_train = pd.read_csv('data/b_train.csv')\n",
    "print('b_train: OK: {}'.format(b_train.shape))\n",
    "#b_train.head()\n",
    "#b_train.describe()"
   ]
  },
  {
   "cell_type": "code",
   "execution_count": null,
   "metadata": {
    "scrolled": true
   },
   "outputs": [],
   "source": [
    "b_test = pd.read_csv('data/b_test.csv')\n",
    "print('b_test: OK: {}'.format(b_test.shape))\n",
    "#b_test.head()\n",
    "#b_test.describe()"
   ]
  },
  {
   "cell_type": "markdown",
   "metadata": {},
   "source": [
    "## Prepare & split data for visualisation"
   ]
  },
  {
   "cell_type": "code",
   "execution_count": null,
   "metadata": {},
   "outputs": [],
   "source": [
    "b_train = b_train.dropna()\n",
    "b_test = b_test.dropna()\n",
    "\n",
    "# Features in order of importance:'total_bids','bids_per_auction','mean_time_diff', 'total_auctions', 'ip_entropy', 'url_entropy', 'min_response', 'mean_response'\n",
    "\n",
    "all_features = ['total_bids','total_auctions','bids_per_auction',\n",
    "                'mean_time_diff', 'mean_response', 'min_response',\n",
    "                'ip_entropy', 'url_entropy']\n",
    "\n",
    "features = ['total_bids', 'total_auctions', 'bids_per_auction', 'mean_time_diff', 'ip_entropy', 'url_entropy']\n",
    "target = ['outcome']\n",
    "\n",
    "X = np.array(b_train[features])\n",
    "y = np.array(b_train[target]).ravel()\n",
    "print('X.shape = {}\\ny.shape = {}'.format(X.shape, y.shape))\n",
    "\n",
    "X_submission = np.array(b_test[features])\n",
    "print('X_submission.shape = {}'.format(X_submission.shape))"
   ]
  },
  {
   "cell_type": "code",
   "execution_count": null,
   "metadata": {},
   "outputs": [],
   "source": [
    "X_train, X_test, y_train, y_test = train_test_split(X, y, test_size=0.33, random_state=42)\n",
    "\n",
    "y_test_transformed = np.hstack((1 - y_test.reshape(y_test.size,1),\n",
    "                                y_test.reshape(y_test.size,1)))"
   ]
  },
  {
   "cell_type": "markdown",
   "metadata": {},
   "source": [
    "---\n",
    "# Random Forest"
   ]
  },
  {
   "cell_type": "code",
   "execution_count": null,
   "metadata": {},
   "outputs": [],
   "source": [
    "from sklearn.ensemble import RandomForestClassifier\n",
    "\n",
    "param = {\n",
    "         'bootstrap': True,\n",
    "         'class_weight': 'balanced'\n",
    "        }"
   ]
  },
  {
   "cell_type": "code",
   "execution_count": null,
   "metadata": {},
   "outputs": [],
   "source": [
    "'''\n",
    "auc_list = []\n",
    "for i in range(1,10):\n",
    "    RF_classifier = RandomForestClassifier(max_depth=i, random_state=0)\n",
    "    RF_classifier.fit(X_train, y_train)\n",
    "    auc_list.append(roc_auc_score(y_test_transformed, RF_classifier.predict_proba(X_test), average='weighted'))\n",
    "best_max_depth = np.array(auc_list).argmax() + 1\n",
    "print('best max_depth = {}'.format(best_max_depth)) # 2\n",
    "print('roc-auc for it = {}'.format(np.array(auc_list).max()))\n",
    "'''"
   ]
  },
  {
   "cell_type": "markdown",
   "metadata": {},
   "source": [
    "### Cross validation (just testing)"
   ]
  },
  {
   "cell_type": "code",
   "execution_count": null,
   "metadata": {},
   "outputs": [],
   "source": [
    "CV_SSS = StratifiedShuffleSplit(n_splits = 5, test_size = 0.33, random_state=None)\n",
    "#for train_indices, test_indices in CV_SSS.split(X, y):\n",
    "    #print(train_indices, test_indices)\n",
    "    \n",
    "RF_classifier = RandomForestClassifier(max_depth=3, random_state=None)\n",
    "RF_cross_val_scoring = cross_val_score(RF_classifier, X, y, scoring='roc_auc', cv=CV_SSS)\n",
    "print(RF_cross_val_scoring)\n",
    "print('mean: {:.4f}, max: {:.4f}, min: {:.4f}, std: {:.4f}'.format(RF_cross_val_scoring.mean(),\n",
    "                                                               RF_cross_val_scoring.max(), \n",
    "                                                               RF_cross_val_scoring.min(),\n",
    "                                                               RF_cross_val_scoring.std()))"
   ]
  },
  {
   "cell_type": "markdown",
   "metadata": {},
   "source": [
    "### Hyperparameters"
   ]
  },
  {
   "cell_type": "markdown",
   "metadata": {},
   "source": [
    "Choose the parameter max_depth"
   ]
  },
  {
   "cell_type": "code",
   "execution_count": null,
   "metadata": {
    "code_folding": [],
    "scrolled": false
   },
   "outputs": [],
   "source": [
    "global_depth = []\n",
    "for j in range(20):\n",
    "    CV_SSS = StratifiedShuffleSplit(n_splits = 6, test_size = 0.33, random_state=None)\n",
    "    auc_list = []\n",
    "    for i in range(2,8):\n",
    "        RF_classifier = RandomForestClassifier(max_depth=i, random_state=None)\n",
    "        RF_cross_val_scoring = cross_val_score(RF_classifier, X, y, scoring='roc_auc', cv=CV_SSS)\n",
    "        auc_list.append(RF_cross_val_scoring.mean())\n",
    "    best_max_depth = np.array(auc_list).argmax() + 1\n",
    "    #print('best max_depth = {}'.format(best_max_depth)) # 2\n",
    "    #print('roc-auc for it = {}'.format(np.array(auc_list).max()))\n",
    "    global_depth.append(best_max_depth)\n",
    "global_depth, pd.DataFrame(global_depth).hist()"
   ]
  },
  {
   "cell_type": "code",
   "execution_count": null,
   "metadata": {},
   "outputs": [],
   "source": [
    "best_max_depth = pd.DataFrame(global_depth).mode()[0][0]\n",
    "best_max_depth"
   ]
  },
  {
   "cell_type": "code",
   "execution_count": null,
   "metadata": {},
   "outputs": [],
   "source": [
    "'''\n",
    "CV_SSS = StratifiedShuffleSplit(n_splits = 5, test_size = 0.33, random_state=42)\n",
    "#for i in range(1,100):\n",
    "RF_classifier = RandomForestClassifier(max_depth=best_max_depth, random_state=0)\n",
    "RF_cross_val_scoring = cross_val_score(RF_classifier, X, y, scoring='roc_auc', cv=CV_SSS)\n",
    "print(RF_cross_val_scoring)\n",
    "print('mean: {:.4f}, max: {:.4f}, min: {:.4f}, std: {:.4f}'.format(RF_cross_val_scoring.mean(),\n",
    "                                                               RF_cross_val_scoring.max(), \n",
    "                                                               RF_cross_val_scoring.min(),\n",
    "                                                               RF_cross_val_scoring.std()))\n",
    "\n",
    "global_aucs = []\n",
    "for j in range(20):\n",
    "    CV_SSS = StratifiedShuffleSplit(n_splits = 6, test_size = 0.33, random_state=None)\n",
    "    auc_list = []\n",
    "    for i in range(20):\n",
    "        RF_classifier = RandomForestClassifier(max_depth=best_max_depth, random_state=i)\n",
    "        RF_cross_val_scoring = cross_val_score(RF_classifier, X, y, scoring='roc_auc', cv=CV_SSS)\n",
    "        auc_list.append(RF_cross_val_scoring.mean())\n",
    "    #best_max_depth = np.array(auc_list).argmax() + 1\n",
    "    global_aucs.append(auc_list)\n",
    "#global_depth, pd.DataFrame(global_depth).hist()\n",
    "\n",
    "best_random_state = np.array(global_aucs).mean(axis=0).argmax()\n",
    "best_random_state\n",
    "random_states = np.unravel_index(rs, np.array(global_aucs).shape)\n",
    "'''"
   ]
  },
  {
   "cell_type": "markdown",
   "metadata": {},
   "source": [
    "### Cross validation"
   ]
  },
  {
   "cell_type": "code",
   "execution_count": null,
   "metadata": {},
   "outputs": [],
   "source": [
    "CV_SSS = StratifiedShuffleSplit(n_splits = 5, test_size = 0.33, random_state=None)\n",
    "#for train_indices, test_indices in CV_SSS.split(X, y):\n",
    "    #print(train_indices, test_indices)\n",
    "    \n",
    "RF_classifier = RandomForestClassifier(max_depth=best_max_depth, random_state=None)\n",
    "RF_cross_val_scoring = cross_val_score(RF_classifier, X, y, scoring='roc_auc', cv=CV_SSS)\n",
    "print(RF_cross_val_scoring)\n",
    "print('mean: {:.4f}, max: {:.4f}, min: {:.4f}, std: {:.4f}'.format(RF_cross_val_scoring.mean(),\n",
    "                                                               RF_cross_val_scoring.max(), \n",
    "                                                               RF_cross_val_scoring.min(),\n",
    "                                                               RF_cross_val_scoring.std()))"
   ]
  },
  {
   "cell_type": "markdown",
   "metadata": {},
   "source": [
    "### ROC curve on test data (from train_test_split)"
   ]
  },
  {
   "cell_type": "code",
   "execution_count": null,
   "metadata": {},
   "outputs": [],
   "source": [
    "RF_classifier.fit(X_train, y_train)\n",
    "\n",
    "print(RF_classifier.feature_importances_)\n",
    "\n",
    "#y_pred = RF_classifier.predict(X_test)\n",
    "#acc_score = accuracy_score(y_test, y_pred)\n",
    "#print('accuracy = {}'.format(acc_score))\n",
    "\n",
    "y_score = RF_classifier.predict_proba(X_test)\n",
    "auc_score = roc_auc_score(y_test_transformed, y_score, average='weighted')\n",
    "print('roc-auc = {}'.format(auc_score))"
   ]
  },
  {
   "cell_type": "code",
   "execution_count": null,
   "metadata": {},
   "outputs": [],
   "source": [
    "fpr = dict()\n",
    "tpr = dict()\n",
    "roc_auc = dict()\n",
    "for i in range(2):\n",
    "    fpr[i], tpr[i], _ = roc_curve(y_test_transformed[:, i], y_score[:, i])\n",
    "    roc_auc[i] = auc(fpr[i], tpr[i])\n",
    "\n",
    "# Compute micro-average ROC curve and ROC area for 1\n",
    "plt.figure()\n",
    "lw = 2\n",
    "plt.plot(fpr[1], tpr[1], color='darkorange',\n",
    "         lw=lw, label='ROC curve (area = %0.2f)' % roc_auc[1])\n",
    "plt.plot([0, 1], [0, 1], color='navy', lw=lw, linestyle='--')\n",
    "plt.xlim([0.0, 1.0])\n",
    "plt.ylim([0.0, 1.05])\n",
    "plt.xlabel('False Positive Rate')\n",
    "plt.ylabel('True Positive Rate')\n",
    "plt.title('Receiver operating characteristic')\n",
    "plt.legend(loc=\"lower right\")\n",
    "plt.show()"
   ]
  },
  {
   "cell_type": "markdown",
   "metadata": {},
   "source": [
    "### Predict on test data (to submission) "
   ]
  },
  {
   "cell_type": "code",
   "execution_count": null,
   "metadata": {},
   "outputs": [],
   "source": [
    "RF_classifier.fit(X, y)\n",
    "submission_prediction = RF_classifier.predict_proba(X_submission)[:,1]\n",
    "print(submission_prediction)"
   ]
  },
  {
   "cell_type": "code",
   "execution_count": null,
   "metadata": {},
   "outputs": [],
   "source": [
    "b_test['prediction'] = submission_prediction\n",
    "b_test.head()"
   ]
  },
  {
   "cell_type": "code",
   "execution_count": null,
   "metadata": {},
   "outputs": [],
   "source": [
    "b_test_RF = pd.read_csv('data/SubmissionRF2_3.csv')\n",
    "b_test_RF.head()"
   ]
  },
  {
   "cell_type": "code",
   "execution_count": null,
   "metadata": {},
   "outputs": [],
   "source": [
    "for bidder in b_test_RF.bidder_id:\n",
    "    if (bidder in list(b_test.bidder_id)):\n",
    "        #print(bidder)\n",
    "        #print(np.array(b_test[b_test.bidder_id==bidder].prediction)[0])\n",
    "        b_test_RF.loc[b_test_RF[b_test_RF.bidder_id == bidder].index,\n",
    "                      'prediction'] = np.array(b_test[b_test.bidder_id==bidder].prediction)[0]"
   ]
  },
  {
   "cell_type": "code",
   "execution_count": null,
   "metadata": {},
   "outputs": [],
   "source": [
    "b_test_RF.to_csv('data/SubmissionRF3_6.csv', sep=',', header=True, index=False)"
   ]
  }
 ],
 "metadata": {
  "kernelspec": {
   "display_name": "Python 3",
   "language": "python",
   "name": "python3"
  },
  "language_info": {
   "codemirror_mode": {
    "name": "ipython",
    "version": 3
   },
   "file_extension": ".py",
   "mimetype": "text/x-python",
   "name": "python",
   "nbconvert_exporter": "python",
   "pygments_lexer": "ipython3",
   "version": "3.6.1"
  }
 },
 "nbformat": 4,
 "nbformat_minor": 2
}
